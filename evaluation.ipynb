{
 "cells": [
  {
   "cell_type": "code",
   "execution_count": null,
   "id": "040243bd-1a68-487f-85fd-0273a39d1558",
   "metadata": {},
   "outputs": [],
   "source": [
    "import sys\n",
    "import os\n",
    "sys.path.append('/g/data/jk72/ll6859/ACCESS_aero_eval/')\n",
    "from aercode import *\n",
    "import matplotlib \n",
    "import matplotlib.pyplot as plt \n",
    "import pandas as pd\n",
    "import numpy as np\n",
    "import xarray as xr\n",
    "import glob as gb\n",
    "import cartopy.crs as ccrs\n",
    "import seaborn as sns\n",
    "import scipy.special\n",
    "from datetime import datetime\n",
    "\n",
    "import dask\n",
    "import warnings\n",
    "from dask.distributed import Client"
   ]
  },
  {
   "cell_type": "code",
   "execution_count": null,
   "id": "d0d6daab-bbaa-403f-958e-e88b9e93eb4b",
   "metadata": {},
   "outputs": [],
   "source": [
    "plt.style.use('default')\n",
    "warnings.filterwarnings('ignore')"
   ]
  },
  {
   "cell_type": "markdown",
   "id": "38168d37-e132-4cbb-bbe0-ba314643d475",
   "metadata": {},
   "source": [
    "## Table of Contents: <a class=\"anchor\" id=\"top\"></a>\n",
    "* [Overall Evaluation](#first-bullet)\n",
    "* [Regional Evaluation](#second-bullet)\n",
    "* [Temporal Evaluation](#third-bullet)\n",
    "* [Radon Evaluation](#fourth-bullet)\n",
    "* [BLN Evaluation](#fifth-bullet)"
   ]
  },
  {
   "cell_type": "markdown",
   "id": "e9f0d2d7-1918-423f-a56e-7534abfd0ded",
   "metadata": {},
   "source": [
    "# Load in data"
   ]
  },
  {
   "cell_type": "markdown",
   "id": "96308e27-a97c-4244-b3a1-487ca039ca5b",
   "metadata": {},
   "source": [
    "# Overall Evaluation <a class=\"anchor\" id=\"first-bullet\"></a>\n",
    "* [Back to Top](#top)"
   ]
  },
  {
   "cell_type": "markdown",
   "id": "7f2ed6a9-3874-4252-8889-20a717e25a0d",
   "metadata": {},
   "source": [
    "## Regional Evaluation <a class=\"anchor\" id=\"second-bullet\"></a>\n",
    "* [Back to Top](#top)"
   ]
  },
  {
   "cell_type": "markdown",
   "id": "a6f21ea2-1ce0-41e5-9e98-a19fe484bd10",
   "metadata": {},
   "source": [
    "## Temporal Evaluation <a class=\"anchor\" id=\"third-bullet\"></a>\n",
    "* [Back to Top](#top)"
   ]
  },
  {
   "cell_type": "markdown",
   "id": "c5ab1f4c-a906-40d9-8035-4030afb375d6",
   "metadata": {},
   "source": [
    "## Radon Evaluation <a class=\"anchor\" id=\"fourth-bullet\"></a>\n",
    "* [Back to Top](#top)"
   ]
  },
  {
   "cell_type": "markdown",
   "id": "029de5f9-27e0-41a9-b336-5e6e815624d1",
   "metadata": {},
   "source": [
    "## BLN Evaluation <a class=\"anchor\" id=\"fifth-bullet\"></a>\n",
    "* [Back to Top](#top)"
   ]
  },
  {
   "cell_type": "code",
   "execution_count": null,
   "id": "227103a3-a580-43af-8912-e39ef9c69bde",
   "metadata": {},
   "outputs": [],
   "source": []
  }
 ],
 "metadata": {
  "kernelspec": {
   "display_name": "Python [conda env:analysis3-22.04]",
   "language": "python",
   "name": "conda-env-analysis3-22.04-py"
  },
  "language_info": {
   "codemirror_mode": {
    "name": "ipython",
    "version": 3
   },
   "file_extension": ".py",
   "mimetype": "text/x-python",
   "name": "python",
   "nbconvert_exporter": "python",
   "pygments_lexer": "ipython3",
   "version": "3.9.13"
  }
 },
 "nbformat": 4,
 "nbformat_minor": 5
}
