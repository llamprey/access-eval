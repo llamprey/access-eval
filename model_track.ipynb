{
 "cells": [
  {
   "cell_type": "code",
   "execution_count": 1,
   "id": "8f44c7ed-28c6-4208-aed2-ac7c4a84e2a7",
   "metadata": {},
   "outputs": [],
   "source": [
    "import sys\n",
    "import os\n",
    "sys.path.append('/g/data/jk72/ll6859/ACCESS_aero_eval/')\n",
    "from aercode import *\n",
    "import matplotlib \n",
    "import matplotlib.pyplot as plt \n",
    "import pandas as pd\n",
    "import numpy as np\n",
    "import xarray as xr\n",
    "import glob as gb\n",
    "import cartopy.crs as ccrs\n",
    "import seaborn as sns\n",
    "import scipy.special\n",
    "import datetime as dt\n",
    "\n",
    "import dask\n",
    "import warnings\n",
    "from dask.distributed import Client"
   ]
  },
  {
   "cell_type": "code",
   "execution_count": 2,
   "id": "5a13b51f-585a-485d-be9f-d030bff02a1c",
   "metadata": {},
   "outputs": [],
   "source": [
    "plt.style.use('default')\n",
    "warnings.filterwarnings('ignore')"
   ]
  },
  {
   "cell_type": "markdown",
   "id": "169d9f2a-507a-4262-b725-c6709443ce28",
   "metadata": {
    "tags": []
   },
   "source": [
    "## RVInvestigator"
   ]
  },
  {
   "cell_type": "code",
   "execution_count": 3,
   "id": "8bce48e7-d979-41de-9f1c-94330942a924",
   "metadata": {},
   "outputs": [],
   "source": [
    "f_path = '/g/data/jk72/ll6859/ACCESS_aero_eval/RVInvestigator/'\n",
    "uw = keycutter(f_path+'rvigaw_cn10_2016to2019_L2.csv', 'datetime', 'latitude', 'longitude')\n",
    "uw = uw.dropna()"
   ]
  },
  {
   "cell_type": "markdown",
   "id": "02b39c00-fd5c-40f6-919a-a4af343a8cd8",
   "metadata": {
    "tags": []
   },
   "source": [
    "bx400"
   ]
  },
  {
   "cell_type": "code",
   "execution_count": 4,
   "id": "5c7eeb8c-23be-47a3-aa37-722bd5da6c15",
   "metadata": {},
   "outputs": [],
   "source": [
    "# extract aerosol data\n",
    "m_path = '/g/data/jk72/slf563/ACCESS/output/bx400/daily/'\n",
    "mod = 'bx400a'\n",
    "dt = 'pd.sh'\n",
    "key = uw\n",
    "\n",
    "aertrack = df_md(key, m_path, mod, dt)\n",
    "\n",
    "# extract meteorology data\n",
    "m_path = '/g/data/jk72/slf563/ACCESS/output/bx400/daily/'\n",
    "mod = 'bx400a'\n",
    "dt = 'pd.glob'\n",
    "key = uw\n",
    "\n",
    "mettrack = df_md(key, m_path, mod, dt)\n",
    "\n",
    "# calculate air density from temperature\n",
    "mettrack = calc_density(mettrack)\n",
    "\n",
    "# convert aerosol units\n",
    "aertrack = aero_unit_conversions(aertrack, mettrack)\n",
    "\n",
    "# select data at 20m\n",
    "aertrack = aertrack.isel(z1_hybrid_height=0).expand_dims('z1_hybrid_height').transpose()\n",
    "mettrack = mettrack.isel(z1_hybrid_height=0, z0_hybrid_height=0).expand_dims('z1_hybrid_height').transpose()\n",
    "mettrack = mettrack.drop('z0_hybrid_height')\n",
    "\n",
    "# calculate aerosol number concentrations\n",
    "aertrack = nt_calcs(aertrack)\n",
    "\n",
    "# calculate CCN number concentrations\n",
    "aertrack = ccn_calcs(aertrack)"
   ]
  },
  {
   "cell_type": "code",
   "execution_count": 5,
   "id": "a829d64a-9c38-4a58-9bc9-2255af01d3dc",
   "metadata": {},
   "outputs": [],
   "source": [
    "# merge the aerosol and meteorology data together\n",
    "rvi_track = xr.merge([aertrack,mettrack])\n",
    "\n",
    "rvi_track = rvi_track[['lat','lon','N3','N10','CCN40','CCN50','CCN60','uas','vas','psl','pr','tempk']]\n",
    "\n",
    "# remove time component from datetime coordinate\n",
    "rvi_track['time'] = rvi_track.indexes['time'].normalize()"
   ]
  },
  {
   "cell_type": "code",
   "execution_count": 6,
   "id": "28e8e3e7-d2c8-437f-8654-e0daaaa9b334",
   "metadata": {},
   "outputs": [],
   "source": [
    "rvi_track.load().to_netcdf(path=f_path+'rvi1619_bx400_track.nc')"
   ]
  },
  {
   "cell_type": "markdown",
   "id": "54135a5e-5922-41a7-9555-963242be6690",
   "metadata": {},
   "source": [
    "cg283"
   ]
  },
  {
   "cell_type": "code",
   "execution_count": 7,
   "id": "2fe7f81d-ce9a-4668-ad6c-3306e1f7211b",
   "metadata": {},
   "outputs": [],
   "source": [
    "# extract aerosol data\n",
    "m_path = '/g/data/jk72/slf563/ACCESS/output/cg283/daily/'\n",
    "mod = 'cg283a'\n",
    "dt = 'pd.sh'\n",
    "key = uw\n",
    "\n",
    "aertrack = df_md(key, m_path, mod, dt)\n",
    "\n",
    "# extract meteorology data\n",
    "m_path = '/g/data/jk72/slf563/ACCESS/output/cg283/daily/'\n",
    "mod = 'cg283a'\n",
    "dt = 'pd.glob'\n",
    "key = uw\n",
    "\n",
    "mettrack = df_md(key, m_path, mod, dt)\n",
    "\n",
    "# calculate air density from temperature\n",
    "mettrack = calc_density(mettrack)\n",
    "\n",
    "# convert aerosol units\n",
    "aertrack = aero_unit_conversions(aertrack, mettrack)\n",
    "\n",
    "# select data at 20m\n",
    "aertrack = aertrack.isel(z1_hybrid_height=0).expand_dims('z1_hybrid_height').transpose()\n",
    "mettrack = mettrack.isel(z1_hybrid_height=0, z0_hybrid_height=0).expand_dims('z1_hybrid_height').transpose()\n",
    "mettrack = mettrack.drop('z0_hybrid_height')\n",
    "\n",
    "# calculate aerosol number concentrations\n",
    "aertrack = nt_calcs(aertrack)\n",
    "\n",
    "# calculate CCN number concentrations\n",
    "aertrack = ccn_calcs(aertrack)"
   ]
  },
  {
   "cell_type": "code",
   "execution_count": 8,
   "id": "95e84fd2-06d4-41c0-8eea-8b5b13dfbb12",
   "metadata": {},
   "outputs": [],
   "source": [
    "# merge the aerosol and meteorology data together\n",
    "rvi_track = xr.merge([aertrack,mettrack])\n",
    "\n",
    "rvi_track = rvi_track[['lat','lon','N3','N10','CCN40','CCN50','CCN60','uas','vas','psl','pr','tempk']]\n",
    "\n",
    "# remove time component from datetime coordinate, invert datetime order\n",
    "rvi_track['time'] = rvi_track.indexes['time'].normalize()\n",
    "rvi_track['time'] = rvi_track['time'][::-1]"
   ]
  },
  {
   "cell_type": "code",
   "execution_count": 9,
   "id": "4402420f-4650-449b-9e59-aea162ed881c",
   "metadata": {},
   "outputs": [],
   "source": [
    "rvi_track.load().to_netcdf(path='/g/data/jk72/ll6859/rvi1619_cg283_track.nc')"
   ]
  },
  {
   "cell_type": "markdown",
   "id": "6e66da02-7fac-4a79-bf31-3570e2e03842",
   "metadata": {
    "tags": []
   },
   "source": [
    "# Cold Water Trial"
   ]
  },
  {
   "cell_type": "code",
   "execution_count": 10,
   "id": "fb8c94f7-219f-48dc-b2d4-664b0fe93ce5",
   "metadata": {},
   "outputs": [],
   "source": [
    "f_path = '/g/data/jk72/ll6859/ACCESS_aero_eval/ColdWaterTrial/'\n",
    "uw = keycutter(f_path+'CWT_ProcessedAerosolData_1min.csv', 'date', 'lat', 'lon')\n",
    "uw = uw.dropna()"
   ]
  },
  {
   "cell_type": "markdown",
   "id": "2da37a21-bb80-460f-9c1e-53a980d857b4",
   "metadata": {},
   "source": [
    "bx400"
   ]
  },
  {
   "cell_type": "code",
   "execution_count": 11,
   "id": "fa340acc-9ac1-4236-81fb-31872463719b",
   "metadata": {},
   "outputs": [],
   "source": [
    "# extract aerosol data\n",
    "m_path = '/g/data/jk72/slf563/ACCESS/output/bx400/daily/'\n",
    "mod = 'bx400a'\n",
    "dt = 'pd.sh'\n",
    "key = uw\n",
    "\n",
    "aertrack = df_md(key, m_path, mod, dt)\n",
    "\n",
    "# extract meteorology data\n",
    "m_path = '/g/data/jk72/slf563/ACCESS/output/bx400/daily/'\n",
    "mod = 'bx400a'\n",
    "dt = 'pd.glob'\n",
    "key = uw\n",
    "\n",
    "mettrack = df_md(key, m_path, mod, dt)\n",
    "\n",
    "# calculate air density from temperature\n",
    "mettrack = calc_density(mettrack)\n",
    "\n",
    "# convert aerosol units\n",
    "aertrack = aero_unit_conversions(aertrack, mettrack)\n",
    "\n",
    "# select data at 20m\n",
    "aertrack = aertrack.isel(z1_hybrid_height=0).expand_dims('z1_hybrid_height').transpose()\n",
    "mettrack = mettrack.isel(z1_hybrid_height=0, z0_hybrid_height=0).expand_dims('z1_hybrid_height').transpose()\n",
    "mettrack = mettrack.drop('z0_hybrid_height')\n",
    "\n",
    "# calculate aerosol number concentrations\n",
    "aertrack = nt_calcs(aertrack)\n",
    "\n",
    "# calculate CCN number concentrations\n",
    "aertrack = ccn_calcs(aertrack)"
   ]
  },
  {
   "cell_type": "code",
   "execution_count": 12,
   "id": "173b210e-e26b-4625-9a79-fddd86aa3e6d",
   "metadata": {},
   "outputs": [],
   "source": [
    "# merge the aerosol and meteorology data together\n",
    "cwt_track = xr.merge([aertrack,mettrack])\n",
    "\n",
    "cwt_track = cwt_track[['lat','lon','N3','N10','CCN40','CCN50','CCN60','uas','vas','psl','pr','tempk']]\n",
    "\n",
    "# remove time component from datetime coordinate\n",
    "cwt_track['time'] = cwt_track.indexes['time'].normalize()"
   ]
  },
  {
   "cell_type": "code",
   "execution_count": 13,
   "id": "f84d1b2f-a1c2-41d4-9792-1157c42cc553",
   "metadata": {},
   "outputs": [],
   "source": [
    "cwt_track.load().to_netcdf(path=f_path+'cwt15_bx400_track.nc')"
   ]
  },
  {
   "cell_type": "markdown",
   "id": "7a30e055-a86b-4964-8ee7-a14d28a6ed3a",
   "metadata": {},
   "source": [
    "cg283"
   ]
  },
  {
   "cell_type": "code",
   "execution_count": 14,
   "id": "311c882d-1fb4-4d9a-933d-6f87b6745887",
   "metadata": {},
   "outputs": [],
   "source": [
    "# extract aerosol data\n",
    "m_path = '/g/data/jk72/slf563/ACCESS/output/cg283/daily/'\n",
    "mod = 'cg283a'\n",
    "dt = 'pd.sh'\n",
    "key = uw\n",
    "\n",
    "aertrack = df_md(key, m_path, mod, dt)\n",
    "\n",
    "# extract meteorology data\n",
    "m_path = '/g/data/jk72/slf563/ACCESS/output/cg283/daily/'\n",
    "mod = 'cg283a'\n",
    "dt = 'pd.glob'\n",
    "key = uw\n",
    "\n",
    "mettrack = df_md(key, m_path, mod, dt)\n",
    "\n",
    "# calculate air density from temperature\n",
    "mettrack = calc_density(mettrack)\n",
    "\n",
    "# convert aerosol units\n",
    "aertrack = aero_unit_conversions(aertrack, mettrack)\n",
    "\n",
    "# select data at 20m\n",
    "aertrack = aertrack.isel(z1_hybrid_height=0).expand_dims('z1_hybrid_height').transpose()\n",
    "mettrack = mettrack.isel(z1_hybrid_height=0, z0_hybrid_height=0).expand_dims('z1_hybrid_height').transpose()\n",
    "mettrack = mettrack.drop('z0_hybrid_height')\n",
    "\n",
    "# calculate aerosol number concentrations\n",
    "aertrack = nt_calcs(aertrack)\n",
    "\n",
    "# calculate CCN number concentrations\n",
    "aertrack = ccn_calcs(aertrack)"
   ]
  },
  {
   "cell_type": "code",
   "execution_count": 15,
   "id": "e91f8993-f516-4cd6-bb76-88887c0fdcc7",
   "metadata": {},
   "outputs": [],
   "source": [
    "# merge the aerosol and meteorology data together\n",
    "cwt_track = xr.merge([aertrack,mettrack])\n",
    "\n",
    "cwt_track = cwt_track[['lat','lon','N3','N10','CCN40','CCN50','CCN60','uas','vas','psl','pr','tempk']]\n",
    "\n",
    "# remove time component from datetime coordinate\n",
    "cwt_track['time'] = cwt_track.indexes['time'].normalize()"
   ]
  },
  {
   "cell_type": "code",
   "execution_count": 16,
   "id": "3a7c6718-59c5-4981-aa20-bacdb969eaef",
   "metadata": {},
   "outputs": [],
   "source": [
    "cwt_track.load().to_netcdf(path=f_path+'cwt15_cg283_track.nc')"
   ]
  },
  {
   "cell_type": "markdown",
   "id": "40877165-2d33-492b-8655-257e9dbac30f",
   "metadata": {},
   "source": [
    "# Reef 2 Rainforest"
   ]
  },
  {
   "cell_type": "code",
   "execution_count": 17,
   "id": "d607d6a4-2545-4ac9-8634-c5bb3ba303e3",
   "metadata": {},
   "outputs": [],
   "source": [
    "f_path = '/g/data/jk72/ll6859/ACCESS_aero_eval/Reef2Rain/'\n",
    "uw = keycutter(f_path+'R2R_RV_aerosol.csv', 'date', 'lat', 'lon')\n",
    "uw = uw.dropna()"
   ]
  },
  {
   "cell_type": "markdown",
   "id": "c549740a-142d-45b5-a720-97d21db813e6",
   "metadata": {},
   "source": [
    "bx400"
   ]
  },
  {
   "cell_type": "code",
   "execution_count": 18,
   "id": "adbc66c0-71b9-44be-bc19-d7ca3d0e4089",
   "metadata": {},
   "outputs": [],
   "source": [
    "# extract aerosol data\n",
    "m_path = '/g/data/jk72/slf563/ACCESS/output/bx400/daily/'\n",
    "mod = 'bx400a'\n",
    "dt = 'pd.sh'\n",
    "key = uw\n",
    "\n",
    "aertrack = df_md(key, m_path, mod, dt)\n",
    "\n",
    "# extract meteorology data\n",
    "m_path = '/g/data/jk72/slf563/ACCESS/output/bx400/daily/'\n",
    "mod = 'bx400a'\n",
    "dt = 'pd.glob'\n",
    "key = uw\n",
    "\n",
    "mettrack = df_md(key, m_path, mod, dt)\n",
    "\n",
    "# calculate air density from temperature\n",
    "mettrack = calc_density(mettrack)\n",
    "\n",
    "# convert aerosol units\n",
    "aertrack = aero_unit_conversions(aertrack, mettrack)\n",
    "\n",
    "# select data at 20m\n",
    "aertrack = aertrack.isel(z1_hybrid_height=0).expand_dims('z1_hybrid_height').transpose()\n",
    "mettrack = mettrack.isel(z1_hybrid_height=0, z0_hybrid_height=0).expand_dims('z1_hybrid_height').transpose()\n",
    "mettrack = mettrack.drop('z0_hybrid_height')\n",
    "\n",
    "# calculate aerosol number concentrations\n",
    "aertrack = nt_calcs(aertrack)\n",
    "\n",
    "# calculate CCN number concentrations\n",
    "aertrack = ccn_calcs(aertrack)"
   ]
  },
  {
   "cell_type": "code",
   "execution_count": 19,
   "id": "f67e883e-8038-405f-ae98-1463abdb717d",
   "metadata": {},
   "outputs": [],
   "source": [
    "# merge the aerosol and meteorology data together\n",
    "r2r_track = xr.merge([aertrack,mettrack])\n",
    "\n",
    "r2r_track = r2r_track[['lat','lon','N3','N10','CCN40','CCN50','CCN60','uas','vas','psl','pr','tempk']]\n",
    "\n",
    "# remove time component from datetime coordinate\n",
    "r2r_track['time'] = r2r_track.indexes['time'].normalize()"
   ]
  },
  {
   "cell_type": "code",
   "execution_count": 20,
   "id": "cc2edef8-36a8-499d-a2c1-ce9dfa67cf61",
   "metadata": {},
   "outputs": [],
   "source": [
    "r2r_track.load().to_netcdf(path=f_path+'r2r16_bx400_track.nc')"
   ]
  },
  {
   "cell_type": "markdown",
   "id": "0d79df21-9e54-4a4e-8dfe-f7087849173e",
   "metadata": {},
   "source": [
    "cg283"
   ]
  },
  {
   "cell_type": "code",
   "execution_count": 21,
   "id": "68fbdcc5-9be7-44f7-a099-8691405b2cec",
   "metadata": {},
   "outputs": [],
   "source": [
    "# extract aerosol data\n",
    "m_path = '/g/data/jk72/slf563/ACCESS/output/cg283/daily/'\n",
    "mod = 'cg283a'\n",
    "dt = 'pd.sh'\n",
    "key = uw\n",
    "\n",
    "aertrack = df_md(key, m_path, mod, dt)\n",
    "\n",
    "# extract meteorology data\n",
    "m_path = '/g/data/jk72/slf563/ACCESS/output/cg283/daily/'\n",
    "mod = 'cg283a'\n",
    "dt = 'pd.glob'\n",
    "key = uw\n",
    "\n",
    "mettrack = df_md(key, m_path, mod, dt)\n",
    "\n",
    "# calculate air density from temperature\n",
    "mettrack = calc_density(mettrack)\n",
    "\n",
    "# convert aerosol units\n",
    "aertrack = aero_unit_conversions(aertrack, mettrack)\n",
    "\n",
    "# select data at 20m\n",
    "aertrack = aertrack.isel(z1_hybrid_height=0).expand_dims('z1_hybrid_height').transpose()\n",
    "mettrack = mettrack.isel(z1_hybrid_height=0, z0_hybrid_height=0).expand_dims('z1_hybrid_height').transpose()\n",
    "mettrack = mettrack.drop('z0_hybrid_height')\n",
    "\n",
    "# calculate aerosol number concentrations\n",
    "aertrack = nt_calcs(aertrack)\n",
    "\n",
    "# calculate CCN number concentrations\n",
    "aertrack = ccn_calcs(aertrack)"
   ]
  },
  {
   "cell_type": "code",
   "execution_count": 22,
   "id": "bfe50a76-c411-4af2-b288-e66d6be57e41",
   "metadata": {},
   "outputs": [],
   "source": [
    "# merge the aerosol and meteorology data together\n",
    "r2r_track = xr.merge([aertrack,mettrack])\n",
    "\n",
    "r2r_track = r2r_track[['lat','lon','N3','N10','CCN40','CCN50','CCN60','uas','vas','psl','pr','tempk']]\n",
    "\n",
    "# remove time component from datetime coordinate\n",
    "r2r_track['time'] = r2r_track.indexes['time'].normalize()"
   ]
  },
  {
   "cell_type": "code",
   "execution_count": 23,
   "id": "46c5eb83-a522-4fff-a6e7-700f5ef8f600",
   "metadata": {},
   "outputs": [],
   "source": [
    "r2r_track.load().to_netcdf(path=f_path+'r2r16_cg283_track.nc')"
   ]
  },
  {
   "cell_type": "markdown",
   "id": "0f81fb01-fc93-4231-885c-d50044dfa012",
   "metadata": {
    "tags": []
   },
   "source": [
    "# Ice 2 Equator"
   ]
  },
  {
   "cell_type": "code",
   "execution_count": 24,
   "id": "a00ca34c-7477-4710-af0b-55f0f0cddcc7",
   "metadata": {},
   "outputs": [],
   "source": [
    "f_path = '/g/data/jk72/ll6859/ACCESS_aero_eval/Ice2Equator/'\n",
    "uw = keycutter(f_path+'I2E_ProcessedAerosolData_1min.csv', 'date', 'lat', 'lon')\n",
    "uw = uw.dropna()"
   ]
  },
  {
   "cell_type": "markdown",
   "id": "20e19ff1-173a-4a2e-a7a3-ac6bfd92a515",
   "metadata": {},
   "source": [
    "bx400"
   ]
  },
  {
   "cell_type": "code",
   "execution_count": 25,
   "id": "da595def-dc79-40b3-bfe3-5a5775be1f6c",
   "metadata": {},
   "outputs": [],
   "source": [
    "# extract aerosol data\n",
    "m_path = '/g/data/jk72/slf563/ACCESS/output/bx400/daily/'\n",
    "mod = 'bx400a'\n",
    "dt = 'pd.sh'\n",
    "key = uw\n",
    "\n",
    "aertrack = df_md(key, m_path, mod, dt)\n",
    "\n",
    "# extract meteorology data\n",
    "m_path = '/g/data/jk72/slf563/ACCESS/output/bx400/daily/'\n",
    "mod = 'bx400a'\n",
    "dt = 'pd.glob'\n",
    "key = uw\n",
    "\n",
    "mettrack = df_md(key, m_path, mod, dt)\n",
    "\n",
    "# calculate air density from temperature\n",
    "mettrack = calc_density(mettrack)\n",
    "\n",
    "# convert aerosol units\n",
    "aertrack = aero_unit_conversions(aertrack, mettrack)\n",
    "\n",
    "# select data at 20m\n",
    "aertrack = aertrack.isel(z1_hybrid_height=0).expand_dims('z1_hybrid_height').transpose()\n",
    "mettrack = mettrack.isel(z1_hybrid_height=0, z0_hybrid_height=0).expand_dims('z1_hybrid_height').transpose()\n",
    "mettrack = mettrack.drop('z0_hybrid_height')\n",
    "\n",
    "# calculate aerosol number concentrations\n",
    "aertrack = nt_calcs(aertrack)\n",
    "\n",
    "# calculate CCN number concentrations\n",
    "aertrack = ccn_calcs(aertrack)"
   ]
  },
  {
   "cell_type": "code",
   "execution_count": 26,
   "id": "48f48f94-4d57-42de-be8d-b7447ec39311",
   "metadata": {},
   "outputs": [],
   "source": [
    "# merge the aerosol and meteorology data together\n",
    "i2e_track = xr.merge([aertrack,mettrack])\n",
    "\n",
    "i2e_track = i2e_track[['lat','lon','N3','N10','CCN40','CCN50','CCN60','uas','vas','psl','pr','tempk']]\n",
    "\n",
    "# remove time component from datetime coordinate\n",
    "i2e_track['time'] = i2e_track.indexes['time'].normalize()"
   ]
  },
  {
   "cell_type": "code",
   "execution_count": 27,
   "id": "d7592ab7-da94-47ff-a322-abbfa14fc525",
   "metadata": {},
   "outputs": [],
   "source": [
    "i2e_track.load().to_netcdf(path=f_path+'i2e16_bx400_track.nc')"
   ]
  },
  {
   "cell_type": "markdown",
   "id": "18e951cd-0113-470a-89f2-6c8bcdc58e32",
   "metadata": {},
   "source": [
    "cg283"
   ]
  },
  {
   "cell_type": "code",
   "execution_count": 28,
   "id": "f2f74715-1044-4d6f-95b0-4ccbce7d4786",
   "metadata": {},
   "outputs": [],
   "source": [
    "# extract aerosol data\n",
    "m_path = '/g/data/jk72/slf563/ACCESS/output/cg283/daily/'\n",
    "mod = 'cg283a'\n",
    "dt = 'pd.sh'\n",
    "key = uw\n",
    "\n",
    "aertrack = df_md(key, m_path, mod, dt)\n",
    "\n",
    "# extract meteorology data\n",
    "m_path = '/g/data/jk72/slf563/ACCESS/output/cg283/daily/'\n",
    "mod = 'cg283a'\n",
    "dt = 'pd.glob'\n",
    "key = uw\n",
    "\n",
    "mettrack = df_md(key, m_path, mod, dt)\n",
    "\n",
    "# calculate air density from temperature\n",
    "mettrack = calc_density(mettrack)\n",
    "\n",
    "# convert aerosol units\n",
    "aertrack = aero_unit_conversions(aertrack, mettrack)\n",
    "\n",
    "# select data at 20m\n",
    "aertrack = aertrack.isel(z1_hybrid_height=0).expand_dims('z1_hybrid_height').transpose()\n",
    "mettrack = mettrack.isel(z1_hybrid_height=0, z0_hybrid_height=0).expand_dims('z1_hybrid_height').transpose()\n",
    "mettrack = mettrack.drop('z0_hybrid_height')\n",
    "\n",
    "# calculate aerosol number concentrations\n",
    "aertrack = nt_calcs(aertrack)\n",
    "\n",
    "# calculate CCN number concentrations\n",
    "aertrack = ccn_calcs(aertrack)"
   ]
  },
  {
   "cell_type": "code",
   "execution_count": 29,
   "id": "7f6065c8-0bdf-4731-8b72-91b6c93561f3",
   "metadata": {},
   "outputs": [],
   "source": [
    "# merge the aerosol and meteorology data together\n",
    "i2e_track = xr.merge([aertrack,mettrack])\n",
    "\n",
    "i2e_track = i2e_track[['lat','lon','N3','N10','CCN40','CCN50','CCN60','uas','vas','psl','pr','tempk']]\n",
    "\n",
    "# remove time component from datetime coordinate\n",
    "i2e_track['time'] = i2e_track.indexes['time'].normalize()"
   ]
  },
  {
   "cell_type": "code",
   "execution_count": 30,
   "id": "9b60ca14-1e19-41e2-ad1b-47eccaa262f0",
   "metadata": {},
   "outputs": [],
   "source": [
    "i2e_track.load().to_netcdf(path=f_path+'i2e16_cg283_track.nc')"
   ]
  },
  {
   "cell_type": "markdown",
   "id": "3044c8af-9a7a-459b-91b6-f59f7eec55e4",
   "metadata": {},
   "source": [
    "# CAPRICORN I"
   ]
  },
  {
   "cell_type": "code",
   "execution_count": 31,
   "id": "13fc41a9-a361-4cce-b22a-2ed92e731b36",
   "metadata": {
    "tags": []
   },
   "outputs": [],
   "source": [
    "f_path = '/g/data/jk72/ll6859/ACCESS_aero_eval/Capricorn/'\n",
    "uw = pd.read_csv(f_path+'in2016_v02uwy10sec.csv', parse_dates=[['date', 'time']], index_col='date_time')\n",
    "uw = uw.resample('1D').mean()\n",
    "uw = uw[['latitude(degree_north)', 'longitude(degree_east)']]\n",
    "uw.columns = ['lat','lon']"
   ]
  },
  {
   "cell_type": "markdown",
   "id": "680cb4de-b5c6-44aa-a781-8cd413bc9cf2",
   "metadata": {},
   "source": [
    "bx400"
   ]
  },
  {
   "cell_type": "code",
   "execution_count": 32,
   "id": "5ddd0e57-d5df-47eb-94cf-e8753738e17b",
   "metadata": {},
   "outputs": [],
   "source": [
    "# extract aerosol data\n",
    "m_path = '/g/data/jk72/slf563/ACCESS/output/bx400/daily/'\n",
    "mod = 'bx400a'\n",
    "dt = 'pd.sh'\n",
    "key = uw\n",
    "aertrack = df_md(key, m_path, mod, dt)\n",
    "\n",
    "# extract meteorology data\n",
    "m_path = '/g/data/jk72/slf563/ACCESS/output/bx400/daily/'\n",
    "mod = 'bx400a'\n",
    "dt = 'pd.glob'\n",
    "key = uw\n",
    "mettrack = df_md(key, m_path, mod, dt)\n",
    "\n",
    "# calculate air density from temperature\n",
    "mettrack = calc_density(mettrack)\n",
    "\n",
    "# convert aerosol units\n",
    "aertrack = aero_unit_conversions(aertrack, mettrack)\n",
    "\n",
    "# select data at 20m\n",
    "aertrack = aertrack.isel(z1_hybrid_height=0).expand_dims('z1_hybrid_height').transpose()\n",
    "mettrack = mettrack.isel(z1_hybrid_height=0, z0_hybrid_height=0).expand_dims('z1_hybrid_height').transpose()\n",
    "mettrack = mettrack.drop('z0_hybrid_height')\n",
    "\n",
    "# calculate aerosol number concentrations\n",
    "aertrack = nt_calcs(aertrack)\n",
    "\n",
    "# calculate CCN number concentrations\n",
    "aertrack = ccn_calcs(aertrack)"
   ]
  },
  {
   "cell_type": "code",
   "execution_count": 33,
   "id": "1f106b93-d522-4d0e-97d6-265f668bc684",
   "metadata": {},
   "outputs": [],
   "source": [
    "# merge the aerosol and meteorology data together\n",
    "cap1_track = xr.merge([aertrack,mettrack])\n",
    "\n",
    "cap1_track = cap1_track[['lat','lon','N3','N10','CCN40','CCN50','CCN60','uas','vas','psl','pr','tempk']]\n",
    "\n",
    "# remove time component from datetime coordinate\n",
    "cap1_track['time'] = cap1_track.indexes['time'].normalize()"
   ]
  },
  {
   "cell_type": "code",
   "execution_count": 34,
   "id": "bbe681bc-9a98-4e03-8697-92c48b01b685",
   "metadata": {},
   "outputs": [],
   "source": [
    "cap1_track.load().to_netcdf(path=f_path+'cap16_bx400_track.nc')"
   ]
  },
  {
   "cell_type": "markdown",
   "id": "0564eb36-acaa-405b-aa55-425feb8ecceb",
   "metadata": {},
   "source": [
    "cg283"
   ]
  },
  {
   "cell_type": "code",
   "execution_count": 35,
   "id": "139e0609-f504-45dc-afcb-98a0c52b6ae3",
   "metadata": {},
   "outputs": [],
   "source": [
    "# extract aerosol data\n",
    "m_path = '/g/data/jk72/slf563/ACCESS/output/cg283/daily/'\n",
    "mod = 'cg283a'\n",
    "dt = 'pd.sh'\n",
    "key = uw\n",
    "aertrack = df_md(key, m_path, mod, dt)\n",
    "\n",
    "# extract meteorology data\n",
    "m_path = '/g/data/jk72/slf563/ACCESS/output/cg283/daily/'\n",
    "mod = 'cg283a'\n",
    "dt = 'pd.glob'\n",
    "key = uw\n",
    "mettrack = df_md(key, m_path, mod, dt)\n",
    "\n",
    "# calculate air density from temperature\n",
    "mettrack = calc_density(mettrack)\n",
    "\n",
    "# convert aerosol units\n",
    "aertrack = aero_unit_conversions(aertrack, mettrack)\n",
    "\n",
    "# select data at 20m\n",
    "aertrack = aertrack.isel(z1_hybrid_height=0).expand_dims('z1_hybrid_height').transpose()\n",
    "mettrack = mettrack.isel(z1_hybrid_height=0, z0_hybrid_height=0).expand_dims('z1_hybrid_height').transpose()\n",
    "mettrack = mettrack.drop('z0_hybrid_height')\n",
    "\n",
    "# calculate aerosol number concentrations\n",
    "aertrack = nt_calcs(aertrack)\n",
    "\n",
    "# calculate CCN number concentrations\n",
    "aertrack = ccn_calcs(aertrack)"
   ]
  },
  {
   "cell_type": "code",
   "execution_count": 36,
   "id": "09184e3c-60b7-4d8d-b4a9-db093450a3b3",
   "metadata": {},
   "outputs": [],
   "source": [
    "# merge the aerosol and meteorology data together\n",
    "cap1_track = xr.merge([aertrack,mettrack])\n",
    "\n",
    "cap1_track = cap1_track[['lat','lon','N3','N10','CCN40','CCN50','CCN60','uas','vas','psl','pr','tempk']]\n",
    "\n",
    "# remove time component from datetime coordinate\n",
    "cap1_track['time'] = cap1_track.indexes['time'].normalize()"
   ]
  },
  {
   "cell_type": "code",
   "execution_count": 37,
   "id": "1ab31317-1558-4a4b-be67-36638b15e787",
   "metadata": {},
   "outputs": [],
   "source": [
    "cap1_track.load().to_netcdf(path=f_path+'cap16_cg283_track.nc')"
   ]
  },
  {
   "cell_type": "markdown",
   "id": "be9fb9df-b1ab-4c52-91c3-6e3b9ab6345d",
   "metadata": {},
   "source": [
    "# CAPRICORN II"
   ]
  },
  {
   "cell_type": "code",
   "execution_count": 3,
   "id": "e7dcb0a5-212b-42bc-b8d4-68cfad28bc3d",
   "metadata": {
    "tags": []
   },
   "outputs": [
    {
     "ename": "NameError",
     "evalue": "name 'uw' is not defined",
     "output_type": "error",
     "traceback": [
      "\u001b[0;31m---------------------------------------------------------------------------\u001b[0m",
      "\u001b[0;31mNameError\u001b[0m                                 Traceback (most recent call last)",
      "\u001b[0;32m/local/hh5/ll6859/tmp/ipykernel_2493706/14453904.py\u001b[0m in \u001b[0;36m<cell line: 3>\u001b[0;34m()\u001b[0m\n\u001b[1;32m      1\u001b[0m \u001b[0mf_path\u001b[0m \u001b[0;34m=\u001b[0m \u001b[0;34m'/g/data/jk72/ll6859/ACCESS_aero_eval/Capricorn/'\u001b[0m\u001b[0;34m\u001b[0m\u001b[0;34m\u001b[0m\u001b[0m\n\u001b[1;32m      2\u001b[0m \u001b[0mpd\u001b[0m\u001b[0;34m.\u001b[0m\u001b[0mread_csv\u001b[0m\u001b[0;34m(\u001b[0m\u001b[0mf_path\u001b[0m\u001b[0;34m+\u001b[0m\u001b[0;34m'in2018_v01uwy10sec.csv'\u001b[0m\u001b[0;34m,\u001b[0m \u001b[0mparse_dates\u001b[0m\u001b[0;34m=\u001b[0m\u001b[0;34m[\u001b[0m\u001b[0;34m[\u001b[0m\u001b[0;34m'date'\u001b[0m\u001b[0;34m,\u001b[0m \u001b[0;34m'time'\u001b[0m\u001b[0;34m]\u001b[0m\u001b[0;34m]\u001b[0m\u001b[0;34m,\u001b[0m \u001b[0mindex_col\u001b[0m\u001b[0;34m=\u001b[0m\u001b[0;34m'date_time'\u001b[0m\u001b[0;34m)\u001b[0m\u001b[0;34m\u001b[0m\u001b[0;34m\u001b[0m\u001b[0m\n\u001b[0;32m----> 3\u001b[0;31m \u001b[0muw\u001b[0m \u001b[0;34m=\u001b[0m \u001b[0muw\u001b[0m\u001b[0;34m.\u001b[0m\u001b[0mresample\u001b[0m\u001b[0;34m(\u001b[0m\u001b[0;34m'1D'\u001b[0m\u001b[0;34m)\u001b[0m\u001b[0;34m.\u001b[0m\u001b[0mmean\u001b[0m\u001b[0;34m(\u001b[0m\u001b[0;34m)\u001b[0m\u001b[0;34m\u001b[0m\u001b[0;34m\u001b[0m\u001b[0m\n\u001b[0m",
      "\u001b[0;31mNameError\u001b[0m: name 'uw' is not defined"
     ]
    }
   ],
   "source": [
    "f_path = '/g/data/jk72/ll6859/ACCESS_aero_eval/Capricorn/'\n",
    "uw = pd.read_csv(f_path+'in2018_v01uwy10sec.csv', parse_dates=[['date', 'time']], index_col='date_time')\n",
    "uw = uw.resample('1D').mean()"
   ]
  },
  {
   "cell_type": "markdown",
   "id": "5a7a8966-ab64-4daa-9ac0-864df37a58e3",
   "metadata": {},
   "source": [
    "bx400"
   ]
  },
  {
   "cell_type": "code",
   "execution_count": 39,
   "id": "7ef0ba70-7068-4fda-86d1-f0ca94ba12cc",
   "metadata": {},
   "outputs": [],
   "source": [
    "# extract aerosol data\n",
    "m_path = '/g/data/jk72/slf563/ACCESS/output/bx400/daily/'\n",
    "mod = 'bx400a'\n",
    "dt = 'pd.sh'\n",
    "key = uw\n",
    "aertrack = df_md(key, m_path, mod, dt)\n",
    "\n",
    "# extract meteorology data\n",
    "m_path = '/g/data/jk72/slf563/ACCESS/output/bx400/daily/'\n",
    "mod = 'bx400a'\n",
    "dt = 'pd.glob'\n",
    "key = uw\n",
    "mettrack = df_md(key, m_path, mod, dt)\n",
    "\n",
    "# calculate air density from temperature\n",
    "mettrack = calc_density(mettrack)\n",
    "\n",
    "# convert aerosol units\n",
    "aertrack = aero_unit_conversions(aertrack, mettrack)\n",
    "\n",
    "# select data at 20m\n",
    "aertrack = aertrack.isel(z1_hybrid_height=0).expand_dims('z1_hybrid_height').transpose()\n",
    "mettrack = mettrack.isel(z1_hybrid_height=0, z0_hybrid_height=0).expand_dims('z1_hybrid_height').transpose()\n",
    "mettrack = mettrack.drop('z0_hybrid_height')\n",
    "\n",
    "# calculate aerosol number concentrations\n",
    "aertrack = nt_calcs(aertrack)\n",
    "\n",
    "# calculate CCN number concentrations\n",
    "aertrack = ccn_calcs(aertrack)"
   ]
  },
  {
   "cell_type": "code",
   "execution_count": 40,
   "id": "dce5113f-d547-42f1-9141-67101d6fdebe",
   "metadata": {},
   "outputs": [],
   "source": [
    "# merge the aerosol and meteorology data together\n",
    "cap2_track = xr.merge([aertrack,mettrack])\n",
    "\n",
    "cap2_track = cap2_track[['lat','lon','N3','N10','CCN40','CCN50','CCN60','uas','vas','psl','pr','tempk']]\n",
    "\n",
    "# remove time component from datetime coordinate\n",
    "cap2_track['time'] = cap2_track.indexes['time'].normalize()"
   ]
  },
  {
   "cell_type": "code",
   "execution_count": 41,
   "id": "66234641-6ad0-418f-a303-bd0f215bc6c1",
   "metadata": {},
   "outputs": [],
   "source": [
    "cap2_track.load().to_netcdf(path=f_path+'cap18_bx400_track.nc')"
   ]
  },
  {
   "cell_type": "markdown",
   "id": "251c852d-308d-47a9-bea4-ad93111a79ba",
   "metadata": {},
   "source": [
    "cg283"
   ]
  },
  {
   "cell_type": "code",
   "execution_count": 42,
   "id": "0913707e-5ab8-40c1-a9d2-e8bba938e9ee",
   "metadata": {},
   "outputs": [],
   "source": [
    "# extract aerosol data\n",
    "m_path = '/g/data/jk72/slf563/ACCESS/output/cg283/daily/'\n",
    "mod = 'cg283a'\n",
    "dt = 'pd.sh'\n",
    "key = uw\n",
    "aertrack = df_md(key, m_path, mod, dt)\n",
    "\n",
    "# extract meteorology data\n",
    "m_path = '/g/data/jk72/slf563/ACCESS/output/cg283/daily/'\n",
    "mod = 'cg283a'\n",
    "dt = 'pd.glob'\n",
    "key = uw\n",
    "mettrack = df_md(key, m_path, mod, dt)\n",
    "\n",
    "# calculate air density from temperature\n",
    "mettrack = calc_density(mettrack)\n",
    "\n",
    "# convert aerosol units\n",
    "aertrack = aero_unit_conversions(aertrack, mettrack)\n",
    "\n",
    "# select data at 20m\n",
    "aertrack = aertrack.isel(z1_hybrid_height=0).expand_dims('z1_hybrid_height').transpose()\n",
    "mettrack = mettrack.isel(z1_hybrid_height=0, z0_hybrid_height=0).expand_dims('z1_hybrid_height').transpose()\n",
    "mettrack = mettrack.drop('z0_hybrid_height')\n",
    "\n",
    "# calculate aerosol number concentrations\n",
    "aertrack = nt_calcs(aertrack)\n",
    "\n",
    "# calculate CCN number concentrations\n",
    "aertrack = ccn_calcs(aertrack)"
   ]
  },
  {
   "cell_type": "code",
   "execution_count": 43,
   "id": "8bbff344-74e4-4b6a-b23a-bd04e28a29b7",
   "metadata": {},
   "outputs": [],
   "source": [
    "# merge the aerosol and meteorology data together\n",
    "cap2_track = xr.merge([aertrack,mettrack])\n",
    "\n",
    "cap2_track = cap2_track[['lat','lon','N3','N10','CCN40','CCN50','CCN60','uas','vas','psl','pr','tempk']]\n",
    "\n",
    "# remove time component from datetime coordinate\n",
    "cap2_track['time'] = cap2_track.indexes['time'].normalize()"
   ]
  },
  {
   "cell_type": "code",
   "execution_count": 44,
   "id": "fd83215b-be1f-43b6-9c60-8c303a16507b",
   "metadata": {},
   "outputs": [],
   "source": [
    "cap2_track.load().to_netcdf(path=f_path+'cap18_cg283_track.nc')"
   ]
  },
  {
   "cell_type": "markdown",
   "id": "53e635ff-dbda-4bdf-8e4f-f3d3c90a8d5e",
   "metadata": {},
   "source": [
    "# MARCUS"
   ]
  },
  {
   "cell_type": "code",
   "execution_count": 45,
   "id": "e171ce46-9804-4b3a-bf6e-7a1990370fae",
   "metadata": {},
   "outputs": [],
   "source": [
    "# pull out location of ship\n",
    "f_path = '/g/data/jk72/ll6859/ACCESS_aero_eval/AuroraAustralis/marcus_uw/'\n",
    "voyages = sorted(gb.glob(f_path+'201718_Voyage*.csv'))\n",
    "uw = pd.concat([pd.read_csv(v) for v in voyages ])\n",
    "uw = uw.set_index(pd.to_datetime(uw['date_time_utc']))\n",
    "uw = uw[['latitude','longitude']]\n",
    "uw = uw.resample('1D', kind='Date').mean().ffill()\n",
    "uw.columns = ['lat','lon']"
   ]
  },
  {
   "cell_type": "markdown",
   "id": "141ec770-a356-4410-9215-3679fc4d9c1d",
   "metadata": {},
   "source": [
    "bx400"
   ]
  },
  {
   "cell_type": "code",
   "execution_count": 46,
   "id": "d579685d-0c76-41ba-8c86-0238cf923cfb",
   "metadata": {},
   "outputs": [],
   "source": [
    "# extract aerosol data\n",
    "m_path = '/g/data/jk72/slf563/ACCESS/output/bx400/daily/'\n",
    "mod = 'bx400a'\n",
    "dt = 'pd.sh'\n",
    "key = uw\n",
    "\n",
    "aertrack = df_md(key, m_path, mod, dt)\n",
    "\n",
    "# extract meteorology data\n",
    "m_path = '/g/data/jk72/slf563/ACCESS/output/bx400/daily/'\n",
    "mod = 'bx400a'\n",
    "dt = 'pd.glob'\n",
    "key = uw\n",
    "\n",
    "mettrack = df_md(key, m_path, mod, dt)\n",
    "\n",
    "# calculate air density from temperature\n",
    "mettrack = calc_density(mettrack)\n",
    "\n",
    "# convert aerosol units\n",
    "aertrack = aero_unit_conversions(aertrack, mettrack)\n",
    "\n",
    "# select data at 20m\n",
    "aertrack = aertrack.isel(z1_hybrid_height=0).expand_dims('z1_hybrid_height').transpose()\n",
    "mettrack = mettrack.isel(z1_hybrid_height=0).expand_dims('z1_hybrid_height').transpose()\n",
    "mettrack = mettrack.drop('z0_hybrid_height')\n",
    "\n",
    "# calculate aerosol number concentrations\n",
    "aertrack = nt_calcs(aertrack)\n",
    "\n",
    "# calculate CCN number concentrations\n",
    "aertrack = ccn_calcs(aertrack)"
   ]
  },
  {
   "cell_type": "code",
   "execution_count": 47,
   "id": "7f42f3c3-10c2-44dd-bb55-6eb59abfb814",
   "metadata": {},
   "outputs": [],
   "source": [
    "# merge the aerosol and meteorology data together\n",
    "marcus_track = xr.merge([aertrack,mettrack])\n",
    "\n",
    "marcus_track = marcus_track[['lat','lon','N3','N10','CCN40','CCN50','CCN60','uas','vas','psl','pr','tempk']]\n",
    "\n",
    "# remove time component from datetime coordinate\n",
    "marcus_track['time'] = marcus_track.indexes['time'].normalize()"
   ]
  },
  {
   "cell_type": "code",
   "execution_count": 48,
   "id": "01786d58-3923-4c21-88b4-729c29c2a2ca",
   "metadata": {},
   "outputs": [],
   "source": [
    "marcus_track.load().to_netcdf(path='/g/data/jk72/ll6859/ACCESS_aero_eval/AuroraAustralis/aa1718_bx400_track.nc')"
   ]
  },
  {
   "cell_type": "markdown",
   "id": "df31ff00-d8f7-47e4-adfe-6a9e51961dea",
   "metadata": {},
   "source": [
    "cg283"
   ]
  },
  {
   "cell_type": "code",
   "execution_count": 49,
   "id": "c231587d-3090-4380-9b06-16d5ebf9cf11",
   "metadata": {},
   "outputs": [],
   "source": [
    "# extract aerosol data\n",
    "m_path = '/g/data/jk72/slf563/ACCESS/output/cg283/daily/'\n",
    "mod = 'cg283a'\n",
    "dt = 'pd.sh'\n",
    "key = uw\n",
    "\n",
    "aertrack = df_md(key, m_path, mod, dt)\n",
    "\n",
    "# extract meteorology data\n",
    "m_path = '/g/data/jk72/slf563/ACCESS/output/cg283/daily/'\n",
    "mod = 'cg283a'\n",
    "dt = 'pd.glob'\n",
    "key = uw\n",
    "\n",
    "mettrack = df_md(key, m_path, mod, dt)\n",
    "\n",
    "# calculate air density from temperature\n",
    "mettrack = calc_density(mettrack)\n",
    "\n",
    "# convert aerosol units\n",
    "aertrack = aero_unit_conversions(aertrack, mettrack)\n",
    "\n",
    "# select data at 20m\n",
    "aertrack = aertrack.isel(z1_hybrid_height=0).expand_dims('z1_hybrid_height').transpose()\n",
    "mettrack = mettrack.isel(z1_hybrid_height=0).expand_dims('z1_hybrid_height').transpose()\n",
    "mettrack = mettrack.drop('z0_hybrid_height')\n",
    "\n",
    "# calculate aerosol number concentrations\n",
    "aertrack = nt_calcs(aertrack)\n",
    "\n",
    "# calculate CCN number concentrations\n",
    "aertrack = ccn_calcs(aertrack)"
   ]
  },
  {
   "cell_type": "code",
   "execution_count": 50,
   "id": "be1e6348-227d-475b-8e0d-b02690e02416",
   "metadata": {},
   "outputs": [],
   "source": [
    "# merge the aerosol and meteorology data together\n",
    "marcus_track = xr.merge([aertrack,mettrack])\n",
    "\n",
    "marcus_track = marcus_track[['lat','lon','N3','N10','CCN40','CCN50','CCN60','uas','vas','psl','pr','tempk']]\n",
    "\n",
    "# remove time component from datetime coordinate\n",
    "marcus_track['time'] = marcus_track.indexes['time'].normalize()"
   ]
  },
  {
   "cell_type": "code",
   "execution_count": 51,
   "id": "f6d77b84-b189-44b3-9e3e-48e8ea416ca6",
   "metadata": {},
   "outputs": [],
   "source": [
    "marcus_track.load().to_netcdf(path='/g/data/jk72/ll6859/ACCESS_aero_eval/AuroraAustralis/aa1718_cg283_track.nc')"
   ]
  },
  {
   "cell_type": "markdown",
   "id": "c217c32b-32c1-4aa6-8691-896cf8d144fe",
   "metadata": {},
   "source": [
    "# CAMMPCAN"
   ]
  },
  {
   "cell_type": "code",
   "execution_count": 52,
   "id": "96963b5f-5e10-4ece-a11d-95351d1c65dc",
   "metadata": {},
   "outputs": [],
   "source": [
    "# pull out location of ship\n",
    "f_path = '/g/data/jk72/ll6859/ACCESS_aero_eval/AuroraAustralis/cammpcan_uw/'\n",
    "voyages = sorted(gb.glob(f_path+'201819_Voyage*.csv'))\n",
    "uw = pd.concat([pd.read_csv(v) for v in voyages ])\n",
    "uw = uw.set_index(pd.to_datetime(uw['date_time_utc']))\n",
    "uw = uw[['latitude','longitude']]\n",
    "uw = uw.resample('1D', kind='Date').mean().ffill()\n",
    "uw.columns = ['lat','lon']"
   ]
  },
  {
   "cell_type": "markdown",
   "id": "f6571ec3-83ff-409f-8ed0-8982b08df3fe",
   "metadata": {},
   "source": [
    "bx400"
   ]
  },
  {
   "cell_type": "code",
   "execution_count": 53,
   "id": "44bb793f-5a77-4f10-81bb-3c82744d02c9",
   "metadata": {},
   "outputs": [],
   "source": [
    "# extract aerosol data\n",
    "m_path = '/g/data/jk72/slf563/ACCESS/output/bx400/daily/'\n",
    "mod = 'bx400a'\n",
    "dt = 'pd.sh'\n",
    "key = uw\n",
    "\n",
    "aertrack = df_md(key, m_path, mod, dt)\n",
    "\n",
    "# extract meteorology data\n",
    "m_path = '/g/data/jk72/slf563/ACCESS/output/bx400/daily/'\n",
    "mod = 'bx400a'\n",
    "dt = 'pd.glob'\n",
    "key = uw\n",
    "\n",
    "mettrack = df_md(key, m_path, mod, dt)\n",
    "\n",
    "# calculate air density from temperature\n",
    "mettrack = calc_density(mettrack)\n",
    "\n",
    "# convert aerosol units\n",
    "aertrack = aero_unit_conversions(aertrack, mettrack)\n",
    "\n",
    "# select data at 20m\n",
    "aertrack = aertrack.isel(z1_hybrid_height=0).expand_dims('z1_hybrid_height').transpose()\n",
    "mettrack = mettrack.isel(z1_hybrid_height=0).expand_dims('z1_hybrid_height').transpose()\n",
    "mettrack = mettrack.drop('z0_hybrid_height')\n",
    "\n",
    "# calculate aerosol number concentrations\n",
    "aertrack = nt_calcs(aertrack)\n",
    "\n",
    "# calculate CCN number concentrations\n",
    "aertrack = ccn_calcs(aertrack)"
   ]
  },
  {
   "cell_type": "code",
   "execution_count": 54,
   "id": "38e396ae-4cd2-4b7b-8594-19f94cfe7922",
   "metadata": {},
   "outputs": [],
   "source": [
    "# merge the aerosol and meteorology data together\n",
    "cammpcan_track = xr.merge([aertrack,mettrack])\n",
    "\n",
    "cammpcan_track = cammpcan_track[['lat','lon','N3','N10','CCN40','CCN50','CCN60','uas','vas','psl','pr','tempk']]\n",
    "\n",
    "# remove time component from datetime coordinate\n",
    "cammpcan_track['time'] = cammpcan_track.indexes['time'].normalize()"
   ]
  },
  {
   "cell_type": "code",
   "execution_count": 55,
   "id": "bec46476-0bab-4fdf-b8d2-21f14210e661",
   "metadata": {},
   "outputs": [],
   "source": [
    "cammpcan_track.load().to_netcdf(path='/g/data/jk72/ll6859/ACCESS_aero_eval/AuroraAustralis/aa1819_bx400_track.nc')"
   ]
  },
  {
   "cell_type": "markdown",
   "id": "1fdbb84a-ba01-4e8d-a33c-04e9ff843f85",
   "metadata": {},
   "source": [
    "cg283"
   ]
  },
  {
   "cell_type": "code",
   "execution_count": 56,
   "id": "b988078b-2dbd-4588-a993-ba69bc27cdaf",
   "metadata": {},
   "outputs": [],
   "source": [
    "# extract aerosol data\n",
    "m_path = '/g/data/jk72/slf563/ACCESS/output/cg283/daily/'\n",
    "mod = 'cg283a'\n",
    "dt = 'pd.sh'\n",
    "key = uw\n",
    "\n",
    "aertrack = df_md(key, m_path, mod, dt)\n",
    "\n",
    "# extract meteorology data\n",
    "m_path = '/g/data/jk72/slf563/ACCESS/output/cg283/daily/'\n",
    "mod = 'cg283a'\n",
    "dt = 'pd.glob'\n",
    "key = uw\n",
    "\n",
    "mettrack = df_md(key, m_path, mod, dt)\n",
    "\n",
    "# calculate air density from temperature\n",
    "mettrack = calc_density(mettrack)\n",
    "\n",
    "# convert aerosol units\n",
    "aertrack = aero_unit_conversions(aertrack, mettrack)\n",
    "\n",
    "# select data at 20m\n",
    "aertrack = aertrack.isel(z1_hybrid_height=0).expand_dims('z1_hybrid_height').transpose()\n",
    "mettrack = mettrack.isel(z1_hybrid_height=0).expand_dims('z1_hybrid_height').transpose()\n",
    "mettrack = mettrack.drop('z0_hybrid_height')\n",
    "\n",
    "# calculate aerosol number concentrations\n",
    "aertrack = nt_calcs(aertrack)\n",
    "\n",
    "# calculate CCN number concentrations\n",
    "aertrack = ccn_calcs(aertrack)"
   ]
  },
  {
   "cell_type": "code",
   "execution_count": 57,
   "id": "7e97629d-dd8d-4738-8ecd-4f8addf0469c",
   "metadata": {},
   "outputs": [],
   "source": [
    "# merge the aerosol and meteorology data together\n",
    "cammpcan_track = xr.merge([aertrack,mettrack])\n",
    "\n",
    "cammpcan_track = cammpcan_track[['lat','lon','N3','N10','CCN40','CCN50','CCN60','uas','vas','psl','pr','tempk']]\n",
    "\n",
    "# remove time component from datetime coordinate\n",
    "cammpcan_track['time'] = cammpcan_track.indexes['time'].normalize()"
   ]
  },
  {
   "cell_type": "code",
   "execution_count": 58,
   "id": "a7db14c6-aed4-4fca-b333-611de837d64f",
   "metadata": {},
   "outputs": [],
   "source": [
    "cammpcan_track.load().to_netcdf(path='/g/data/jk72/ll6859/ACCESS_aero_eval/AuroraAustralis/aa1819_cg283_track.nc')"
   ]
  },
  {
   "cell_type": "markdown",
   "id": "c45d0728-37fa-4ffd-b200-0f943963fa93",
   "metadata": {},
   "source": [
    "# TAN1802"
   ]
  },
  {
   "cell_type": "code",
   "execution_count": 59,
   "id": "6ee2c0c8-02e2-44a2-b644-c9fc204a8f1d",
   "metadata": {},
   "outputs": [],
   "source": [
    "f_path = '/g/data/jk72/ll6859/ACCESS_aero_eval/TAN1802/'\n",
    "uw = keycutter(f_path+'weather.csv', 'Time (UTC)', 'Latitude', 'Longitude')\n",
    "uw = uw.dropna()"
   ]
  },
  {
   "cell_type": "markdown",
   "id": "089b98ed-fb24-46cb-aaa5-6ddf7ebc05fa",
   "metadata": {},
   "source": [
    "bx400"
   ]
  },
  {
   "cell_type": "code",
   "execution_count": 60,
   "id": "0504173b-2123-4fc2-b8be-58810b9daa84",
   "metadata": {},
   "outputs": [],
   "source": [
    "# extract aerosol data\n",
    "m_path = '/g/data/jk72/slf563/ACCESS/output/bx400/daily/'\n",
    "mod = 'bx400a'\n",
    "dt = 'pd.sh'\n",
    "key = uw\n",
    "\n",
    "aertrack = df_md(key, m_path, mod, dt)\n",
    "\n",
    "# extract meteorology data\n",
    "m_path = '/g/data/jk72/slf563/ACCESS/output/bx400/daily/'\n",
    "mod = 'bx400a'\n",
    "dt = 'pd.glob'\n",
    "key = uw\n",
    "\n",
    "mettrack = df_md(key, m_path, mod, dt)\n",
    "\n",
    "# calculate air density from temperature\n",
    "mettrack = calc_density(mettrack)\n",
    "\n",
    "# convert aerosol units\n",
    "aertrack = aero_unit_conversions(aertrack, mettrack)\n",
    "\n",
    "# select data at 20m\n",
    "aertrack = aertrack.isel(z1_hybrid_height=0).expand_dims('z1_hybrid_height').transpose()\n",
    "mettrack = mettrack.isel(z1_hybrid_height=0).expand_dims('z1_hybrid_height').transpose()\n",
    "mettrack = mettrack.drop('z0_hybrid_height')\n",
    "\n",
    "# calculate aerosol number concentrations\n",
    "aertrack = nt_calcs(aertrack)\n",
    "\n",
    "# calculate CCN number concentrations\n",
    "aertrack = ccn_calcs(aertrack)"
   ]
  },
  {
   "cell_type": "code",
   "execution_count": 61,
   "id": "b16c2d64-7881-440c-970f-0ed20ca852bc",
   "metadata": {},
   "outputs": [],
   "source": [
    "# merge the aerosol and meteorology data together\n",
    "tan_track = xr.merge([aertrack,mettrack])\n",
    "\n",
    "tan_track = tan_track[['lat','lon','N3','N10','CCN40','CCN50','CCN60','uas','vas','psl','pr','tempk']]\n",
    "\n",
    "# remove time component from datetime coordinate\n",
    "tan_track['time'] = tan_track.indexes['time'].normalize()"
   ]
  },
  {
   "cell_type": "code",
   "execution_count": 62,
   "id": "12e230b3-004a-4760-864c-14ee5815cb7f",
   "metadata": {},
   "outputs": [],
   "source": [
    "tan_track.load().to_netcdf(path='/g/data/jk72/ll6859/ACCESS_aero_eval/TAN1802/tan1718_bx400_track.nc')"
   ]
  },
  {
   "cell_type": "markdown",
   "id": "35560d1a-cdc2-4a31-90f3-04e73dfeaab3",
   "metadata": {},
   "source": [
    "cg283"
   ]
  },
  {
   "cell_type": "code",
   "execution_count": 63,
   "id": "ebcbd4b0-533e-4978-bde6-803a74d1591c",
   "metadata": {},
   "outputs": [],
   "source": [
    "# extract aerosol data\n",
    "m_path = '/g/data/jk72/slf563/ACCESS/output/cg283/daily/'\n",
    "mod = 'cg283a'\n",
    "dt = 'pd.sh'\n",
    "key = uw\n",
    "\n",
    "aertrack = df_md(key, m_path, mod, dt)\n",
    "\n",
    "# extract meteorology data\n",
    "m_path = '/g/data/jk72/slf563/ACCESS/output/cg283/daily/'\n",
    "mod = 'cg283a'\n",
    "dt = 'pd.glob'\n",
    "key = uw\n",
    "\n",
    "mettrack = df_md(key, m_path, mod, dt)\n",
    "\n",
    "# calculate air density from temperature\n",
    "mettrack = calc_density(mettrack)\n",
    "\n",
    "# convert aerosol units\n",
    "aertrack = aero_unit_conversions(aertrack, mettrack)\n",
    "\n",
    "# select data at 20m\n",
    "aertrack = aertrack.isel(z1_hybrid_height=0).expand_dims('z1_hybrid_height').transpose()\n",
    "mettrack = mettrack.isel(z1_hybrid_height=0).expand_dims('z1_hybrid_height').transpose()\n",
    "mettrack = mettrack.drop('z0_hybrid_height')\n",
    "\n",
    "# calculate aerosol number concentrations\n",
    "aertrack = nt_calcs(aertrack)\n",
    "\n",
    "# calculate CCN number concentrations\n",
    "aertrack = ccn_calcs(aertrack)"
   ]
  },
  {
   "cell_type": "code",
   "execution_count": 64,
   "id": "21b0179f-2b7f-4195-8d4c-9706697adbe7",
   "metadata": {},
   "outputs": [],
   "source": [
    "# merge the aerosol and meteorology data together\n",
    "tan_track = xr.merge([aertrack,mettrack])\n",
    "\n",
    "tan_track = tan_track[['lat','lon','N3','N10','CCN40','CCN50','CCN60','uas','vas','psl','pr','tempk']]\n",
    "\n",
    "# remove time component from datetime coordinate\n",
    "tan_track['time'] = tan_track.indexes['time'].normalize()"
   ]
  },
  {
   "cell_type": "code",
   "execution_count": 65,
   "id": "6bd5c504-69cd-4ac0-b028-14341357f0e2",
   "metadata": {},
   "outputs": [],
   "source": [
    "tan_track.load().to_netcdf(path='/g/data/jk72/ll6859/ACCESS_aero_eval/TAN1802/tan1718_cg283_track.nc')"
   ]
  },
  {
   "cell_type": "markdown",
   "id": "a9307754-2ab4-40f4-9e31-31576d824771",
   "metadata": {},
   "source": [
    "# Macquarie Island"
   ]
  },
  {
   "cell_type": "code",
   "execution_count": 66,
   "id": "3a7fb052-ad17-417f-8aca-3e4cb8199698",
   "metadata": {},
   "outputs": [],
   "source": [
    "f_path = '/g/data/jk72/ll6859/ACCESS_aero_eval/MQI/'\n",
    "uw = pd.read_hdf(f_path+'ACRE_CN10_1H_FINAL.h5')\n",
    "uw = uw.resample('1D', kind='date_time').mean()\n",
    "uw['lat'] = -54.38\n",
    "uw['lon'] = 158.4\n",
    "uw = uw[['lat','lon']]"
   ]
  },
  {
   "cell_type": "markdown",
   "id": "34037d55-3edc-4221-a1fa-f35146ac9950",
   "metadata": {},
   "source": [
    "bx400"
   ]
  },
  {
   "cell_type": "code",
   "execution_count": 67,
   "id": "fb18cb03-0470-41c2-8a65-efb0b8bcb304",
   "metadata": {},
   "outputs": [],
   "source": [
    "# extract aerosol data\n",
    "m_path = '/g/data/jk72/slf563/ACCESS/output/bx400/daily/'\n",
    "mod = 'bx400a'\n",
    "dt = 'pd.sh'\n",
    "key = uw\n",
    "\n",
    "aertrack = df_md(key, m_path, mod, dt)\n",
    "\n",
    "# extract meteorology data\n",
    "m_path = '/g/data/jk72/slf563/ACCESS/output/bx400/daily/'\n",
    "mod = 'bx400a'\n",
    "dt = 'pd.glob'\n",
    "key = uw\n",
    "\n",
    "mettrack = df_md(key, m_path, mod, dt)\n",
    "\n",
    "# calculate air density from temperature\n",
    "mettrack = calc_density(mettrack)\n",
    "\n",
    "# convert aerosol units\n",
    "aertrack = aero_unit_conversions(aertrack, mettrack)\n",
    "\n",
    "# select data at 20m\n",
    "aertrack = aertrack.isel(z1_hybrid_height=0).expand_dims('z1_hybrid_height').transpose()\n",
    "mettrack = mettrack.isel(z1_hybrid_height=0, z0_hybrid_height=0).expand_dims('z1_hybrid_height').transpose()\n",
    "mettrack = mettrack.drop('z0_hybrid_height')\n",
    "\n",
    "# calculate aerosol number concentrations\n",
    "aertrack = nt_calcs(aertrack)\n",
    "\n",
    "# calculate CCN number concentrations\n",
    "aertrack = ccn_calcs(aertrack)"
   ]
  },
  {
   "cell_type": "code",
   "execution_count": 68,
   "id": "85fb6537-0636-46dd-8673-4c22c9fa0f79",
   "metadata": {},
   "outputs": [],
   "source": [
    "# merge the aerosol and meteorology data together\n",
    "mqi_track = xr.merge([aertrack,mettrack])\n",
    "\n",
    "mqi_track = mqi_track[['lat','lon','N3','N10','CCN40','CCN50','CCN60','uas','vas','psl','pr','tempk']]\n",
    "\n",
    "# remove time component from datetime coordinate\n",
    "mqi_track['time'] = mqi_track.indexes['time'].normalize()"
   ]
  },
  {
   "cell_type": "code",
   "execution_count": 69,
   "id": "67547e2d-b942-4ad7-ad05-8ed2c3dea595",
   "metadata": {},
   "outputs": [],
   "source": [
    "mqi_track.load().to_netcdf(path='/g/data/jk72/ll6859/ACCESS_aero_eval/MQI/mqi1618_bx400_track.nc')"
   ]
  },
  {
   "cell_type": "markdown",
   "id": "6938ba4b-2665-4b93-b4c1-c29f6669a0a6",
   "metadata": {},
   "source": [
    "cg283"
   ]
  },
  {
   "cell_type": "code",
   "execution_count": 70,
   "id": "5a20009d-e4e4-4772-b783-257518b77a57",
   "metadata": {},
   "outputs": [],
   "source": [
    "# extract aerosol data\n",
    "m_path = '/g/data/jk72/slf563/ACCESS/output/cg283/daily/'\n",
    "mod = 'cg283a'\n",
    "dt = 'pd.sh'\n",
    "key = uw\n",
    "\n",
    "aertrack = df_md(key, m_path, mod, dt)\n",
    "\n",
    "# extract meteorology data\n",
    "m_path = '/g/data/jk72/slf563/ACCESS/output/cg283/daily/'\n",
    "mod = 'cg283a'\n",
    "dt = 'pd.glob'\n",
    "key = uw\n",
    "\n",
    "mettrack = df_md(key, m_path, mod, dt)\n",
    "\n",
    "# calculate air density from temperature\n",
    "mettrack = calc_density(mettrack)\n",
    "\n",
    "# convert aerosol units\n",
    "aertrack = aero_unit_conversions(aertrack, mettrack)\n",
    "\n",
    "# select data at 20m\n",
    "aertrack = aertrack.isel(z1_hybrid_height=0).expand_dims('z1_hybrid_height').transpose()\n",
    "mettrack = mettrack.isel(z1_hybrid_height=0, z0_hybrid_height=0).expand_dims('z1_hybrid_height').transpose()\n",
    "mettrack = mettrack.drop('z0_hybrid_height')\n",
    "\n",
    "# calculate aerosol number concentrations\n",
    "aertrack = nt_calcs(aertrack)\n",
    "\n",
    "# calculate CCN number concentrations\n",
    "aertrack = ccn_calcs(aertrack)"
   ]
  },
  {
   "cell_type": "code",
   "execution_count": 71,
   "id": "91e1c2a6-4e19-42c0-91af-b15f0b1458ba",
   "metadata": {},
   "outputs": [],
   "source": [
    "# merge the aerosol and meteorology data together\n",
    "mqi_track = xr.merge([aertrack,mettrack])\n",
    "\n",
    "mqi_track = mqi_track[['lat','lon','N3','N10','CCN40','CCN50','CCN60','uas','vas','psl','pr','tempk']]\n",
    "\n",
    "# remove time component from datetime coordinate\n",
    "mqi_track['time'] = mqi_track.indexes['time'].normalize()"
   ]
  },
  {
   "cell_type": "code",
   "execution_count": 72,
   "id": "34575f1d-8178-4f4e-9198-929af27d0bad",
   "metadata": {},
   "outputs": [],
   "source": [
    "mqi_track.load().to_netcdf(path='/g/data/jk72/ll6859/ACCESS_aero_eval/MQI/mqi1618_cg283_track.nc')"
   ]
  },
  {
   "cell_type": "markdown",
   "id": "725443fd-4f70-4cb2-b11a-c268c9cd6a3a",
   "metadata": {},
   "source": [
    "# Cape Grim"
   ]
  },
  {
   "cell_type": "code",
   "execution_count": 3,
   "id": "908b8fa6-bcdc-4f49-ab7c-dc3e9957b1e6",
   "metadata": {},
   "outputs": [],
   "source": [
    "f_path='/g/data/jk72/ll6859/ACCESS_aero_eval/CGO/'\n",
    "uw = pd.read_excel(f_path+'cgbpaps_CN  2016-2018.xlsx', index_col='date')\n",
    "uw = uw.resample('1D', kind='date_time').mean()\n",
    "uw['lat'] = -40.68333\n",
    "uw['lon'] = 144.6833\n",
    "uw = uw[['lat','lon']]"
   ]
  },
  {
   "cell_type": "markdown",
   "id": "b3517288-aa37-4c67-ac6b-ea4d85d45bd3",
   "metadata": {},
   "source": [
    "bx400"
   ]
  },
  {
   "cell_type": "code",
   "execution_count": 74,
   "id": "b1762ce0-2973-4d45-adaa-b7f665ef874f",
   "metadata": {},
   "outputs": [],
   "source": [
    "# extract aerosol data\n",
    "m_path = '/g/data/jk72/slf563/ACCESS/output/bx400/daily/'\n",
    "mod = 'bx400a'\n",
    "dt = 'pd.sh'\n",
    "key = uw\n",
    "\n",
    "aertrack = df_md(key, m_path, mod, dt)\n",
    "\n",
    "# extract meteorology data\n",
    "m_path = '/g/data/jk72/slf563/ACCESS/output/bx400/daily/'\n",
    "mod = 'bx400a'\n",
    "dt = 'pd.glob'\n",
    "key = uw\n",
    "\n",
    "mettrack = df_md(key, m_path, mod, dt)\n",
    "\n",
    "# calculate air density from temperature\n",
    "mettrack = calc_density(mettrack)\n",
    "\n",
    "# convert aerosol units\n",
    "aertrack = aero_unit_conversions(aertrack, mettrack)\n",
    "\n",
    "# select data at 20m\n",
    "aertrack = aertrack.isel(z1_hybrid_height=0).expand_dims('z1_hybrid_height').transpose()\n",
    "mettrack = mettrack.isel(z1_hybrid_height=0, z0_hybrid_height=0).expand_dims('z1_hybrid_height').transpose()\n",
    "mettrack = mettrack.drop('z0_hybrid_height')\n",
    "\n",
    "# calculate aerosol number concentrations\n",
    "aertrack = nt_calcs(aertrack)\n",
    "\n",
    "# calculate CCN number concentrations\n",
    "aertrack = ccn_calcs(aertrack)"
   ]
  },
  {
   "cell_type": "code",
   "execution_count": 75,
   "id": "f4f0534a-d1af-45e6-9209-780d232e4097",
   "metadata": {},
   "outputs": [],
   "source": [
    "# merge the aerosol and meteorology data together\n",
    "cgo_track = xr.merge([aertrack,mettrack])\n",
    "\n",
    "cgo_track = cgo_track[['lat','lon','N3','N10','CCN40','CCN50','CCN60','uas','vas','psl','pr','tempk']]\n",
    "\n",
    "# remove time component from datetime coordinate\n",
    "cgo_track['time'] = cgo_track.indexes['time'].normalize()"
   ]
  },
  {
   "cell_type": "code",
   "execution_count": 76,
   "id": "3e3c3884-2aba-4d85-8351-aa52757882f6",
   "metadata": {},
   "outputs": [],
   "source": [
    "cgo_track.load().to_netcdf(path='/g/data/jk72/ll6859/ACCESS_aero_eval/CGO/cgo1618_bx400_track.nc')"
   ]
  },
  {
   "cell_type": "markdown",
   "id": "1e15280b-903e-4f09-a635-e69160ac6b3c",
   "metadata": {},
   "source": [
    "cg283"
   ]
  },
  {
   "cell_type": "code",
   "execution_count": 5,
   "id": "1a4fe0cd-1595-40b3-bc86-72fc58b0a50c",
   "metadata": {},
   "outputs": [],
   "source": [
    "# extract aerosol data\n",
    "m_path = '/g/data/jk72/slf563/ACCESS/output/cg283/daily/'\n",
    "mod = 'cg283a'\n",
    "dt = 'pd.sh'\n",
    "key = uw\n",
    "\n",
    "aertrack = df_md(key, m_path, mod, dt)\n",
    "\n",
    "# extract meteorology data\n",
    "m_path = '/g/data/jk72/slf563/ACCESS/output/cg283/daily/'\n",
    "mod = 'cg283a'\n",
    "dt = 'pd.glob'\n",
    "key = uw\n",
    "\n",
    "mettrack = df_md(key, m_path, mod, dt)\n",
    "\n",
    "# calculate air density from temperature\n",
    "mettrack = calc_density(mettrack)\n",
    "\n",
    "# convert aerosol units\n",
    "aertrack = aero_unit_conversions(aertrack, mettrack)\n",
    "\n",
    "# select data at 20m\n",
    "aertrack = aertrack.isel(z1_hybrid_height=0).expand_dims('z1_hybrid_height').transpose()\n",
    "mettrack = mettrack.isel(z1_hybrid_height=0, z0_hybrid_height=0).expand_dims('z1_hybrid_height').transpose()\n",
    "mettrack = mettrack.drop('z0_hybrid_height')\n",
    "\n",
    "# calculate aerosol number concentrations\n",
    "aertrack = nt_calcs(aertrack)\n",
    "\n",
    "# calculate CCN number concentrations\n",
    "aertrack = ccn_calcs(aertrack)"
   ]
  },
  {
   "cell_type": "code",
   "execution_count": 6,
   "id": "7b263e2c-0a5c-4357-92d5-69a864355d7b",
   "metadata": {},
   "outputs": [],
   "source": [
    "# merge the aerosol and meteorology data together\n",
    "cgo_track = xr.merge([aertrack,mettrack])\n",
    "\n",
    "cgo_track = cgo_track[['lat','lon','N3','N10','CCN40','CCN50','CCN60','uas','vas','psl','pr','tempk']]\n",
    "\n",
    "# remove time component from datetime coordinate\n",
    "cgo_track['time'] = cgo_track.indexes['time'].normalize()"
   ]
  },
  {
   "cell_type": "code",
   "execution_count": 7,
   "id": "372902f8-7307-4fac-b07c-4cfb5918d5c9",
   "metadata": {},
   "outputs": [],
   "source": [
    "cgo_track.load().to_netcdf(path='/g/data/jk72/ll6859/ACCESS_aero_eval/CGO/cgo1618_cg283_track.nc')"
   ]
  },
  {
   "cell_type": "code",
   "execution_count": null,
   "id": "68cb8e20-de68-46f9-8638-a28243c2bb3b",
   "metadata": {},
   "outputs": [],
   "source": []
  }
 ],
 "metadata": {
  "kernelspec": {
   "display_name": "Python [conda env:analysis3-22.04]",
   "language": "python",
   "name": "conda-env-analysis3-22.04-py"
  },
  "language_info": {
   "codemirror_mode": {
    "name": "ipython",
    "version": 3
   },
   "file_extension": ".py",
   "mimetype": "text/x-python",
   "name": "python",
   "nbconvert_exporter": "python",
   "pygments_lexer": "ipython3",
   "version": "3.9.13"
  }
 },
 "nbformat": 4,
 "nbformat_minor": 5
}
