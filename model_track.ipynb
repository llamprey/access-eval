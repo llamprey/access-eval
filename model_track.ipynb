{
 "cells": [
  {
   "cell_type": "code",
   "execution_count": 1,
   "id": "8f44c7ed-28c6-4208-aed2-ac7c4a84e2a7",
   "metadata": {},
   "outputs": [],
   "source": [
    "import sys\n",
    "import os\n",
    "sys.path.append('/g/data/jk72/ll6859/ACCESS_aero_eval/')\n",
    "from aercode import *\n",
    "import matplotlib \n",
    "import matplotlib.pyplot as plt \n",
    "import pandas as pd\n",
    "import numpy as np\n",
    "import xarray as xr\n",
    "import glob as gb\n",
    "import cartopy.crs as ccrs\n",
    "import seaborn as sns\n",
    "import scipy.special\n",
    "import datetime as dt\n",
    "\n",
    "import dask\n",
    "import warnings\n",
    "from dask.distributed import Client"
   ]
  },
  {
   "cell_type": "code",
   "execution_count": 7,
   "id": "5a13b51f-585a-485d-be9f-d030bff02a1c",
   "metadata": {},
   "outputs": [],
   "source": [
    "plt.style.use('default')\n",
    "warnings.filterwarnings('ignore')"
   ]
  },
  {
   "cell_type": "markdown",
   "id": "169d9f2a-507a-4262-b725-c6709443ce28",
   "metadata": {
    "tags": []
   },
   "source": [
    "## RVInvestigator"
   ]
  },
  {
   "cell_type": "markdown",
   "id": "02b39c00-fd5c-40f6-919a-a4af343a8cd8",
   "metadata": {
    "tags": []
   },
   "source": [
    "bx400"
   ]
  },
  {
   "cell_type": "code",
   "execution_count": 3,
   "id": "8bce48e7-d979-41de-9f1c-94330942a924",
   "metadata": {},
   "outputs": [],
   "source": [
    "f_path = '/g/data/jk72/ll6859/ACCESS_aero_eval/RVInvestigator/'\n",
    "uw = keycutter(f_path+'rvigaw_cn10_2016to2019_L2.csv', 'datetime', 'latitude', 'longitude')\n",
    "uw = uw.dropna()"
   ]
  },
  {
   "cell_type": "code",
   "execution_count": 11,
   "id": "5c7eeb8c-23be-47a3-aa37-722bd5da6c15",
   "metadata": {},
   "outputs": [],
   "source": [
    "# extract aerosol data\n",
    "m_path = '/g/data/jk72/slf563/ACCESS/output/bx400/daily/'\n",
    "mod = 'bx400a'\n",
    "dt = 'pd.sh'\n",
    "key = uw\n",
    "\n",
    "aertrack = df_md(key, m_path, mod, dt)\n",
    "\n",
    "# extract meteorology data\n",
    "m_path = '/g/data/jk72/slf563/ACCESS/output/bx400/daily/'\n",
    "mod = 'bx400a'\n",
    "dt = 'pd.glob'\n",
    "key = uw\n",
    "\n",
    "mettrack = df_md(key, m_path, mod, dt)\n",
    "\n",
    "# calculate air density from temperature\n",
    "mettrack = calc_density(mettrack)\n",
    "\n",
    "# convert aerosol units\n",
    "aertrack = aero_unit_conversions(aertrack, mettrack)\n",
    "\n",
    "# select data at 20m\n",
    "aertrack = aertrack.isel(z1_hybrid_height=0).expand_dims('z1_hybrid_height').transpose()\n",
    "mettrack = mettrack.isel(z1_hybrid_height=0, z0_hybrid_height=0).expand_dims('z1_hybrid_height').transpose()\n",
    "mettrack = mettrack.drop('z0_hybrid_height')\n",
    "\n",
    "# calculate aerosol number concentrations\n",
    "aertrack = nt_calcs(aertrack)\n",
    "\n",
    "# calculate CCN number concentrations\n",
    "aertrack = ccn_calcs(aertrack)"
   ]
  },
  {
   "cell_type": "code",
   "execution_count": 14,
   "id": "a829d64a-9c38-4a58-9bc9-2255af01d3dc",
   "metadata": {},
   "outputs": [],
   "source": [
    "# merge the aerosol and meteorology data together\n",
    "rvi_track = xr.merge([aertrack,mettrack])\n",
    "\n",
    "rvi_track = rvi_track[['lat','lon','N3','N10','CCN40','CCN50','CCN60','uas','vas','psl','pr','tempk']]\n",
    "\n",
    "# remove time component from datetime coordinate\n",
    "rvi_track['time'] = rvi_track.indexes['time'].normalize()"
   ]
  },
  {
   "cell_type": "code",
   "execution_count": 16,
   "id": "28e8e3e7-d2c8-437f-8654-e0daaaa9b334",
   "metadata": {},
   "outputs": [],
   "source": [
    "rvi_track.load().to_netcdf(path=f_path+'rvi1619_bx400_track.nc')"
   ]
  },
  {
   "cell_type": "markdown",
   "id": "54135a5e-5922-41a7-9555-963242be6690",
   "metadata": {},
   "source": [
    "cg283"
   ]
  },
  {
   "cell_type": "code",
   "execution_count": 10,
   "id": "2fe7f81d-ce9a-4668-ad6c-3306e1f7211b",
   "metadata": {},
   "outputs": [],
   "source": [
    "# extract aerosol data\n",
    "m_path = '/g/data/jk72/slf563/ACCESS/output/cg283/daily/'\n",
    "mod = 'cg283a'\n",
    "dt = 'pd.sh'\n",
    "key = uw\n",
    "\n",
    "aertrack = df_md(key, m_path, mod, dt)\n",
    "\n",
    "# extract meteorology data\n",
    "m_path = '/g/data/jk72/slf563/ACCESS/output/cg283/daily/'\n",
    "mod = 'cg283a'\n",
    "dt = 'pd.glob'\n",
    "key = uw\n",
    "\n",
    "mettrack = df_md(key, m_path, mod, dt)\n",
    "\n",
    "# calculate air density from temperature\n",
    "mettrack = calc_density(mettrack)\n",
    "\n",
    "# convert aerosol units\n",
    "aertrack = aero_unit_conversions(aertrack, mettrack)\n",
    "\n",
    "# select data at 20m\n",
    "aertrack = aertrack.isel(z1_hybrid_height=0).expand_dims('z1_hybrid_height').transpose()\n",
    "mettrack = mettrack.isel(z1_hybrid_height=0, z0_hybrid_height=0).expand_dims('z1_hybrid_height').transpose()\n",
    "mettrack = mettrack.drop('z0_hybrid_height')\n",
    "\n",
    "# calculate aerosol number concentrations\n",
    "aertrack = nt_calcs(aertrack)\n",
    "\n",
    "# calculate CCN number concentrations\n",
    "aertrack = ccn_calcs(aertrack)"
   ]
  },
  {
   "cell_type": "code",
   "execution_count": 13,
   "id": "95e84fd2-06d4-41c0-8eea-8b5b13dfbb12",
   "metadata": {},
   "outputs": [],
   "source": [
    "# merge the aerosol and meteorology data together\n",
    "rvi_track = xr.merge([aertrack,mettrack])\n",
    "\n",
    "rvi_track = rvi_track[['lat','lon','N3','N10','CCN40','CCN50','CCN60','uas','vas','psl','pr','tempk']]\n",
    "\n",
    "# remove time component from datetime coordinate, invert datetime order\n",
    "rvi_track['time'] = rvi_track.indexes['time'].normalize()\n",
    "rvi_track['time'] = rvi_track['time'][::-1]"
   ]
  },
  {
   "cell_type": "code",
   "execution_count": 15,
   "id": "4402420f-4650-449b-9e59-aea162ed881c",
   "metadata": {},
   "outputs": [],
   "source": [
    "rvi_track.load().to_netcdf(path='/g/data/jk72/ll6859/rvi1619_cg283_track.nc')"
   ]
  },
  {
   "cell_type": "markdown",
   "id": "6e66da02-7fac-4a79-bf31-3570e2e03842",
   "metadata": {
    "tags": []
   },
   "source": [
    "# Cold Water Trial"
   ]
  },
  {
   "cell_type": "markdown",
   "id": "2da37a21-bb80-460f-9c1e-53a980d857b4",
   "metadata": {},
   "source": [
    "bx400"
   ]
  },
  {
   "cell_type": "code",
   "execution_count": 17,
   "id": "fb8c94f7-219f-48dc-b2d4-664b0fe93ce5",
   "metadata": {},
   "outputs": [],
   "source": [
    "f_path = '/g/data/jk72/ll6859/ACCESS_aero_eval/ColdWaterTrial/'\n",
    "uw = keycutter(f_path+'CWT_ProcessedAerosolData_1min.csv', 'date', 'lat', 'lon')\n",
    "uw = uw.dropna()"
   ]
  },
  {
   "cell_type": "code",
   "execution_count": 25,
   "id": "fa340acc-9ac1-4236-81fb-31872463719b",
   "metadata": {},
   "outputs": [],
   "source": [
    "# extract aerosol data\n",
    "m_path = '/g/data/jk72/slf563/ACCESS/output/bx400/daily/'\n",
    "mod = 'bx400a'\n",
    "dt = 'pd.sh'\n",
    "key = uw\n",
    "\n",
    "aertrack = df_md(key, m_path, mod, dt)\n",
    "\n",
    "# extract meteorology data\n",
    "m_path = '/g/data/jk72/slf563/ACCESS/output/bx400/daily/'\n",
    "mod = 'bx400a'\n",
    "dt = 'pd.glob'\n",
    "key = uw\n",
    "\n",
    "mettrack = df_md(key, m_path, mod, dt)\n",
    "\n",
    "# calculate air density from temperature\n",
    "mettrack = calc_density(mettrack)\n",
    "\n",
    "# convert aerosol units\n",
    "aertrack = aero_unit_conversions(aertrack, mettrack)\n",
    "\n",
    "# select data at 20m\n",
    "aertrack = aertrack.isel(z1_hybrid_height=0).expand_dims('z1_hybrid_height').transpose()\n",
    "mettrack = mettrack.isel(z1_hybrid_height=0, z0_hybrid_height=0).expand_dims('z1_hybrid_height').transpose()\n",
    "mettrack = mettrack.drop('z0_hybrid_height')\n",
    "\n",
    "# calculate aerosol number concentrations\n",
    "aertrack = nt_calcs(aertrack)\n",
    "\n",
    "# calculate CCN number concentrations\n",
    "aertrack = ccn_calcs(aertrack)"
   ]
  },
  {
   "cell_type": "code",
   "execution_count": 28,
   "id": "173b210e-e26b-4625-9a79-fddd86aa3e6d",
   "metadata": {},
   "outputs": [],
   "source": [
    "# merge the aerosol and meteorology data together\n",
    "cwt_track = xr.merge([aertrack,mettrack])\n",
    "\n",
    "cwt_track = cwt_track[['lat','lon','N3','N10','CCN40','CCN50','CCN60','uas','vas','psl','pr','tempk']]\n",
    "\n",
    "# remove time component from datetime coordinate\n",
    "cwt_track['time'] = cwt_track.indexes['time'].normalize()"
   ]
  },
  {
   "cell_type": "code",
   "execution_count": 30,
   "id": "f84d1b2f-a1c2-41d4-9792-1157c42cc553",
   "metadata": {},
   "outputs": [],
   "source": [
    "cwt_track.load().to_netcdf(path=f_path+'cwt15_bx400_track.nc')"
   ]
  },
  {
   "cell_type": "markdown",
   "id": "7a30e055-a86b-4964-8ee7-a14d28a6ed3a",
   "metadata": {},
   "source": [
    "cg283"
   ]
  },
  {
   "cell_type": "code",
   "execution_count": 25,
   "id": "311c882d-1fb4-4d9a-933d-6f87b6745887",
   "metadata": {},
   "outputs": [],
   "source": [
    "# extract aerosol data\n",
    "m_path = '/g/data/jk72/slf563/ACCESS/output/cg283/daily/'\n",
    "mod = 'cg283a'\n",
    "dt = 'pd.sh'\n",
    "key = uw\n",
    "\n",
    "aertrack = df_md(key, m_path, mod, dt)\n",
    "\n",
    "# extract meteorology data\n",
    "m_path = '/g/data/jk72/slf563/ACCESS/output/cg283/daily/'\n",
    "mod = 'cg283a'\n",
    "dt = 'pd.glob'\n",
    "key = uw\n",
    "\n",
    "mettrack = df_md(key, m_path, mod, dt)\n",
    "\n",
    "# calculate air density from temperature\n",
    "mettrack = calc_density(mettrack)\n",
    "\n",
    "# convert aerosol units\n",
    "aertrack = aero_unit_conversions(aertrack, mettrack)\n",
    "\n",
    "# select data at 20m\n",
    "aertrack = aertrack.isel(z1_hybrid_height=0).expand_dims('z1_hybrid_height').transpose()\n",
    "mettrack = mettrack.isel(z1_hybrid_height=0, z0_hybrid_height=0).expand_dims('z1_hybrid_height').transpose()\n",
    "mettrack = mettrack.drop('z0_hybrid_height')\n",
    "\n",
    "# calculate aerosol number concentrations\n",
    "aertrack = nt_calcs(aertrack)\n",
    "\n",
    "# calculate CCN number concentrations\n",
    "aertrack = ccn_calcs(aertrack)"
   ]
  },
  {
   "cell_type": "code",
   "execution_count": 28,
   "id": "e91f8993-f516-4cd6-bb76-88887c0fdcc7",
   "metadata": {},
   "outputs": [],
   "source": [
    "# merge the aerosol and meteorology data together\n",
    "cwt_track = xr.merge([aertrack,mettrack])\n",
    "\n",
    "cwt_track = cwt_track[['lat','lon','N3','N10','CCN40','CCN50','CCN60','uas','vas','psl','pr','tempk']]\n",
    "\n",
    "# remove time component from datetime coordinate\n",
    "cwt_track['time'] = cwt_track.indexes['time'].normalize()"
   ]
  },
  {
   "cell_type": "code",
   "execution_count": 30,
   "id": "3a7c6718-59c5-4981-aa20-bacdb969eaef",
   "metadata": {},
   "outputs": [],
   "source": [
    "cwt_track.load().to_netcdf(path=f_path+'cwt15_cg283_track.nc')"
   ]
  },
  {
   "cell_type": "markdown",
   "id": "40877165-2d33-492b-8655-257e9dbac30f",
   "metadata": {},
   "source": [
    "# Reef 2 Rainforest"
   ]
  },
  {
   "cell_type": "markdown",
   "id": "c549740a-142d-45b5-a720-97d21db813e6",
   "metadata": {},
   "source": [
    "bx400"
   ]
  },
  {
   "cell_type": "code",
   "execution_count": 31,
   "id": "d607d6a4-2545-4ac9-8634-c5bb3ba303e3",
   "metadata": {},
   "outputs": [],
   "source": [
    "f_path = '/g/data/jk72/ll6859/ACCESS_aero_eval/Reef2Rain/'\n",
    "uw = keycutter(f_path+'R2R_RV_aerosol.csv', 'date', 'lat', 'lon')\n",
    "uw = uw.dropna()"
   ]
  },
  {
   "cell_type": "code",
   "execution_count": 39,
   "id": "adbc66c0-71b9-44be-bc19-d7ca3d0e4089",
   "metadata": {},
   "outputs": [],
   "source": [
    "# extract aerosol data\n",
    "m_path = '/g/data/jk72/slf563/ACCESS/output/bx400/daily/'\n",
    "mod = 'bx400a'\n",
    "dt = 'pd.sh'\n",
    "key = uw\n",
    "\n",
    "aertrack = df_md(key, m_path, mod, dt)\n",
    "\n",
    "# extract meteorology data\n",
    "m_path = '/g/data/jk72/slf563/ACCESS/output/bx400/daily/'\n",
    "mod = 'bx400a'\n",
    "dt = 'pd.glob'\n",
    "key = uw\n",
    "\n",
    "mettrack = df_md(key, m_path, mod, dt)\n",
    "\n",
    "# calculate air density from temperature\n",
    "mettrack = calc_density(mettrack)\n",
    "\n",
    "# convert aerosol units\n",
    "aertrack = aero_unit_conversions(aertrack, mettrack)\n",
    "\n",
    "# select data at 20m\n",
    "aertrack = aertrack.isel(z1_hybrid_height=0).expand_dims('z1_hybrid_height').transpose()\n",
    "mettrack = mettrack.isel(z1_hybrid_height=0, z0_hybrid_height=0).expand_dims('z1_hybrid_height').transpose()\n",
    "mettrack = mettrack.drop('z0_hybrid_height')\n",
    "\n",
    "# calculate aerosol number concentrations\n",
    "aertrack = nt_calcs(aertrack)\n",
    "\n",
    "# calculate CCN number concentrations\n",
    "aertrack = ccn_calcs(aertrack)"
   ]
  },
  {
   "cell_type": "code",
   "execution_count": 42,
   "id": "f67e883e-8038-405f-ae98-1463abdb717d",
   "metadata": {},
   "outputs": [],
   "source": [
    "# merge the aerosol and meteorology data together\n",
    "r2r_track = xr.merge([aertrack,mettrack])\n",
    "\n",
    "r2r_track = r2r_track[['lat','lon','N3','N10','CCN40','CCN50','CCN60','uas','vas','psl','pr','tempk']]\n",
    "\n",
    "# remove time component from datetime coordinate\n",
    "r2r_track['time'] = r2r_track.indexes['time'].normalize()"
   ]
  },
  {
   "cell_type": "code",
   "execution_count": 44,
   "id": "cc2edef8-36a8-499d-a2c1-ce9dfa67cf61",
   "metadata": {},
   "outputs": [],
   "source": [
    "r2r_track.load().to_netcdf(path=f_path+'r2r16_bx400_track.nc')"
   ]
  },
  {
   "cell_type": "markdown",
   "id": "0d79df21-9e54-4a4e-8dfe-f7087849173e",
   "metadata": {},
   "source": [
    "cg283"
   ]
  },
  {
   "cell_type": "code",
   "execution_count": 39,
   "id": "68fbdcc5-9be7-44f7-a099-8691405b2cec",
   "metadata": {},
   "outputs": [],
   "source": [
    "# extract aerosol data\n",
    "m_path = '/g/data/jk72/slf563/ACCESS/output/cg283/daily/'\n",
    "mod = 'cg283a'\n",
    "dt = 'pd.sh'\n",
    "key = uw\n",
    "\n",
    "aertrack = df_md(key, m_path, mod, dt)\n",
    "\n",
    "# extract meteorology data\n",
    "m_path = '/g/data/jk72/slf563/ACCESS/output/cg283/daily/'\n",
    "mod = 'cg283a'\n",
    "dt = 'pd.glob'\n",
    "key = uw\n",
    "\n",
    "mettrack = df_md(key, m_path, mod, dt)\n",
    "\n",
    "# calculate air density from temperature\n",
    "mettrack = calc_density(mettrack)\n",
    "\n",
    "# convert aerosol units\n",
    "aertrack = aero_unit_conversions(aertrack, mettrack)\n",
    "\n",
    "# select data at 20m\n",
    "aertrack = aertrack.isel(z1_hybrid_height=0).expand_dims('z1_hybrid_height').transpose()\n",
    "mettrack = mettrack.isel(z1_hybrid_height=0, z0_hybrid_height=0).expand_dims('z1_hybrid_height').transpose()\n",
    "mettrack = mettrack.drop('z0_hybrid_height')\n",
    "\n",
    "# calculate aerosol number concentrations\n",
    "aertrack = nt_calcs(aertrack)\n",
    "\n",
    "# calculate CCN number concentrations\n",
    "aertrack = ccn_calcs(aertrack)"
   ]
  },
  {
   "cell_type": "code",
   "execution_count": 40,
   "id": "bfe50a76-c411-4af2-b288-e66d6be57e41",
   "metadata": {},
   "outputs": [],
   "source": [
    "# merge the aerosol and meteorology data together\n",
    "r2r_track = xr.merge([aertrack,mettrack])\n",
    "\n",
    "r2r_track = r2r_track[['lat','lon','N3','N10','CCN40','CCN50','CCN60','uas','vas','psl','pr','tempk']]\n",
    "\n",
    "# remove time component from datetime coordinate\n",
    "r2r_track['time'] = r2r_track.indexes['time'].normalize()"
   ]
  },
  {
   "cell_type": "code",
   "execution_count": 44,
   "id": "46c5eb83-a522-4fff-a6e7-700f5ef8f600",
   "metadata": {},
   "outputs": [],
   "source": [
    "r2r_track.load().to_netcdf(path=f_path+'r2r16_cg283_track.nc')"
   ]
  },
  {
   "cell_type": "markdown",
   "id": "0f81fb01-fc93-4231-885c-d50044dfa012",
   "metadata": {
    "tags": []
   },
   "source": [
    "# Ice 2 Equator"
   ]
  },
  {
   "cell_type": "markdown",
   "id": "20e19ff1-173a-4a2e-a7a3-ac6bfd92a515",
   "metadata": {},
   "source": [
    "bx400"
   ]
  },
  {
   "cell_type": "code",
   "execution_count": 45,
   "id": "a00ca34c-7477-4710-af0b-55f0f0cddcc7",
   "metadata": {},
   "outputs": [],
   "source": [
    "f_path = '/g/data/jk72/ll6859/ACCESS_aero_eval/Ice2Equator/'\n",
    "uw = keycutter(f_path+'I2E_ProcessedAerosolData_1min.csv', 'date', 'lat', 'lon')\n",
    "uw = uw.dropna()"
   ]
  },
  {
   "cell_type": "code",
   "execution_count": 47,
   "id": "da595def-dc79-40b3-bfe3-5a5775be1f6c",
   "metadata": {},
   "outputs": [],
   "source": [
    "# extract aerosol data\n",
    "m_path = '/g/data/jk72/slf563/ACCESS/output/bx400/daily/'\n",
    "mod = 'bx400a'\n",
    "dt = 'pd.sh'\n",
    "key = uw\n",
    "\n",
    "aertrack = df_md(key, m_path, mod, dt)\n",
    "\n",
    "# extract meteorology data\n",
    "m_path = '/g/data/jk72/slf563/ACCESS/output/bx400/daily/'\n",
    "mod = 'bx400a'\n",
    "dt = 'pd.glob'\n",
    "key = uw\n",
    "\n",
    "mettrack = df_md(key, m_path, mod, dt)\n",
    "\n",
    "# calculate air density from temperature\n",
    "mettrack = calc_density(mettrack)\n",
    "\n",
    "# convert aerosol units\n",
    "aertrack = aero_unit_conversions(aertrack, mettrack)\n",
    "\n",
    "# select data at 20m\n",
    "aertrack = aertrack.isel(z1_hybrid_height=0).expand_dims('z1_hybrid_height').transpose()\n",
    "mettrack = mettrack.isel(z1_hybrid_height=0, z0_hybrid_height=0).expand_dims('z1_hybrid_height').transpose()\n",
    "mettrack = mettrack.drop('z0_hybrid_height')\n",
    "\n",
    "# calculate aerosol number concentrations\n",
    "aertrack = nt_calcs(aertrack)\n",
    "\n",
    "# calculate CCN number concentrations\n",
    "aertrack = ccn_calcs(aertrack)"
   ]
  },
  {
   "cell_type": "code",
   "execution_count": 56,
   "id": "48f48f94-4d57-42de-be8d-b7447ec39311",
   "metadata": {},
   "outputs": [],
   "source": [
    "# merge the aerosol and meteorology data together\n",
    "i2e_track = xr.merge([aertrack,mettrack])\n",
    "\n",
    "i2e_track = i2e_track[['lat','lon','N3','N10','CCN40','CCN50','CCN60','uas','vas','psl','pr','tempk']]\n",
    "\n",
    "# remove time component from datetime coordinate\n",
    "i2e_track['time'] = i2e_track.indexes['time'].normalize()"
   ]
  },
  {
   "cell_type": "code",
   "execution_count": 58,
   "id": "d7592ab7-da94-47ff-a322-abbfa14fc525",
   "metadata": {},
   "outputs": [],
   "source": [
    "i2e_track.load().to_netcdf(path=f_path+'i2e16_bx400_track.nc')"
   ]
  },
  {
   "cell_type": "markdown",
   "id": "18e951cd-0113-470a-89f2-6c8bcdc58e32",
   "metadata": {},
   "source": [
    "cg283"
   ]
  },
  {
   "cell_type": "code",
   "execution_count": 47,
   "id": "f2f74715-1044-4d6f-95b0-4ccbce7d4786",
   "metadata": {},
   "outputs": [],
   "source": [
    "# extract aerosol data\n",
    "m_path = '/g/data/jk72/slf563/ACCESS/output/cg283/daily/'\n",
    "mod = 'cg283a'\n",
    "dt = 'pd.sh'\n",
    "key = uw\n",
    "\n",
    "aertrack = df_md(key, m_path, mod, dt)\n",
    "\n",
    "# extract meteorology data\n",
    "m_path = '/g/data/jk72/slf563/ACCESS/output/cg283/daily/'\n",
    "mod = 'cg283a'\n",
    "dt = 'pd.glob'\n",
    "key = uw\n",
    "\n",
    "mettrack = df_md(key, m_path, mod, dt)\n",
    "\n",
    "# calculate air density from temperature\n",
    "mettrack = calc_density(mettrack)\n",
    "\n",
    "# convert aerosol units\n",
    "aertrack = aero_unit_conversions(aertrack, mettrack)\n",
    "\n",
    "# select data at 20m\n",
    "aertrack = aertrack.isel(z1_hybrid_height=0).expand_dims('z1_hybrid_height').transpose()\n",
    "mettrack = mettrack.isel(z1_hybrid_height=0, z0_hybrid_height=0).expand_dims('z1_hybrid_height').transpose()\n",
    "mettrack = mettrack.drop('z0_hybrid_height')\n",
    "\n",
    "# calculate aerosol number concentrations\n",
    "aertrack = nt_calcs(aertrack)\n",
    "\n",
    "# calculate CCN number concentrations\n",
    "aertrack = ccn_calcs(aertrack)"
   ]
  },
  {
   "cell_type": "code",
   "execution_count": 56,
   "id": "7f6065c8-0bdf-4731-8b72-91b6c93561f3",
   "metadata": {},
   "outputs": [],
   "source": [
    "# merge the aerosol and meteorology data together\n",
    "i2e_track = xr.merge([aertrack,mettrack])\n",
    "\n",
    "i2e_track = i2e_track[['lat','lon','N3','N10','CCN40','CCN50','CCN60','uas','vas','psl','pr','tempk']]\n",
    "\n",
    "# remove time component from datetime coordinate\n",
    "i2e_track['time'] = i2e_track.indexes['time'].normalize()"
   ]
  },
  {
   "cell_type": "code",
   "execution_count": 58,
   "id": "9b60ca14-1e19-41e2-ad1b-47eccaa262f0",
   "metadata": {},
   "outputs": [],
   "source": [
    "i2e_track.load().to_netcdf(path=f_path+'i2e16_cg283_track.nc')"
   ]
  },
  {
   "cell_type": "markdown",
   "id": "3044c8af-9a7a-459b-91b6-f59f7eec55e4",
   "metadata": {},
   "source": [
    "# CAPRICORN I"
   ]
  },
  {
   "cell_type": "markdown",
   "id": "680cb4de-b5c6-44aa-a781-8cd413bc9cf2",
   "metadata": {},
   "source": [
    "bx400"
   ]
  },
  {
   "cell_type": "code",
   "execution_count": 46,
   "id": "13fc41a9-a361-4cce-b22a-2ed92e731b36",
   "metadata": {
    "collapsed": true,
    "jupyter": {
     "outputs_hidden": true
    },
    "tags": []
   },
   "outputs": [
    {
     "data": {
      "text/html": [
       "<div>\n",
       "<style scoped>\n",
       "    .dataframe tbody tr th:only-of-type {\n",
       "        vertical-align: middle;\n",
       "    }\n",
       "\n",
       "    .dataframe tbody tr th {\n",
       "        vertical-align: top;\n",
       "    }\n",
       "\n",
       "    .dataframe thead th {\n",
       "        text-align: right;\n",
       "    }\n",
       "</style>\n",
       "<table border=\"1\" class=\"dataframe\">\n",
       "  <thead>\n",
       "    <tr style=\"text-align: right;\">\n",
       "      <th></th>\n",
       "      <th>lat</th>\n",
       "      <th>lon</th>\n",
       "    </tr>\n",
       "    <tr>\n",
       "      <th>date_time</th>\n",
       "      <th></th>\n",
       "      <th></th>\n",
       "    </tr>\n",
       "  </thead>\n",
       "  <tbody>\n",
       "    <tr>\n",
       "      <th>2016-03-13</th>\n",
       "      <td>-42.893614</td>\n",
       "      <td>147.358552</td>\n",
       "    </tr>\n",
       "    <tr>\n",
       "      <th>2016-03-14</th>\n",
       "      <td>-44.079849</td>\n",
       "      <td>146.403190</td>\n",
       "    </tr>\n",
       "    <tr>\n",
       "      <th>2016-03-15</th>\n",
       "      <td>-46.487563</td>\n",
       "      <td>142.777208</td>\n",
       "    </tr>\n",
       "    <tr>\n",
       "      <th>2016-03-16</th>\n",
       "      <td>-46.765693</td>\n",
       "      <td>141.952520</td>\n",
       "    </tr>\n",
       "    <tr>\n",
       "      <th>2016-03-17</th>\n",
       "      <td>-46.797720</td>\n",
       "      <td>141.738808</td>\n",
       "    </tr>\n",
       "    <tr>\n",
       "      <th>2016-03-18</th>\n",
       "      <td>-46.775472</td>\n",
       "      <td>141.850680</td>\n",
       "    </tr>\n",
       "    <tr>\n",
       "      <th>2016-03-19</th>\n",
       "      <td>-46.806917</td>\n",
       "      <td>142.015190</td>\n",
       "    </tr>\n",
       "    <tr>\n",
       "      <th>2016-03-20</th>\n",
       "      <td>-46.747742</td>\n",
       "      <td>142.635220</td>\n",
       "    </tr>\n",
       "    <tr>\n",
       "      <th>2016-03-21</th>\n",
       "      <td>-46.191658</td>\n",
       "      <td>143.400995</td>\n",
       "    </tr>\n",
       "    <tr>\n",
       "      <th>2016-03-22</th>\n",
       "      <td>-45.583344</td>\n",
       "      <td>144.444008</td>\n",
       "    </tr>\n",
       "    <tr>\n",
       "      <th>2016-03-23</th>\n",
       "      <td>-43.845328</td>\n",
       "      <td>147.064095</td>\n",
       "    </tr>\n",
       "    <tr>\n",
       "      <th>2016-03-24</th>\n",
       "      <td>-44.278741</td>\n",
       "      <td>147.313816</td>\n",
       "    </tr>\n",
       "    <tr>\n",
       "      <th>2016-03-25</th>\n",
       "      <td>-45.053346</td>\n",
       "      <td>146.703416</td>\n",
       "    </tr>\n",
       "    <tr>\n",
       "      <th>2016-03-26</th>\n",
       "      <td>-45.039399</td>\n",
       "      <td>145.082229</td>\n",
       "    </tr>\n",
       "    <tr>\n",
       "      <th>2016-03-27</th>\n",
       "      <td>-46.504674</td>\n",
       "      <td>143.982046</td>\n",
       "    </tr>\n",
       "    <tr>\n",
       "      <th>2016-03-28</th>\n",
       "      <td>-46.934859</td>\n",
       "      <td>144.049046</td>\n",
       "    </tr>\n",
       "    <tr>\n",
       "      <th>2016-03-29</th>\n",
       "      <td>-47.928730</td>\n",
       "      <td>144.407626</td>\n",
       "    </tr>\n",
       "    <tr>\n",
       "      <th>2016-03-30</th>\n",
       "      <td>-50.357837</td>\n",
       "      <td>146.155553</td>\n",
       "    </tr>\n",
       "    <tr>\n",
       "      <th>2016-03-31</th>\n",
       "      <td>-50.387680</td>\n",
       "      <td>147.639310</td>\n",
       "    </tr>\n",
       "    <tr>\n",
       "      <th>2016-04-01</th>\n",
       "      <td>-50.383068</td>\n",
       "      <td>147.727784</td>\n",
       "    </tr>\n",
       "    <tr>\n",
       "      <th>2016-04-02</th>\n",
       "      <td>-50.086227</td>\n",
       "      <td>146.822809</td>\n",
       "    </tr>\n",
       "    <tr>\n",
       "      <th>2016-04-03</th>\n",
       "      <td>-50.449627</td>\n",
       "      <td>146.989199</td>\n",
       "    </tr>\n",
       "    <tr>\n",
       "      <th>2016-04-04</th>\n",
       "      <td>-50.365873</td>\n",
       "      <td>147.112701</td>\n",
       "    </tr>\n",
       "    <tr>\n",
       "      <th>2016-04-05</th>\n",
       "      <td>-51.496977</td>\n",
       "      <td>146.877600</td>\n",
       "    </tr>\n",
       "    <tr>\n",
       "      <th>2016-04-06</th>\n",
       "      <td>-52.416773</td>\n",
       "      <td>147.839076</td>\n",
       "    </tr>\n",
       "    <tr>\n",
       "      <th>2016-04-07</th>\n",
       "      <td>-51.975333</td>\n",
       "      <td>149.357786</td>\n",
       "    </tr>\n",
       "    <tr>\n",
       "      <th>2016-04-08</th>\n",
       "      <td>-51.947592</td>\n",
       "      <td>149.187207</td>\n",
       "    </tr>\n",
       "    <tr>\n",
       "      <th>2016-04-09</th>\n",
       "      <td>-51.921267</td>\n",
       "      <td>148.794215</td>\n",
       "    </tr>\n",
       "    <tr>\n",
       "      <th>2016-04-10</th>\n",
       "      <td>-51.535345</td>\n",
       "      <td>147.911144</td>\n",
       "    </tr>\n",
       "    <tr>\n",
       "      <th>2016-04-11</th>\n",
       "      <td>-51.298610</td>\n",
       "      <td>149.529811</td>\n",
       "    </tr>\n",
       "    <tr>\n",
       "      <th>2016-04-12</th>\n",
       "      <td>-49.961310</td>\n",
       "      <td>148.818214</td>\n",
       "    </tr>\n",
       "    <tr>\n",
       "      <th>2016-04-13</th>\n",
       "      <td>-47.530975</td>\n",
       "      <td>143.809234</td>\n",
       "    </tr>\n",
       "    <tr>\n",
       "      <th>2016-04-14</th>\n",
       "      <td>-46.393023</td>\n",
       "      <td>143.011398</td>\n",
       "    </tr>\n",
       "    <tr>\n",
       "      <th>2016-04-15</th>\n",
       "      <td>-44.228010</td>\n",
       "      <td>146.809063</td>\n",
       "    </tr>\n",
       "  </tbody>\n",
       "</table>\n",
       "</div>"
      ],
      "text/plain": [
       "                  lat         lon\n",
       "date_time                        \n",
       "2016-03-13 -42.893614  147.358552\n",
       "2016-03-14 -44.079849  146.403190\n",
       "2016-03-15 -46.487563  142.777208\n",
       "2016-03-16 -46.765693  141.952520\n",
       "2016-03-17 -46.797720  141.738808\n",
       "2016-03-18 -46.775472  141.850680\n",
       "2016-03-19 -46.806917  142.015190\n",
       "2016-03-20 -46.747742  142.635220\n",
       "2016-03-21 -46.191658  143.400995\n",
       "2016-03-22 -45.583344  144.444008\n",
       "2016-03-23 -43.845328  147.064095\n",
       "2016-03-24 -44.278741  147.313816\n",
       "2016-03-25 -45.053346  146.703416\n",
       "2016-03-26 -45.039399  145.082229\n",
       "2016-03-27 -46.504674  143.982046\n",
       "2016-03-28 -46.934859  144.049046\n",
       "2016-03-29 -47.928730  144.407626\n",
       "2016-03-30 -50.357837  146.155553\n",
       "2016-03-31 -50.387680  147.639310\n",
       "2016-04-01 -50.383068  147.727784\n",
       "2016-04-02 -50.086227  146.822809\n",
       "2016-04-03 -50.449627  146.989199\n",
       "2016-04-04 -50.365873  147.112701\n",
       "2016-04-05 -51.496977  146.877600\n",
       "2016-04-06 -52.416773  147.839076\n",
       "2016-04-07 -51.975333  149.357786\n",
       "2016-04-08 -51.947592  149.187207\n",
       "2016-04-09 -51.921267  148.794215\n",
       "2016-04-10 -51.535345  147.911144\n",
       "2016-04-11 -51.298610  149.529811\n",
       "2016-04-12 -49.961310  148.818214\n",
       "2016-04-13 -47.530975  143.809234\n",
       "2016-04-14 -46.393023  143.011398\n",
       "2016-04-15 -44.228010  146.809063"
      ]
     },
     "execution_count": 46,
     "metadata": {},
     "output_type": "execute_result"
    }
   ],
   "source": [
    "f_path = '/g/data/jk72/ll6859/ACCESS_aero_eval/Capricorn/'\n",
    "uw = pd.read_csv(f_path+'in2016_v02uwy10sec.csv', parse_dates=[['date', 'time']], index_col='date_time')\n",
    "uw = uw.resample('1D').mean()\n",
    "uw = uw[['latitude(degree_north)', 'longitude(degree_east)']]\n",
    "uw.columns = ['lat','lon']"
   ]
  },
  {
   "cell_type": "code",
   "execution_count": 47,
   "id": "5ddd0e57-d5df-47eb-94cf-e8753738e17b",
   "metadata": {},
   "outputs": [],
   "source": [
    "# extract aerosol data\n",
    "m_path = '/g/data/jk72/slf563/ACCESS/output/bx400/daily/'\n",
    "mod = 'bx400a'\n",
    "dt = 'pd.sh'\n",
    "key = uw\n",
    "aertrack = df_md(key, m_path, mod, dt)\n",
    "\n",
    "# extract meteorology data\n",
    "m_path = '/g/data/jk72/slf563/ACCESS/output/bx400/daily/'\n",
    "mod = 'bx400a'\n",
    "dt = 'pd.glob'\n",
    "key = uw\n",
    "mettrack = df_md(key, m_path, mod, dt)\n",
    "\n",
    "# calculate air density from temperature\n",
    "mettrack = calc_density(mettrack)\n",
    "\n",
    "# convert aerosol units\n",
    "aertrack = aero_unit_conversions(aertrack, mettrack)\n",
    "\n",
    "# select data at 20m\n",
    "aertrack = aertrack.isel(z1_hybrid_height=0).expand_dims('z1_hybrid_height').transpose()\n",
    "mettrack = mettrack.isel(z1_hybrid_height=0, z0_hybrid_height=0).expand_dims('z1_hybrid_height').transpose()\n",
    "mettrack = mettrack.drop('z0_hybrid_height')\n",
    "\n",
    "# calculate aerosol number concentrations\n",
    "aertrack = nt_calcs(aertrack)\n",
    "\n",
    "# calculate CCN number concentrations\n",
    "aertrack = ccn_calcs(aertrack)"
   ]
  },
  {
   "cell_type": "code",
   "execution_count": 48,
   "id": "1f106b93-d522-4d0e-97d6-265f668bc684",
   "metadata": {},
   "outputs": [],
   "source": [
    "# merge the aerosol and meteorology data together\n",
    "cap1_track = xr.merge([aertrack,mettrack])\n",
    "\n",
    "cap1_track = cap1_track[['lat','lon','N3','N10','CCN40','CCN50','CCN60','uas','vas','psl','pr','tempk']]\n",
    "\n",
    "# remove time component from datetime coordinate\n",
    "cap1_track['time'] = cap1_track.indexes['time'].normalize()"
   ]
  },
  {
   "cell_type": "code",
   "execution_count": 49,
   "id": "bbe681bc-9a98-4e03-8697-92c48b01b685",
   "metadata": {},
   "outputs": [],
   "source": [
    "cap1_track.load().to_netcdf(path=f_path+'cap16_bx400_track.nc')"
   ]
  },
  {
   "cell_type": "markdown",
   "id": "0564eb36-acaa-405b-aa55-425feb8ecceb",
   "metadata": {},
   "source": [
    "cg283"
   ]
  },
  {
   "cell_type": "code",
   "execution_count": 47,
   "id": "139e0609-f504-45dc-afcb-98a0c52b6ae3",
   "metadata": {},
   "outputs": [],
   "source": [
    "# extract aerosol data\n",
    "m_path = '/g/data/jk72/slf563/ACCESS/output/cg283/daily/'\n",
    "mod = 'cg283a'\n",
    "dt = 'pd.sh'\n",
    "key = uw\n",
    "aertrack = df_md(key, m_path, mod, dt)\n",
    "\n",
    "# extract meteorology data\n",
    "m_path = '/g/data/jk72/slf563/ACCESS/output/cg283/daily/'\n",
    "mod = 'cg283a'\n",
    "dt = 'pd.glob'\n",
    "key = uw\n",
    "mettrack = df_md(key, m_path, mod, dt)\n",
    "\n",
    "# calculate air density from temperature\n",
    "mettrack = calc_density(mettrack)\n",
    "\n",
    "# convert aerosol units\n",
    "aertrack = aero_unit_conversions(aertrack, mettrack)\n",
    "\n",
    "# select data at 20m\n",
    "aertrack = aertrack.isel(z1_hybrid_height=0).expand_dims('z1_hybrid_height').transpose()\n",
    "mettrack = mettrack.isel(z1_hybrid_height=0, z0_hybrid_height=0).expand_dims('z1_hybrid_height').transpose()\n",
    "mettrack = mettrack.drop('z0_hybrid_height')\n",
    "\n",
    "# calculate aerosol number concentrations\n",
    "aertrack = nt_calcs(aertrack)\n",
    "\n",
    "# calculate CCN number concentrations\n",
    "aertrack = ccn_calcs(aertrack)"
   ]
  },
  {
   "cell_type": "code",
   "execution_count": 48,
   "id": "09184e3c-60b7-4d8d-b4a9-db093450a3b3",
   "metadata": {},
   "outputs": [],
   "source": [
    "# merge the aerosol and meteorology data together\n",
    "cap1_track = xr.merge([aertrack,mettrack])\n",
    "\n",
    "cap1_track = cap1_track[['lat','lon','N3','N10','CCN40','CCN50','CCN60','uas','vas','psl','pr','tempk']]\n",
    "\n",
    "# remove time component from datetime coordinate\n",
    "cap1_track['time'] = cap1_track.indexes['time'].normalize()"
   ]
  },
  {
   "cell_type": "code",
   "execution_count": 49,
   "id": "1ab31317-1558-4a4b-be67-36638b15e787",
   "metadata": {},
   "outputs": [],
   "source": [
    "cap1_track.load().to_netcdf(path=f_path+'cap16_cg283_track.nc')"
   ]
  },
  {
   "cell_type": "markdown",
   "id": "be9fb9df-b1ab-4c52-91c3-6e3b9ab6345d",
   "metadata": {},
   "source": [
    "# CAPRICORN II"
   ]
  },
  {
   "cell_type": "markdown",
   "id": "5a7a8966-ab64-4daa-9ac0-864df37a58e3",
   "metadata": {},
   "source": [
    "bx400"
   ]
  },
  {
   "cell_type": "code",
   "execution_count": 51,
   "id": "7ef0ba70-7068-4fda-86d1-f0ca94ba12cc",
   "metadata": {},
   "outputs": [],
   "source": [
    "# extract aerosol data\n",
    "m_path = '/g/data/jk72/slf563/ACCESS/output/bx400/daily/'\n",
    "mod = 'bx400a'\n",
    "dt = 'pd.sh'\n",
    "key = uw\n",
    "aertrack = df_md(key, m_path, mod, dt)\n",
    "\n",
    "# extract meteorology data\n",
    "m_path = '/g/data/jk72/slf563/ACCESS/output/bx400/daily/'\n",
    "mod = 'bx400a'\n",
    "dt = 'pd.glob'\n",
    "key = uw\n",
    "mettrack = df_md(key, m_path, mod, dt)\n",
    "\n",
    "# calculate air density from temperature\n",
    "mettrack = calc_density(mettrack)\n",
    "\n",
    "# convert aerosol units\n",
    "aertrack = aero_unit_conversions(aertrack, mettrack)\n",
    "\n",
    "# select data at 20m\n",
    "aertrack = aertrack.isel(z1_hybrid_height=0).expand_dims('z1_hybrid_height').transpose()\n",
    "mettrack = mettrack.isel(z1_hybrid_height=0, z0_hybrid_height=0).expand_dims('z1_hybrid_height').transpose()\n",
    "mettrack = mettrack.drop('z0_hybrid_height')\n",
    "\n",
    "# calculate aerosol number concentrations\n",
    "aertrack = nt_calcs(aertrack)\n",
    "\n",
    "# calculate CCN number concentrations\n",
    "aertrack = ccn_calcs(aertrack)"
   ]
  },
  {
   "cell_type": "code",
   "execution_count": 52,
   "id": "dce5113f-d547-42f1-9141-67101d6fdebe",
   "metadata": {},
   "outputs": [],
   "source": [
    "# merge the aerosol and meteorology data together\n",
    "cap2_track = xr.merge([aertrack,mettrack])\n",
    "\n",
    "cap2_track = cap2_track[['lat','lon','N3','N10','CCN40','CCN50','CCN60','uas','vas','psl','pr','tempk']]\n",
    "\n",
    "# remove time component from datetime coordinate\n",
    "cap2_track['time'] = cap2_track.indexes['time'].normalize()"
   ]
  },
  {
   "cell_type": "code",
   "execution_count": 53,
   "id": "66234641-6ad0-418f-a303-bd0f215bc6c1",
   "metadata": {},
   "outputs": [],
   "source": [
    "cap2_track.load().to_netcdf(path=f_path+'cap18_bx400_track.nc')"
   ]
  },
  {
   "cell_type": "markdown",
   "id": "251c852d-308d-47a9-bea4-ad93111a79ba",
   "metadata": {},
   "source": [
    "cg283"
   ]
  },
  {
   "cell_type": "code",
   "execution_count": 51,
   "id": "0913707e-5ab8-40c1-a9d2-e8bba938e9ee",
   "metadata": {},
   "outputs": [],
   "source": [
    "# extract aerosol data\n",
    "m_path = '/g/data/jk72/slf563/ACCESS/output/cg283/daily/'\n",
    "mod = 'cg283a'\n",
    "dt = 'pd.sh'\n",
    "key = uw\n",
    "aertrack = df_md(key, m_path, mod, dt)\n",
    "\n",
    "# extract meteorology data\n",
    "m_path = '/g/data/jk72/slf563/ACCESS/output/cg283/daily/'\n",
    "mod = 'cg283a'\n",
    "dt = 'pd.glob'\n",
    "key = uw\n",
    "mettrack = df_md(key, m_path, mod, dt)\n",
    "\n",
    "# calculate air density from temperature\n",
    "mettrack = calc_density(mettrack)\n",
    "\n",
    "# convert aerosol units\n",
    "aertrack = aero_unit_conversions(aertrack, mettrack)\n",
    "\n",
    "# select data at 20m\n",
    "aertrack = aertrack.isel(z1_hybrid_height=0).expand_dims('z1_hybrid_height').transpose()\n",
    "mettrack = mettrack.isel(z1_hybrid_height=0, z0_hybrid_height=0).expand_dims('z1_hybrid_height').transpose()\n",
    "mettrack = mettrack.drop('z0_hybrid_height')\n",
    "\n",
    "# calculate aerosol number concentrations\n",
    "aertrack = nt_calcs(aertrack)\n",
    "\n",
    "# calculate CCN number concentrations\n",
    "aertrack = ccn_calcs(aertrack)"
   ]
  },
  {
   "cell_type": "code",
   "execution_count": 52,
   "id": "8bbff344-74e4-4b6a-b23a-bd04e28a29b7",
   "metadata": {},
   "outputs": [],
   "source": [
    "# merge the aerosol and meteorology data together\n",
    "cap2_track = xr.merge([aertrack,mettrack])\n",
    "\n",
    "cap2_track = cap2_track[['lat','lon','N3','N10','CCN40','CCN50','CCN60','uas','vas','psl','pr','tempk']]\n",
    "\n",
    "# remove time component from datetime coordinate\n",
    "cap2_track['time'] = cap2_track.indexes['time'].normalize()"
   ]
  },
  {
   "cell_type": "code",
   "execution_count": 53,
   "id": "fd83215b-be1f-43b6-9c60-8c303a16507b",
   "metadata": {},
   "outputs": [],
   "source": [
    "cap2_track.load().to_netcdf(path=f_path+'cap18_cg283_track.nc')"
   ]
  },
  {
   "cell_type": "markdown",
   "id": "53e635ff-dbda-4bdf-8e4f-f3d3c90a8d5e",
   "metadata": {},
   "source": [
    "# MARCUS"
   ]
  },
  {
   "cell_type": "markdown",
   "id": "141ec770-a356-4410-9215-3679fc4d9c1d",
   "metadata": {},
   "source": [
    "bx400"
   ]
  },
  {
   "cell_type": "code",
   "execution_count": 61,
   "id": "e171ce46-9804-4b3a-bf6e-7a1990370fae",
   "metadata": {},
   "outputs": [],
   "source": [
    "# pull out location of ship\n",
    "f_path = '/g/data/jk72/ll6859/ACCESS_aero_eval/AuroraAustralis/marcus_uw/'\n",
    "voyages = sorted(gb.glob(f_path+'201718_Voyage*.csv'))\n",
    "uw = pd.concat([pd.read_csv(v) for v in voyages ])\n",
    "uw = uw.set_index(pd.to_datetime(uw['date_time_utc']))\n",
    "uw = uw[['latitude','longitude']]\n",
    "uw = uw.resample('1D', kind='Date').mean().ffill()\n",
    "uw.columns = ['lat','lon']"
   ]
  },
  {
   "cell_type": "code",
   "execution_count": 68,
   "id": "d579685d-0c76-41ba-8c86-0238cf923cfb",
   "metadata": {},
   "outputs": [],
   "source": [
    "# extract aerosol data\n",
    "m_path = '/g/data/jk72/slf563/ACCESS/output/bx400/daily/'\n",
    "mod = 'bx400a'\n",
    "dt = 'pd.sh'\n",
    "key = uw\n",
    "\n",
    "aertrack = df_md(key, m_path, mod, dt)\n",
    "\n",
    "# extract meteorology data\n",
    "m_path = '/g/data/jk72/slf563/ACCESS/output/bx400/daily/'\n",
    "mod = 'bx400a'\n",
    "dt = 'pd.glob'\n",
    "key = uw\n",
    "\n",
    "mettrack = df_md(key, m_path, mod, dt)\n",
    "\n",
    "# calculate air density from temperature\n",
    "mettrack = calc_density(mettrack)\n",
    "\n",
    "# convert aerosol units\n",
    "aertrack = aero_unit_conversions(aertrack, mettrack)\n",
    "\n",
    "# select data at 20m\n",
    "aertrack = aertrack.isel(z1_hybrid_height=0).expand_dims('z1_hybrid_height').transpose()\n",
    "mettrack = mettrack.isel(z1_hybrid_height=0).expand_dims('z1_hybrid_height').transpose()\n",
    "mettrack = mettrack.drop('z0_hybrid_height')\n",
    "\n",
    "# calculate aerosol number concentrations\n",
    "aertrack = nt_calcs(aertrack)\n",
    "\n",
    "# calculate CCN number concentrations\n",
    "aertrack = ccn_calcs(aertrack)"
   ]
  },
  {
   "cell_type": "code",
   "execution_count": 71,
   "id": "7f42f3c3-10c2-44dd-bb55-6eb59abfb814",
   "metadata": {},
   "outputs": [],
   "source": [
    "# merge the aerosol and meteorology data together\n",
    "marcus_track = xr.merge([aertrack,mettrack])\n",
    "\n",
    "marcus_track = marcus_track[['lat','lon','N3','N10','CCN40','CCN50','CCN60','uas','vas','psl','pr','tempk']]\n",
    "\n",
    "# remove time component from datetime coordinate\n",
    "marcus_track['time'] = marcus_track.indexes['time'].normalize()"
   ]
  },
  {
   "cell_type": "code",
   "execution_count": 73,
   "id": "01786d58-3923-4c21-88b4-729c29c2a2ca",
   "metadata": {},
   "outputs": [],
   "source": [
    "marcus_track.load().to_netcdf(path='/g/data/jk72/ll6859/ACCESS_aero_eval/AuroraAustralis/aa1718_bx400_track.nc')"
   ]
  },
  {
   "cell_type": "markdown",
   "id": "df31ff00-d8f7-47e4-adfe-6a9e51961dea",
   "metadata": {},
   "source": [
    "cg283"
   ]
  },
  {
   "cell_type": "code",
   "execution_count": 68,
   "id": "c231587d-3090-4380-9b06-16d5ebf9cf11",
   "metadata": {},
   "outputs": [],
   "source": [
    "# extract aerosol data\n",
    "m_path = '/g/data/jk72/slf563/ACCESS/output/cg283/daily/'\n",
    "mod = 'cg283a'\n",
    "dt = 'pd.sh'\n",
    "key = uw\n",
    "\n",
    "aertrack = df_md(key, m_path, mod, dt)\n",
    "\n",
    "# extract meteorology data\n",
    "m_path = '/g/data/jk72/slf563/ACCESS/output/cg283/daily/'\n",
    "mod = 'cg283a'\n",
    "dt = 'pd.glob'\n",
    "key = uw\n",
    "\n",
    "mettrack = df_md(key, m_path, mod, dt)\n",
    "\n",
    "# calculate air density from temperature\n",
    "mettrack = calc_density(mettrack)\n",
    "\n",
    "# convert aerosol units\n",
    "aertrack = aero_unit_conversions(aertrack, mettrack)\n",
    "\n",
    "# select data at 20m\n",
    "aertrack = aertrack.isel(z1_hybrid_height=0).expand_dims('z1_hybrid_height').transpose()\n",
    "mettrack = mettrack.isel(z1_hybrid_height=0).expand_dims('z1_hybrid_height').transpose()\n",
    "mettrack = mettrack.drop('z0_hybrid_height')\n",
    "\n",
    "# calculate aerosol number concentrations\n",
    "aertrack = nt_calcs(aertrack)\n",
    "\n",
    "# calculate CCN number concentrations\n",
    "aertrack = ccn_calcs(aertrack)"
   ]
  },
  {
   "cell_type": "code",
   "execution_count": 71,
   "id": "be1e6348-227d-475b-8e0d-b02690e02416",
   "metadata": {},
   "outputs": [],
   "source": [
    "# merge the aerosol and meteorology data together\n",
    "marcus_track = xr.merge([aertrack,mettrack])\n",
    "\n",
    "marcus_track = marcus_track[['lat','lon','N3','N10','CCN40','CCN50','CCN60','uas','vas','psl','pr','tempk']]\n",
    "\n",
    "# remove time component from datetime coordinate\n",
    "marcus_track['time'] = marcus_track.indexes['time'].normalize()"
   ]
  },
  {
   "cell_type": "code",
   "execution_count": 73,
   "id": "f6d77b84-b189-44b3-9e3e-48e8ea416ca6",
   "metadata": {},
   "outputs": [],
   "source": [
    "marcus_track.load().to_netcdf(path='/g/data/jk72/ll6859/ACCESS_aero_eval/AuroraAustralis/aa1718_cg283_track.nc')"
   ]
  },
  {
   "cell_type": "markdown",
   "id": "c217c32b-32c1-4aa6-8691-896cf8d144fe",
   "metadata": {},
   "source": [
    "# CAMMPCAN"
   ]
  },
  {
   "cell_type": "markdown",
   "id": "f6571ec3-83ff-409f-8ed0-8982b08df3fe",
   "metadata": {},
   "source": [
    "bx400"
   ]
  },
  {
   "cell_type": "code",
   "execution_count": 74,
   "id": "96963b5f-5e10-4ece-a11d-95351d1c65dc",
   "metadata": {},
   "outputs": [],
   "source": [
    "# pull out location of ship\n",
    "f_path = '/g/data/jk72/ll6859/ACCESS_aero_eval/AuroraAustralis/cammpcan_uw/'\n",
    "voyages = sorted(gb.glob(f_path+'201819_Voyage*.csv'))\n",
    "uw = pd.concat([pd.read_csv(v) for v in voyages ])\n",
    "uw = uw.set_index(pd.to_datetime(uw['date_time_utc']))\n",
    "uw = uw[['latitude','longitude']]\n",
    "uw = uw.resample('1D', kind='Date').mean().ffill()\n",
    "uw.columns = ['lat','lon']"
   ]
  },
  {
   "cell_type": "code",
   "execution_count": 81,
   "id": "44bb793f-5a77-4f10-81bb-3c82744d02c9",
   "metadata": {},
   "outputs": [],
   "source": [
    "# extract aerosol data\n",
    "m_path = '/g/data/jk72/slf563/ACCESS/output/bx400/daily/'\n",
    "mod = 'bx400a'\n",
    "dt = 'pd.sh'\n",
    "key = uw\n",
    "\n",
    "aertrack = df_md(key, m_path, mod, dt)\n",
    "\n",
    "# extract meteorology data\n",
    "m_path = '/g/data/jk72/slf563/ACCESS/output/bx400/daily/'\n",
    "mod = 'bx400a'\n",
    "dt = 'pd.glob'\n",
    "key = uw\n",
    "\n",
    "mettrack = df_md(key, m_path, mod, dt)\n",
    "\n",
    "# calculate air density from temperature\n",
    "mettrack = calc_density(mettrack)\n",
    "\n",
    "# convert aerosol units\n",
    "aertrack = aero_unit_conversions(aertrack, mettrack)\n",
    "\n",
    "# select data at 20m\n",
    "aertrack = aertrack.isel(z1_hybrid_height=0).expand_dims('z1_hybrid_height').transpose()\n",
    "mettrack = mettrack.isel(z1_hybrid_height=0).expand_dims('z1_hybrid_height').transpose()\n",
    "mettrack = mettrack.drop('z0_hybrid_height')\n",
    "\n",
    "# calculate aerosol number concentrations\n",
    "aertrack = nt_calcs(aertrack)\n",
    "\n",
    "# calculate CCN number concentrations\n",
    "aertrack = ccn_calcs(aertrack)"
   ]
  },
  {
   "cell_type": "code",
   "execution_count": 84,
   "id": "38e396ae-4cd2-4b7b-8594-19f94cfe7922",
   "metadata": {},
   "outputs": [],
   "source": [
    "# merge the aerosol and meteorology data together\n",
    "cammpcan_track = xr.merge([aertrack,mettrack])\n",
    "\n",
    "cammpcan_track = cammpcan_track[['lat','lon','N3','N10','CCN40','CCN50','CCN60','uas','vas','psl','pr','tempk']]\n",
    "\n",
    "# remove time component from datetime coordinate\n",
    "cammpcan_track['time'] = cammpcan_track.indexes['time'].normalize()"
   ]
  },
  {
   "cell_type": "code",
   "execution_count": 88,
   "id": "bec46476-0bab-4fdf-b8d2-21f14210e661",
   "metadata": {},
   "outputs": [],
   "source": [
    "cammpcan_track.load().to_netcdf(path='/g/data/jk72/ll6859/ACCESS_aero_eval/AuroraAustralis/aa1819_bx400_track.nc')"
   ]
  },
  {
   "cell_type": "markdown",
   "id": "1fdbb84a-ba01-4e8d-a33c-04e9ff843f85",
   "metadata": {},
   "source": [
    "cg283"
   ]
  },
  {
   "cell_type": "code",
   "execution_count": 81,
   "id": "b988078b-2dbd-4588-a993-ba69bc27cdaf",
   "metadata": {},
   "outputs": [],
   "source": [
    "# extract aerosol data\n",
    "m_path = '/g/data/jk72/slf563/ACCESS/output/cg283/daily/'\n",
    "mod = 'cg283a'\n",
    "dt = 'pd.sh'\n",
    "key = uw\n",
    "\n",
    "aertrack = df_md(key, m_path, mod, dt)\n",
    "\n",
    "# extract meteorology data\n",
    "m_path = '/g/data/jk72/slf563/ACCESS/output/cg283/daily/'\n",
    "mod = 'cg283a'\n",
    "dt = 'pd.glob'\n",
    "key = uw\n",
    "\n",
    "mettrack = df_md(key, m_path, mod, dt)\n",
    "\n",
    "# calculate air density from temperature\n",
    "mettrack = calc_density(mettrack)\n",
    "\n",
    "# convert aerosol units\n",
    "aertrack = aero_unit_conversions(aertrack, mettrack)\n",
    "\n",
    "# select data at 20m\n",
    "aertrack = aertrack.isel(z1_hybrid_height=0).expand_dims('z1_hybrid_height').transpose()\n",
    "mettrack = mettrack.isel(z1_hybrid_height=0).expand_dims('z1_hybrid_height').transpose()\n",
    "mettrack = mettrack.drop('z0_hybrid_height')\n",
    "\n",
    "# calculate aerosol number concentrations\n",
    "aertrack = nt_calcs(aertrack)\n",
    "\n",
    "# calculate CCN number concentrations\n",
    "aertrack = ccn_calcs(aertrack)"
   ]
  },
  {
   "cell_type": "code",
   "execution_count": 84,
   "id": "7e97629d-dd8d-4738-8ecd-4f8addf0469c",
   "metadata": {},
   "outputs": [],
   "source": [
    "# merge the aerosol and meteorology data together\n",
    "cammpcan_track = xr.merge([aertrack,mettrack])\n",
    "\n",
    "cammpcan_track = cammpcan_track[['lat','lon','N3','N10','CCN40','CCN50','CCN60','uas','vas','psl','pr','tempk']]\n",
    "\n",
    "# remove time component from datetime coordinate\n",
    "cammpcan_track['time'] = cammpcan_track.indexes['time'].normalize()"
   ]
  },
  {
   "cell_type": "code",
   "execution_count": 88,
   "id": "a7db14c6-aed4-4fca-b333-611de837d64f",
   "metadata": {},
   "outputs": [],
   "source": [
    "cammpcan_track.load().to_netcdf(path='/g/data/jk72/ll6859/ACCESS_aero_eval/AuroraAustralis/aa1819_cg283_track.nc')"
   ]
  },
  {
   "cell_type": "markdown",
   "id": "c45d0728-37fa-4ffd-b200-0f943963fa93",
   "metadata": {},
   "source": [
    "# TAN1802"
   ]
  },
  {
   "cell_type": "markdown",
   "id": "089b98ed-fb24-46cb-aaa5-6ddf7ebc05fa",
   "metadata": {},
   "source": [
    "bx400"
   ]
  },
  {
   "cell_type": "code",
   "execution_count": 89,
   "id": "6ee2c0c8-02e2-44a2-b644-c9fc204a8f1d",
   "metadata": {},
   "outputs": [],
   "source": [
    "f_path = '/g/data/jk72/ll6859/ACCESS_aero_eval/TAN1802/'\n",
    "uw = keycutter(f_path+'weather.csv', 'Time (UTC)', 'Latitude', 'Longitude')\n",
    "uw = uw.dropna()"
   ]
  },
  {
   "cell_type": "code",
   "execution_count": 96,
   "id": "0504173b-2123-4fc2-b8be-58810b9daa84",
   "metadata": {},
   "outputs": [],
   "source": [
    "# extract aerosol data\n",
    "m_path = '/g/data/jk72/slf563/ACCESS/output/bx400/daily/'\n",
    "mod = 'bx400a'\n",
    "dt = 'pd.sh'\n",
    "key = uw\n",
    "\n",
    "aertrack = df_md(key, m_path, mod, dt)\n",
    "\n",
    "# extract meteorology data\n",
    "m_path = '/g/data/jk72/slf563/ACCESS/output/bx400/daily/'\n",
    "mod = 'bx400a'\n",
    "dt = 'pd.glob'\n",
    "key = uw\n",
    "\n",
    "mettrack = df_md(key, m_path, mod, dt)\n",
    "\n",
    "# calculate air density from temperature\n",
    "mettrack = calc_density(mettrack)\n",
    "\n",
    "# convert aerosol units\n",
    "aertrack = aero_unit_conversions(aertrack, mettrack)\n",
    "\n",
    "# select data at 20m\n",
    "aertrack = aertrack.isel(z1_hybrid_height=0).expand_dims('z1_hybrid_height').transpose()\n",
    "mettrack = mettrack.isel(z1_hybrid_height=0).expand_dims('z1_hybrid_height').transpose()\n",
    "mettrack = mettrack.drop('z0_hybrid_height')\n",
    "\n",
    "# calculate aerosol number concentrations\n",
    "aertrack = nt_calcs(aertrack)\n",
    "\n",
    "# calculate CCN number concentrations\n",
    "aertrack = ccn_calcs(aertrack)"
   ]
  },
  {
   "cell_type": "code",
   "execution_count": 99,
   "id": "b16c2d64-7881-440c-970f-0ed20ca852bc",
   "metadata": {},
   "outputs": [],
   "source": [
    "# merge the aerosol and meteorology data together\n",
    "tan_track = xr.merge([aertrack,mettrack])\n",
    "\n",
    "tan_track = tan_track[['lat','lon','N3','N10','CCN40','CCN50','CCN60','uas','vas','psl','pr','tempk']]\n",
    "\n",
    "# remove time component from datetime coordinate\n",
    "tan_track['time'] = tan_track.indexes['time'].normalize()"
   ]
  },
  {
   "cell_type": "code",
   "execution_count": 101,
   "id": "12e230b3-004a-4760-864c-14ee5815cb7f",
   "metadata": {},
   "outputs": [],
   "source": [
    "tan_track.load().to_netcdf(path='/g/data/jk72/ll6859/ACCESS_aero_eval/TAN1802/tan1718_bx400_track.nc')"
   ]
  },
  {
   "cell_type": "markdown",
   "id": "35560d1a-cdc2-4a31-90f3-04e73dfeaab3",
   "metadata": {},
   "source": [
    "cg283"
   ]
  },
  {
   "cell_type": "code",
   "execution_count": 96,
   "id": "ebcbd4b0-533e-4978-bde6-803a74d1591c",
   "metadata": {},
   "outputs": [],
   "source": [
    "# extract aerosol data\n",
    "m_path = '/g/data/jk72/slf563/ACCESS/output/cg283/daily/'\n",
    "mod = 'cg283a'\n",
    "dt = 'pd.sh'\n",
    "key = uw\n",
    "\n",
    "aertrack = df_md(key, m_path, mod, dt)\n",
    "\n",
    "# extract meteorology data\n",
    "m_path = '/g/data/jk72/slf563/ACCESS/output/cg283/daily/'\n",
    "mod = 'cg283a'\n",
    "dt = 'pd.glob'\n",
    "key = uw\n",
    "\n",
    "mettrack = df_md(key, m_path, mod, dt)\n",
    "\n",
    "# calculate air density from temperature\n",
    "mettrack = calc_density(mettrack)\n",
    "\n",
    "# convert aerosol units\n",
    "aertrack = aero_unit_conversions(aertrack, mettrack)\n",
    "\n",
    "# select data at 20m\n",
    "aertrack = aertrack.isel(z1_hybrid_height=0).expand_dims('z1_hybrid_height').transpose()\n",
    "mettrack = mettrack.isel(z1_hybrid_height=0).expand_dims('z1_hybrid_height').transpose()\n",
    "mettrack = mettrack.drop('z0_hybrid_height')\n",
    "\n",
    "# calculate aerosol number concentrations\n",
    "aertrack = nt_calcs(aertrack)\n",
    "\n",
    "# calculate CCN number concentrations\n",
    "aertrack = ccn_calcs(aertrack)"
   ]
  },
  {
   "cell_type": "code",
   "execution_count": 99,
   "id": "21b0179f-2b7f-4195-8d4c-9706697adbe7",
   "metadata": {},
   "outputs": [],
   "source": [
    "# merge the aerosol and meteorology data together\n",
    "tan_track = xr.merge([aertrack,mettrack])\n",
    "\n",
    "tan_track = tan_track[['lat','lon','N3','N10','CCN40','CCN50','CCN60','uas','vas','psl','pr','tempk']]\n",
    "\n",
    "# remove time component from datetime coordinate\n",
    "tan_track['time'] = tan_track.indexes['time'].normalize()"
   ]
  },
  {
   "cell_type": "code",
   "execution_count": 101,
   "id": "6bd5c504-69cd-4ac0-b028-14341357f0e2",
   "metadata": {},
   "outputs": [],
   "source": [
    "tan_track.load().to_netcdf(path='/g/data/jk72/ll6859/ACCESS_aero_eval/TAN1802/tan1718_cg283_track.nc')"
   ]
  }
 ],
 "metadata": {
  "kernelspec": {
   "display_name": "Python [conda env:analysis3-22.04]",
   "language": "python",
   "name": "conda-env-analysis3-22.04-py"
  },
  "language_info": {
   "codemirror_mode": {
    "name": "ipython",
    "version": 3
   },
   "file_extension": ".py",
   "mimetype": "text/x-python",
   "name": "python",
   "nbconvert_exporter": "python",
   "pygments_lexer": "ipython3",
   "version": "3.9.13"
  }
 },
 "nbformat": 4,
 "nbformat_minor": 5
}
