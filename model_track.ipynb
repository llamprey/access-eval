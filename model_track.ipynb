{
 "cells": [
  {
   "cell_type": "code",
   "execution_count": 1,
   "id": "8f44c7ed-28c6-4208-aed2-ac7c4a84e2a7",
   "metadata": {},
   "outputs": [],
   "source": [
    "import sys\n",
    "import os\n",
    "sys.path.append('/g/data/jk72/ll6859/ACCESS_aero_eval/')\n",
    "from aercode import *\n",
    "import matplotlib \n",
    "import matplotlib.pyplot as plt \n",
    "import pandas as pd\n",
    "import numpy as np\n",
    "import xarray as xr\n",
    "import glob as gb\n",
    "import cartopy.crs as ccrs\n",
    "import seaborn as sns\n",
    "import scipy.special\n",
    "import datetime as dt\n",
    "\n",
    "import dask\n",
    "import warnings\n",
    "from dask.distributed import Client"
   ]
  },
  {
   "cell_type": "code",
   "execution_count": 7,
   "id": "5a13b51f-585a-485d-be9f-d030bff02a1c",
   "metadata": {},
   "outputs": [],
   "source": [
    "plt.style.use('default')\n",
    "warnings.filterwarnings('ignore')"
   ]
  },
  {
   "cell_type": "markdown",
   "id": "169d9f2a-507a-4262-b725-c6709443ce28",
   "metadata": {
    "tags": []
   },
   "source": [
    "## RVInvestigator"
   ]
  },
  {
   "cell_type": "markdown",
   "id": "02b39c00-fd5c-40f6-919a-a4af343a8cd8",
   "metadata": {
    "tags": []
   },
   "source": [
    "bx400"
   ]
  },
  {
   "cell_type": "code",
   "execution_count": 3,
   "id": "8bce48e7-d979-41de-9f1c-94330942a924",
   "metadata": {},
   "outputs": [],
   "source": [
    "f_path = '/g/data/jk72/ll6859/ACCESS_aero_eval/RVInvestigator/'\n",
    "uw = keycutter(f_path+'rvigaw_cn10_2016to2019_L2.csv', 'datetime', 'latitude', 'longitude')\n",
    "uw = uw.dropna()"
   ]
  },
  {
   "cell_type": "code",
   "execution_count": 5,
   "id": "d7df3cc3-b51c-48f6-ab69-a824cd117553",
   "metadata": {},
   "outputs": [],
   "source": [
    "# extract aerosol data\n",
    "m_path = '/g/data/jk72/slf563/ACCESS/output/bx400/daily/'\n",
    "mod = 'bx400a'\n",
    "dt = 'pd.sh'\n",
    "key = uw\n",
    "\n",
    "aertrack = df_md(key, m_path, mod, dt)"
   ]
  },
  {
   "cell_type": "code",
   "execution_count": 6,
   "id": "9e7c78b8-90be-40a7-b822-c95450827e8d",
   "metadata": {},
   "outputs": [],
   "source": [
    "# extract meteorology data\n",
    "m_path = '/g/data/jk72/slf563/ACCESS/output/bx400/daily/'\n",
    "mod = 'bx400a'\n",
    "dt = 'pd.glob'\n",
    "key = uw\n",
    "\n",
    "mettrack = df_md(key, m_path, mod, dt)"
   ]
  },
  {
   "cell_type": "code",
   "execution_count": 7,
   "id": "654ca8a4-9fa3-4c08-a2a5-a93faf3f34ca",
   "metadata": {},
   "outputs": [],
   "source": [
    "# calculate air density from temperature\n",
    "mettrack = calc_density(mettrack)"
   ]
  },
  {
   "cell_type": "code",
   "execution_count": 8,
   "id": "2ae29008-9518-477f-8993-95103d567086",
   "metadata": {},
   "outputs": [],
   "source": [
    "# convert aerosol units\n",
    "aertrack = aero_unit_conversions(aertrack, mettrack)"
   ]
  },
  {
   "cell_type": "code",
   "execution_count": 9,
   "id": "f463bc4e-7d48-4cf4-a65d-8535d4110a35",
   "metadata": {},
   "outputs": [],
   "source": [
    "# select data at 20m\n",
    "aertrack = aertrack.isel(z1_hybrid_height=0).expand_dims('z1_hybrid_height').transpose()\n",
    "mettrack = mettrack.isel(z1_hybrid_height=0, z0_hybrid_height=0).expand_dims('z1_hybrid_height').transpose()\n",
    "mettrack = mettrack.drop('z0_hybrid_height')"
   ]
  },
  {
   "cell_type": "code",
   "execution_count": 10,
   "id": "a97d0b82-b749-4352-a8fe-7fb5b5b0cf1b",
   "metadata": {},
   "outputs": [],
   "source": [
    "# calculate aerosol number concentrations\n",
    "aertrack = nt_calcs(aertrack)"
   ]
  },
  {
   "cell_type": "code",
   "execution_count": 11,
   "id": "9c2341d3-08ea-4038-8f04-3af1aeed39ea",
   "metadata": {},
   "outputs": [],
   "source": [
    "# calculate CCN number concentrations\n",
    "aertrack = ccn_calcs(aertrack)"
   ]
  },
  {
   "cell_type": "code",
   "execution_count": 12,
   "id": "98f04471-81aa-4a1f-b7c3-8b9046dab5e0",
   "metadata": {},
   "outputs": [],
   "source": [
    "# merge the aerosol and meteorology data together\n",
    "rvi_track = xr.merge([aertrack,mettrack])"
   ]
  },
  {
   "cell_type": "code",
   "execution_count": 13,
   "id": "8c7a944c-2c25-44ee-94f8-264475e772c4",
   "metadata": {},
   "outputs": [],
   "source": [
    "rvi_track = rvi_track[['lat','lon','N3','N10','CCN40','CCN50','CCN60','uas','vas','psl','pr','tempk']]"
   ]
  },
  {
   "cell_type": "code",
   "execution_count": 14,
   "id": "98c4602d-e544-4d78-ad9f-6bc559581250",
   "metadata": {},
   "outputs": [],
   "source": [
    "# remove time component from datetime coordinate\n",
    "rvi_track['time'] = rvi_track.indexes['time'].normalize()"
   ]
  },
  {
   "cell_type": "code",
   "execution_count": 16,
   "id": "28e8e3e7-d2c8-437f-8654-e0daaaa9b334",
   "metadata": {},
   "outputs": [],
   "source": [
    "rvi_track.load().to_netcdf(path=f_path+'rvi1619_bx400_track.nc')"
   ]
  },
  {
   "cell_type": "markdown",
   "id": "54135a5e-5922-41a7-9555-963242be6690",
   "metadata": {},
   "source": [
    "cg283"
   ]
  },
  {
   "cell_type": "code",
   "execution_count": 4,
   "id": "474e236f-a4a9-4278-8406-346d96e6af6e",
   "metadata": {},
   "outputs": [],
   "source": [
    "# extract aerosol data\n",
    "m_path = '/g/data/jk72/slf563/ACCESS/output/cg283/daily/'\n",
    "mod = 'cg283a'\n",
    "dt = 'pd.sh'\n",
    "key = uw\n",
    "\n",
    "aertrack = df_md(key, m_path, mod, dt)"
   ]
  },
  {
   "cell_type": "code",
   "execution_count": 5,
   "id": "515fe18d-f8ca-4f2d-b92b-6e187d6edd70",
   "metadata": {},
   "outputs": [],
   "source": [
    "# extract meteorology data\n",
    "m_path = '/g/data/jk72/slf563/ACCESS/output/cg283/daily/'\n",
    "mod = 'cg283a'\n",
    "dt = 'pd.glob'\n",
    "key = uw\n",
    "\n",
    "mettrack = df_md(key, m_path, mod, dt)"
   ]
  },
  {
   "cell_type": "code",
   "execution_count": 6,
   "id": "a1ced523-2c1d-41e6-b3c1-58f371bb1e4e",
   "metadata": {},
   "outputs": [],
   "source": [
    "# calculate air density from temperature\n",
    "mettrack = calc_density(mettrack)"
   ]
  },
  {
   "cell_type": "code",
   "execution_count": 7,
   "id": "3435798e-73e2-4f31-8deb-31d3aa29ca0a",
   "metadata": {},
   "outputs": [],
   "source": [
    "# convert aerosol units\n",
    "aertrack = aero_unit_conversions(aertrack, mettrack)"
   ]
  },
  {
   "cell_type": "code",
   "execution_count": 8,
   "id": "6629f8ab-cf66-4604-8da1-7dcd86317bd4",
   "metadata": {},
   "outputs": [],
   "source": [
    "# select data at 20m\n",
    "aertrack = aertrack.isel(z1_hybrid_height=0).expand_dims('z1_hybrid_height').transpose()\n",
    "mettrack = mettrack.isel(z1_hybrid_height=0, z0_hybrid_height=0).expand_dims('z1_hybrid_height').transpose()\n",
    "mettrack = mettrack.drop('z0_hybrid_height')"
   ]
  },
  {
   "cell_type": "code",
   "execution_count": 9,
   "id": "091763a3-81b7-42ed-9d15-1520529a2344",
   "metadata": {},
   "outputs": [],
   "source": [
    "# calculate aerosol number concentrations\n",
    "aertrack = nt_calcs(aertrack)"
   ]
  },
  {
   "cell_type": "code",
   "execution_count": 10,
   "id": "63c417aa-5701-41cc-b26f-9609c8e6f0c7",
   "metadata": {},
   "outputs": [],
   "source": [
    "# calculate CCN number concentrations\n",
    "aertrack = ccn_calcs(aertrack)"
   ]
  },
  {
   "cell_type": "code",
   "execution_count": 11,
   "id": "114c45b3-43e0-4015-b2ea-1d8089f766b5",
   "metadata": {},
   "outputs": [],
   "source": [
    "# merge the aerosol and meteorology data together\n",
    "rvi_track = xr.merge([aertrack,mettrack])"
   ]
  },
  {
   "cell_type": "code",
   "execution_count": 12,
   "id": "3c125890-e198-42d6-a694-5e935962549b",
   "metadata": {},
   "outputs": [],
   "source": [
    "rvi_track = rvi_track[['lat','lon','N3','N10','CCN40','CCN50','CCN60','uas','vas','psl','pr','tempk']]"
   ]
  },
  {
   "cell_type": "code",
   "execution_count": 13,
   "id": "3d56a808-649f-4739-a06a-fbf091fac059",
   "metadata": {},
   "outputs": [],
   "source": [
    "# remove time component from datetime coordinate, invert datetime order\n",
    "rvi_track['time'] = rvi_track.indexes['time'].normalize()\n",
    "rvi_track['time'] = rvi_track['time'][::-1]"
   ]
  },
  {
   "cell_type": "code",
   "execution_count": 15,
   "id": "4402420f-4650-449b-9e59-aea162ed881c",
   "metadata": {},
   "outputs": [],
   "source": [
    "rvi_track.load().to_netcdf(path='/g/data/jk72/ll6859/rvi1619_cg283_track.nc')"
   ]
  },
  {
   "cell_type": "markdown",
   "id": "6e66da02-7fac-4a79-bf31-3570e2e03842",
   "metadata": {
    "tags": []
   },
   "source": [
    "# Cold Water Trial"
   ]
  },
  {
   "cell_type": "markdown",
   "id": "2da37a21-bb80-460f-9c1e-53a980d857b4",
   "metadata": {},
   "source": [
    "bx400"
   ]
  },
  {
   "cell_type": "code",
   "execution_count": 17,
   "id": "fb8c94f7-219f-48dc-b2d4-664b0fe93ce5",
   "metadata": {},
   "outputs": [],
   "source": [
    "f_path = '/g/data/jk72/ll6859/ACCESS_aero_eval/ColdWaterTrial/'\n",
    "uw = keycutter(f_path+'CWT_ProcessedAerosolData_1min.csv', 'date', 'lat', 'lon')\n",
    "uw = uw.dropna()"
   ]
  },
  {
   "cell_type": "code",
   "execution_count": 19,
   "id": "75392557-904a-4efa-96ae-b37b7c3ecce6",
   "metadata": {},
   "outputs": [],
   "source": [
    "# extract aerosol data\n",
    "m_path = '/g/data/jk72/slf563/ACCESS/output/bx400/daily/'\n",
    "mod = 'bx400a'\n",
    "dt = 'pd.sh'\n",
    "key = uw\n",
    "\n",
    "aertrack = df_md(key, m_path, mod, dt)"
   ]
  },
  {
   "cell_type": "code",
   "execution_count": 20,
   "id": "bf7df214-aa43-49e6-be44-813ff943bdaa",
   "metadata": {},
   "outputs": [],
   "source": [
    "# extract meteorology data\n",
    "m_path = '/g/data/jk72/slf563/ACCESS/output/bx400/daily/'\n",
    "mod = 'bx400a'\n",
    "dt = 'pd.glob'\n",
    "key = uw\n",
    "\n",
    "mettrack = df_md(key, m_path, mod, dt)"
   ]
  },
  {
   "cell_type": "code",
   "execution_count": 21,
   "id": "30d78aac-092a-4ce5-9257-cabda29e30b3",
   "metadata": {},
   "outputs": [],
   "source": [
    "# calculate air density from temperature\n",
    "mettrack = calc_density(mettrack)"
   ]
  },
  {
   "cell_type": "code",
   "execution_count": 22,
   "id": "f785c3a6-c380-47f7-ae21-6ab74620dd0d",
   "metadata": {},
   "outputs": [],
   "source": [
    "# convert aerosol units\n",
    "aertrack = aero_unit_conversions(aertrack, mettrack)"
   ]
  },
  {
   "cell_type": "code",
   "execution_count": 23,
   "id": "207b91da-fec0-4221-914b-42f898ccda81",
   "metadata": {},
   "outputs": [],
   "source": [
    "# select data at 20m\n",
    "aertrack = aertrack.isel(z1_hybrid_height=0).expand_dims('z1_hybrid_height').transpose()\n",
    "mettrack = mettrack.isel(z1_hybrid_height=0, z0_hybrid_height=0).expand_dims('z1_hybrid_height').transpose()\n",
    "mettrack = mettrack.drop('z0_hybrid_height')"
   ]
  },
  {
   "cell_type": "code",
   "execution_count": 24,
   "id": "870d1e64-779a-45c4-bed7-fdf279f3b5b7",
   "metadata": {},
   "outputs": [],
   "source": [
    "# calculate aerosol number concentrations\n",
    "aertrack = nt_calcs(aertrack)"
   ]
  },
  {
   "cell_type": "code",
   "execution_count": 25,
   "id": "8dbc35a8-d82b-49ce-9da0-b14aad0f610b",
   "metadata": {},
   "outputs": [],
   "source": [
    "# calculate CCN number concentrations\n",
    "aertrack = ccn_calcs(aertrack)"
   ]
  },
  {
   "cell_type": "code",
   "execution_count": 26,
   "id": "0610f2cb-3a94-4b4e-a8a6-24ef00636987",
   "metadata": {},
   "outputs": [],
   "source": [
    "# merge the aerosol and meteorology data together\n",
    "cwt_track = xr.merge([aertrack,mettrack])"
   ]
  },
  {
   "cell_type": "code",
   "execution_count": 27,
   "id": "1fbf0ce6-91e7-4415-9c4d-da74525cea45",
   "metadata": {},
   "outputs": [],
   "source": [
    "cwt_track = cwt_track[['lat','lon','N3','N10','CCN40','CCN50','CCN60','uas','vas','psl','pr','tempk']]"
   ]
  },
  {
   "cell_type": "code",
   "execution_count": 28,
   "id": "e23169a4-1d3b-497e-8e92-9b0789d22137",
   "metadata": {},
   "outputs": [],
   "source": [
    "# remove time component from datetime coordinate\n",
    "cwt_track['time'] = cwt_track.indexes['time'].normalize()"
   ]
  },
  {
   "cell_type": "code",
   "execution_count": 30,
   "id": "f84d1b2f-a1c2-41d4-9792-1157c42cc553",
   "metadata": {},
   "outputs": [],
   "source": [
    "cwt_track.load().to_netcdf(path=f_path+'cwt15_bx400_track.nc')"
   ]
  },
  {
   "cell_type": "markdown",
   "id": "7a30e055-a86b-4964-8ee7-a14d28a6ed3a",
   "metadata": {},
   "source": [
    "cg283"
   ]
  },
  {
   "cell_type": "code",
   "execution_count": 19,
   "id": "8cfa03d0-34c2-44e2-a347-b1dce8f3dd65",
   "metadata": {
    "tags": []
   },
   "outputs": [],
   "source": [
    "# extract aerosol data\n",
    "m_path = '/g/data/jk72/slf563/ACCESS/output/cg283/daily/'\n",
    "mod = 'cg283a'\n",
    "dt = 'pd.sh'\n",
    "key = uw\n",
    "\n",
    "aertrack = df_md(key, m_path, mod, dt)"
   ]
  },
  {
   "cell_type": "code",
   "execution_count": 20,
   "id": "976ef007-fb20-4019-8938-8616ae7d398d",
   "metadata": {},
   "outputs": [],
   "source": [
    "# extract meteorology data\n",
    "m_path = '/g/data/jk72/slf563/ACCESS/output/cg283/daily/'\n",
    "mod = 'cg283a'\n",
    "dt = 'pd.glob'\n",
    "key = uw\n",
    "\n",
    "mettrack = df_md(key, m_path, mod, dt)"
   ]
  },
  {
   "cell_type": "code",
   "execution_count": 21,
   "id": "9219f6c3-bb29-437a-92df-6832ed5238bc",
   "metadata": {},
   "outputs": [],
   "source": [
    "# calculate air density from temperature\n",
    "mettrack = calc_density(mettrack)"
   ]
  },
  {
   "cell_type": "code",
   "execution_count": 22,
   "id": "f05af333-54aa-4c27-a52a-f30d7005f805",
   "metadata": {},
   "outputs": [],
   "source": [
    "# convert aerosol units\n",
    "aertrack = aero_unit_conversions(aertrack, mettrack)"
   ]
  },
  {
   "cell_type": "code",
   "execution_count": 23,
   "id": "c5441827-90e2-491a-8aeb-a4dbe80dec94",
   "metadata": {},
   "outputs": [],
   "source": [
    "# select data at 20m\n",
    "aertrack = aertrack.isel(z1_hybrid_height=0).expand_dims('z1_hybrid_height').transpose()\n",
    "mettrack = mettrack.isel(z1_hybrid_height=0, z0_hybrid_height=0).expand_dims('z1_hybrid_height').transpose()\n",
    "mettrack = mettrack.drop('z0_hybrid_height')"
   ]
  },
  {
   "cell_type": "code",
   "execution_count": 24,
   "id": "717c33ac-75df-45e4-9521-008a8c858042",
   "metadata": {},
   "outputs": [],
   "source": [
    "# calculate aerosol number concentrations\n",
    "aertrack = nt_calcs(aertrack)"
   ]
  },
  {
   "cell_type": "code",
   "execution_count": 25,
   "id": "14b1fdd5-829b-48e5-82b9-42d61b2be4ab",
   "metadata": {},
   "outputs": [],
   "source": [
    "# calculate CCN number concentrations\n",
    "aertrack = ccn_calcs(aertrack)"
   ]
  },
  {
   "cell_type": "code",
   "execution_count": 26,
   "id": "03fc8d0e-29a4-4936-9909-7106471a4112",
   "metadata": {},
   "outputs": [],
   "source": [
    "# merge the aerosol and meteorology data together\n",
    "cwt_track = xr.merge([aertrack,mettrack])"
   ]
  },
  {
   "cell_type": "code",
   "execution_count": 27,
   "id": "c2d64059-a2d3-4c0b-a666-6c464cf29881",
   "metadata": {},
   "outputs": [],
   "source": [
    "cwt_track = cwt_track[['lat','lon','N3','N10','CCN40','CCN50','CCN60','uas','vas','psl','pr','tempk']]"
   ]
  },
  {
   "cell_type": "code",
   "execution_count": 28,
   "id": "12844a11-f8de-430b-9515-6418bab1a1fa",
   "metadata": {},
   "outputs": [],
   "source": [
    "# remove time component from datetime coordinate\n",
    "cwt_track['time'] = cwt_track.indexes['time'].normalize()"
   ]
  },
  {
   "cell_type": "code",
   "execution_count": 30,
   "id": "3a7c6718-59c5-4981-aa20-bacdb969eaef",
   "metadata": {},
   "outputs": [],
   "source": [
    "cwt_track.load().to_netcdf(path=f_path+'cwt15_cg283_track.nc')"
   ]
  },
  {
   "cell_type": "markdown",
   "id": "40877165-2d33-492b-8655-257e9dbac30f",
   "metadata": {},
   "source": [
    "# Reef 2 Rainforest"
   ]
  },
  {
   "cell_type": "markdown",
   "id": "c549740a-142d-45b5-a720-97d21db813e6",
   "metadata": {},
   "source": [
    "bx400"
   ]
  },
  {
   "cell_type": "code",
   "execution_count": 31,
   "id": "d607d6a4-2545-4ac9-8634-c5bb3ba303e3",
   "metadata": {},
   "outputs": [],
   "source": [
    "f_path = '/g/data/jk72/ll6859/ACCESS_aero_eval/Reef2Rain/'\n",
    "uw = keycutter(f_path+'R2R_RV_aerosol.csv', 'date', 'lat', 'lon')\n",
    "uw = uw.dropna()"
   ]
  },
  {
   "cell_type": "code",
   "execution_count": 33,
   "id": "0ffaed18-8409-4683-b77b-f00af293ee44",
   "metadata": {},
   "outputs": [],
   "source": [
    "# extract aerosol data\n",
    "m_path = '/g/data/jk72/slf563/ACCESS/output/bx400/daily/'\n",
    "mod = 'bx400a'\n",
    "dt = 'pd.sh'\n",
    "key = uw\n",
    "\n",
    "aertrack = df_md(key, m_path, mod, dt)"
   ]
  },
  {
   "cell_type": "code",
   "execution_count": 34,
   "id": "3805d8c0-d1b2-4042-957e-8f2e5b52a499",
   "metadata": {},
   "outputs": [],
   "source": [
    "# extract meteorology data\n",
    "m_path = '/g/data/jk72/slf563/ACCESS/output/bx400/daily/'\n",
    "mod = 'bx400a'\n",
    "dt = 'pd.glob'\n",
    "key = uw\n",
    "\n",
    "mettrack = df_md(key, m_path, mod, dt)"
   ]
  },
  {
   "cell_type": "code",
   "execution_count": 35,
   "id": "69df3d8d-4b15-4055-a583-93769a301893",
   "metadata": {},
   "outputs": [],
   "source": [
    "# calculate air density from temperature\n",
    "mettrack = calc_density(mettrack)"
   ]
  },
  {
   "cell_type": "code",
   "execution_count": 36,
   "id": "2e63477b-42d6-4505-8bd5-a834acb75575",
   "metadata": {},
   "outputs": [],
   "source": [
    "# convert aerosol units\n",
    "aertrack = aero_unit_conversions(aertrack, mettrack)"
   ]
  },
  {
   "cell_type": "code",
   "execution_count": 37,
   "id": "c0040ba6-efe2-4a00-b269-51813d199842",
   "metadata": {},
   "outputs": [],
   "source": [
    "# select data at 20m\n",
    "aertrack = aertrack.isel(z1_hybrid_height=0).expand_dims('z1_hybrid_height').transpose()\n",
    "mettrack = mettrack.isel(z1_hybrid_height=0, z0_hybrid_height=0).expand_dims('z1_hybrid_height').transpose()\n",
    "mettrack = mettrack.drop('z0_hybrid_height')"
   ]
  },
  {
   "cell_type": "code",
   "execution_count": 38,
   "id": "9815e0b7-d43e-496f-bb19-6511333eb4dd",
   "metadata": {},
   "outputs": [],
   "source": [
    "# calculate aerosol number concentrations\n",
    "aertrack = nt_calcs(aertrack)"
   ]
  },
  {
   "cell_type": "code",
   "execution_count": 39,
   "id": "d9a4f612-3ded-4e8d-8aad-e78aa6ed6147",
   "metadata": {},
   "outputs": [],
   "source": [
    "# calculate CCN number concentrations\n",
    "aertrack = ccn_calcs(aertrack)"
   ]
  },
  {
   "cell_type": "code",
   "execution_count": 40,
   "id": "cfa4a8c2-1960-48a1-8813-51cd4678f891",
   "metadata": {},
   "outputs": [],
   "source": [
    "# merge the aerosol and meteorology data together\n",
    "r2r_track = xr.merge([aertrack,mettrack])"
   ]
  },
  {
   "cell_type": "code",
   "execution_count": 41,
   "id": "79b7df05-6924-41d6-a7c4-65416b1d0c01",
   "metadata": {},
   "outputs": [],
   "source": [
    "r2r_track = r2r_track[['lat','lon','N3','N10','CCN40','CCN50','CCN60','uas','vas','psl','pr','tempk']]"
   ]
  },
  {
   "cell_type": "code",
   "execution_count": 42,
   "id": "a9ec109e-3bac-44e4-a127-83dc9424de8d",
   "metadata": {},
   "outputs": [],
   "source": [
    "# remove time component from datetime coordinate\n",
    "r2r_track['time'] = r2r_track.indexes['time'].normalize()"
   ]
  },
  {
   "cell_type": "code",
   "execution_count": 44,
   "id": "cc2edef8-36a8-499d-a2c1-ce9dfa67cf61",
   "metadata": {},
   "outputs": [],
   "source": [
    "r2r_track.load().to_netcdf(path=f_path+'r2r16_bx400_track.nc')"
   ]
  },
  {
   "cell_type": "markdown",
   "id": "0d79df21-9e54-4a4e-8dfe-f7087849173e",
   "metadata": {},
   "source": [
    "cg283"
   ]
  },
  {
   "cell_type": "code",
   "execution_count": 33,
   "id": "39810adc-50b6-40b6-b1fb-785d8a4ba6fb",
   "metadata": {},
   "outputs": [],
   "source": [
    "# extract aerosol data\n",
    "m_path = '/g/data/jk72/slf563/ACCESS/output/cg283/daily/'\n",
    "mod = 'cg283a'\n",
    "dt = 'pd.sh'\n",
    "key = uw\n",
    "\n",
    "aertrack = df_md(key, m_path, mod, dt)"
   ]
  },
  {
   "cell_type": "code",
   "execution_count": 34,
   "id": "aa18e9ac-af07-4197-bb40-9f2b21b14523",
   "metadata": {},
   "outputs": [],
   "source": [
    "# extract meteorology data\n",
    "m_path = '/g/data/jk72/slf563/ACCESS/output/cg283/daily/'\n",
    "mod = 'cg283a'\n",
    "dt = 'pd.glob'\n",
    "key = uw\n",
    "\n",
    "mettrack = df_md(key, m_path, mod, dt)"
   ]
  },
  {
   "cell_type": "code",
   "execution_count": 35,
   "id": "35ca90d6-63dc-4825-b9c7-cf9b9915299c",
   "metadata": {},
   "outputs": [],
   "source": [
    "# calculate air density from temperature\n",
    "mettrack = calc_density(mettrack)"
   ]
  },
  {
   "cell_type": "code",
   "execution_count": 36,
   "id": "7b584641-deb2-4e30-95ff-672c7ccac6de",
   "metadata": {},
   "outputs": [],
   "source": [
    "# convert aerosol units\n",
    "aertrack = aero_unit_conversions(aertrack, mettrack)"
   ]
  },
  {
   "cell_type": "code",
   "execution_count": 37,
   "id": "1ab1989a-efc0-4710-a7e7-de6e34c6b36e",
   "metadata": {},
   "outputs": [],
   "source": [
    "# select data at 20m\n",
    "aertrack = aertrack.isel(z1_hybrid_height=0).expand_dims('z1_hybrid_height').transpose()\n",
    "mettrack = mettrack.isel(z1_hybrid_height=0, z0_hybrid_height=0).expand_dims('z1_hybrid_height').transpose()\n",
    "mettrack = mettrack.drop('z0_hybrid_height')"
   ]
  },
  {
   "cell_type": "code",
   "execution_count": 38,
   "id": "af18184a-0655-4f6a-ad03-6e91f274d4ee",
   "metadata": {},
   "outputs": [],
   "source": [
    "# calculate aerosol number concentrations\n",
    "aertrack = nt_calcs(aertrack)"
   ]
  },
  {
   "cell_type": "code",
   "execution_count": 39,
   "id": "f39a576d-fa6b-4b6f-b4f1-72d509978686",
   "metadata": {},
   "outputs": [],
   "source": [
    "# calculate CCN number concentrations\n",
    "aertrack = ccn_calcs(aertrack)"
   ]
  },
  {
   "cell_type": "code",
   "execution_count": 40,
   "id": "19e33023-7969-41b4-b525-f646a7ecd249",
   "metadata": {},
   "outputs": [],
   "source": [
    "# merge the aerosol and meteorology data together\n",
    "r2r_track = xr.merge([aertrack,mettrack])"
   ]
  },
  {
   "cell_type": "code",
   "execution_count": 41,
   "id": "ef04c1fc-67bd-4763-a84a-89773bc467bf",
   "metadata": {},
   "outputs": [],
   "source": [
    "r2r_track = r2r_track[['lat','lon','N3','N10','CCN40','CCN50','CCN60','uas','vas','psl','pr','tempk']]"
   ]
  },
  {
   "cell_type": "code",
   "execution_count": 42,
   "id": "1c1a857e-48f3-4af9-b1ed-da5bb19d8615",
   "metadata": {},
   "outputs": [],
   "source": [
    "# remove time component from datetime coordinate\n",
    "r2r_track['time'] = r2r_track.indexes['time'].normalize()"
   ]
  },
  {
   "cell_type": "code",
   "execution_count": 44,
   "id": "46c5eb83-a522-4fff-a6e7-700f5ef8f600",
   "metadata": {},
   "outputs": [],
   "source": [
    "r2r_track.load().to_netcdf(path=f_path+'r2r16_cg283_track.nc')"
   ]
  },
  {
   "cell_type": "markdown",
   "id": "0f81fb01-fc93-4231-885c-d50044dfa012",
   "metadata": {
    "tags": []
   },
   "source": [
    "# Ice 2 Equator"
   ]
  },
  {
   "cell_type": "markdown",
   "id": "20e19ff1-173a-4a2e-a7a3-ac6bfd92a515",
   "metadata": {},
   "source": [
    "bx400"
   ]
  },
  {
   "cell_type": "code",
   "execution_count": 45,
   "id": "a00ca34c-7477-4710-af0b-55f0f0cddcc7",
   "metadata": {},
   "outputs": [],
   "source": [
    "f_path = '/g/data/jk72/ll6859/ACCESS_aero_eval/Ice2Equator/'\n",
    "uw = keycutter(f_path+'I2E_ProcessedAerosolData_1min.csv', 'date', 'lat', 'lon')\n",
    "uw = uw.dropna()"
   ]
  },
  {
   "cell_type": "code",
   "execution_count": 47,
   "id": "cb6bca09-e5eb-4c6f-95d6-4676d15ea3fe",
   "metadata": {},
   "outputs": [],
   "source": [
    "# extract aerosol data\n",
    "m_path = '/g/data/jk72/slf563/ACCESS/output/bx400/daily/'\n",
    "mod = 'bx400a'\n",
    "dt = 'pd.sh'\n",
    "key = uw\n",
    "\n",
    "aertrack = df_md(key, m_path, mod, dt)"
   ]
  },
  {
   "cell_type": "code",
   "execution_count": 48,
   "id": "6aca5088-1004-4066-b04e-fb60be612bad",
   "metadata": {},
   "outputs": [],
   "source": [
    "# extract meteorology data\n",
    "m_path = '/g/data/jk72/slf563/ACCESS/output/bx400/daily/'\n",
    "mod = 'bx400a'\n",
    "dt = 'pd.glob'\n",
    "key = uw\n",
    "\n",
    "mettrack = df_md(key, m_path, mod, dt)"
   ]
  },
  {
   "cell_type": "code",
   "execution_count": 49,
   "id": "3872976b-c9ce-4b4b-abf1-f296a65551a2",
   "metadata": {},
   "outputs": [],
   "source": [
    "# calculate air density from temperature\n",
    "mettrack = calc_density(mettrack)"
   ]
  },
  {
   "cell_type": "code",
   "execution_count": 50,
   "id": "bbe61b02-a188-4a3e-b89d-03eb5b5acf2e",
   "metadata": {},
   "outputs": [],
   "source": [
    "# convert aerosol units\n",
    "aertrack = aero_unit_conversions(aertrack, mettrack)"
   ]
  },
  {
   "cell_type": "code",
   "execution_count": 51,
   "id": "d082eb5a-9cfa-4cf4-a89a-6fade7659533",
   "metadata": {},
   "outputs": [],
   "source": [
    "# select data at 20m\n",
    "aertrack = aertrack.isel(z1_hybrid_height=0).expand_dims('z1_hybrid_height').transpose()\n",
    "mettrack = mettrack.isel(z1_hybrid_height=0, z0_hybrid_height=0).expand_dims('z1_hybrid_height').transpose()\n",
    "mettrack = mettrack.drop('z0_hybrid_height')"
   ]
  },
  {
   "cell_type": "code",
   "execution_count": 52,
   "id": "bbc5118d-1b40-40b4-9147-ee703ab1e328",
   "metadata": {},
   "outputs": [],
   "source": [
    "# calculate aerosol number concentrations\n",
    "aertrack = nt_calcs(aertrack)"
   ]
  },
  {
   "cell_type": "code",
   "execution_count": 53,
   "id": "d50a99a4-f9ea-4411-aca9-a2b4eb6b8e05",
   "metadata": {},
   "outputs": [],
   "source": [
    "# calculate CCN number concentrations\n",
    "aertrack = ccn_calcs(aertrack)"
   ]
  },
  {
   "cell_type": "code",
   "execution_count": 54,
   "id": "5bad272b-ad02-49c1-9aa8-233b68dbb3ed",
   "metadata": {},
   "outputs": [],
   "source": [
    "# merge the aerosol and meteorology data together\n",
    "i2e_track = xr.merge([aertrack,mettrack])"
   ]
  },
  {
   "cell_type": "code",
   "execution_count": 55,
   "id": "0e5fe165-97d2-4be1-a909-c3ad923b5836",
   "metadata": {},
   "outputs": [],
   "source": [
    "i2e_track = i2e_track[['lat','lon','N3','N10','CCN40','CCN50','CCN60','uas','vas','psl','pr','tempk']]"
   ]
  },
  {
   "cell_type": "code",
   "execution_count": 56,
   "id": "52ed4661-b336-463b-91ed-af393dd66ca7",
   "metadata": {},
   "outputs": [],
   "source": [
    "# remove time component from datetime coordinate\n",
    "i2e_track['time'] = i2e_track.indexes['time'].normalize()"
   ]
  },
  {
   "cell_type": "code",
   "execution_count": 58,
   "id": "d7592ab7-da94-47ff-a322-abbfa14fc525",
   "metadata": {},
   "outputs": [],
   "source": [
    "i2e_track.load().to_netcdf(path=f_path+'i2e16_bx400_track.nc')"
   ]
  },
  {
   "cell_type": "markdown",
   "id": "18e951cd-0113-470a-89f2-6c8bcdc58e32",
   "metadata": {},
   "source": [
    "cg283"
   ]
  },
  {
   "cell_type": "code",
   "execution_count": 47,
   "id": "8774097b-b751-43e4-b053-94ab661d6a3c",
   "metadata": {},
   "outputs": [],
   "source": [
    "# extract aerosol data\n",
    "m_path = '/g/data/jk72/slf563/ACCESS/output/cg283/daily/'\n",
    "mod = 'cg283a'\n",
    "dt = 'pd.sh'\n",
    "key = uw\n",
    "\n",
    "aertrack = df_md(key, m_path, mod, dt)"
   ]
  },
  {
   "cell_type": "code",
   "execution_count": 48,
   "id": "9fd7b98b-f3a7-42ab-a14d-caf543392a8c",
   "metadata": {},
   "outputs": [],
   "source": [
    "# extract meteorology data\n",
    "m_path = '/g/data/jk72/slf563/ACCESS/output/cg283/daily/'\n",
    "mod = 'cg283a'\n",
    "dt = 'pd.glob'\n",
    "key = uw\n",
    "\n",
    "mettrack = df_md(key, m_path, mod, dt)"
   ]
  },
  {
   "cell_type": "code",
   "execution_count": 49,
   "id": "6ea3fd03-9734-45c4-8d7e-427b1eff0367",
   "metadata": {},
   "outputs": [],
   "source": [
    "# calculate air density from temperature\n",
    "mettrack = calc_density(mettrack)"
   ]
  },
  {
   "cell_type": "code",
   "execution_count": 50,
   "id": "cda82ff2-cc0c-4b43-8b20-574ee72e8f65",
   "metadata": {},
   "outputs": [],
   "source": [
    "# convert aerosol units\n",
    "aertrack = aero_unit_conversions(aertrack, mettrack)"
   ]
  },
  {
   "cell_type": "code",
   "execution_count": 51,
   "id": "8be04363-7524-4480-98c8-210975ff77e1",
   "metadata": {},
   "outputs": [],
   "source": [
    "# select data at 20m\n",
    "aertrack = aertrack.isel(z1_hybrid_height=0).expand_dims('z1_hybrid_height').transpose()\n",
    "mettrack = mettrack.isel(z1_hybrid_height=0, z0_hybrid_height=0).expand_dims('z1_hybrid_height').transpose()\n",
    "mettrack = mettrack.drop('z0_hybrid_height')"
   ]
  },
  {
   "cell_type": "code",
   "execution_count": 52,
   "id": "d000a64b-86a3-4fd3-a793-2879e7161a48",
   "metadata": {},
   "outputs": [],
   "source": [
    "# calculate aerosol number concentrations\n",
    "aertrack = nt_calcs(aertrack)"
   ]
  },
  {
   "cell_type": "code",
   "execution_count": 53,
   "id": "2b6910ff-6f85-411c-95cc-94c31ec77a5e",
   "metadata": {},
   "outputs": [],
   "source": [
    "# calculate CCN number concentrations\n",
    "aertrack = ccn_calcs(aertrack)"
   ]
  },
  {
   "cell_type": "code",
   "execution_count": 54,
   "id": "e68761b4-ef29-46f2-9e64-a8f5fa24876e",
   "metadata": {},
   "outputs": [],
   "source": [
    "# merge the aerosol and meteorology data together\n",
    "i2e_track = xr.merge([aertrack,mettrack])"
   ]
  },
  {
   "cell_type": "code",
   "execution_count": 55,
   "id": "3f4141a9-c668-47ce-83a6-56b7f463c594",
   "metadata": {},
   "outputs": [],
   "source": [
    "i2e_track = i2e_track[['lat','lon','N3','N10','CCN40','CCN50','CCN60','uas','vas','psl','pr','tempk']]"
   ]
  },
  {
   "cell_type": "code",
   "execution_count": 56,
   "id": "a191ce42-d433-48fc-914c-981be3f3b7d6",
   "metadata": {},
   "outputs": [],
   "source": [
    "# remove time component from datetime coordinate\n",
    "i2e_track['time'] = i2e_track.indexes['time'].normalize()"
   ]
  },
  {
   "cell_type": "code",
   "execution_count": 58,
   "id": "9b60ca14-1e19-41e2-ad1b-47eccaa262f0",
   "metadata": {},
   "outputs": [],
   "source": [
    "i2e_track.load().to_netcdf(path=f_path+'i2e16_cg283_track.nc')"
   ]
  },
  {
   "cell_type": "markdown",
   "id": "3044c8af-9a7a-459b-91b6-f59f7eec55e4",
   "metadata": {},
   "source": [
    "# CAPRICORN I"
   ]
  },
  {
   "cell_type": "markdown",
   "id": "680cb4de-b5c6-44aa-a781-8cd413bc9cf2",
   "metadata": {},
   "source": [
    "bx400"
   ]
  },
  {
   "cell_type": "code",
   "execution_count": 46,
   "id": "13fc41a9-a361-4cce-b22a-2ed92e731b36",
   "metadata": {
    "collapsed": true,
    "jupyter": {
     "outputs_hidden": true
    },
    "tags": []
   },
   "outputs": [
    {
     "data": {
      "text/html": [
       "<div>\n",
       "<style scoped>\n",
       "    .dataframe tbody tr th:only-of-type {\n",
       "        vertical-align: middle;\n",
       "    }\n",
       "\n",
       "    .dataframe tbody tr th {\n",
       "        vertical-align: top;\n",
       "    }\n",
       "\n",
       "    .dataframe thead th {\n",
       "        text-align: right;\n",
       "    }\n",
       "</style>\n",
       "<table border=\"1\" class=\"dataframe\">\n",
       "  <thead>\n",
       "    <tr style=\"text-align: right;\">\n",
       "      <th></th>\n",
       "      <th>lat</th>\n",
       "      <th>lon</th>\n",
       "    </tr>\n",
       "    <tr>\n",
       "      <th>date_time</th>\n",
       "      <th></th>\n",
       "      <th></th>\n",
       "    </tr>\n",
       "  </thead>\n",
       "  <tbody>\n",
       "    <tr>\n",
       "      <th>2016-03-13</th>\n",
       "      <td>-42.893614</td>\n",
       "      <td>147.358552</td>\n",
       "    </tr>\n",
       "    <tr>\n",
       "      <th>2016-03-14</th>\n",
       "      <td>-44.079849</td>\n",
       "      <td>146.403190</td>\n",
       "    </tr>\n",
       "    <tr>\n",
       "      <th>2016-03-15</th>\n",
       "      <td>-46.487563</td>\n",
       "      <td>142.777208</td>\n",
       "    </tr>\n",
       "    <tr>\n",
       "      <th>2016-03-16</th>\n",
       "      <td>-46.765693</td>\n",
       "      <td>141.952520</td>\n",
       "    </tr>\n",
       "    <tr>\n",
       "      <th>2016-03-17</th>\n",
       "      <td>-46.797720</td>\n",
       "      <td>141.738808</td>\n",
       "    </tr>\n",
       "    <tr>\n",
       "      <th>2016-03-18</th>\n",
       "      <td>-46.775472</td>\n",
       "      <td>141.850680</td>\n",
       "    </tr>\n",
       "    <tr>\n",
       "      <th>2016-03-19</th>\n",
       "      <td>-46.806917</td>\n",
       "      <td>142.015190</td>\n",
       "    </tr>\n",
       "    <tr>\n",
       "      <th>2016-03-20</th>\n",
       "      <td>-46.747742</td>\n",
       "      <td>142.635220</td>\n",
       "    </tr>\n",
       "    <tr>\n",
       "      <th>2016-03-21</th>\n",
       "      <td>-46.191658</td>\n",
       "      <td>143.400995</td>\n",
       "    </tr>\n",
       "    <tr>\n",
       "      <th>2016-03-22</th>\n",
       "      <td>-45.583344</td>\n",
       "      <td>144.444008</td>\n",
       "    </tr>\n",
       "    <tr>\n",
       "      <th>2016-03-23</th>\n",
       "      <td>-43.845328</td>\n",
       "      <td>147.064095</td>\n",
       "    </tr>\n",
       "    <tr>\n",
       "      <th>2016-03-24</th>\n",
       "      <td>-44.278741</td>\n",
       "      <td>147.313816</td>\n",
       "    </tr>\n",
       "    <tr>\n",
       "      <th>2016-03-25</th>\n",
       "      <td>-45.053346</td>\n",
       "      <td>146.703416</td>\n",
       "    </tr>\n",
       "    <tr>\n",
       "      <th>2016-03-26</th>\n",
       "      <td>-45.039399</td>\n",
       "      <td>145.082229</td>\n",
       "    </tr>\n",
       "    <tr>\n",
       "      <th>2016-03-27</th>\n",
       "      <td>-46.504674</td>\n",
       "      <td>143.982046</td>\n",
       "    </tr>\n",
       "    <tr>\n",
       "      <th>2016-03-28</th>\n",
       "      <td>-46.934859</td>\n",
       "      <td>144.049046</td>\n",
       "    </tr>\n",
       "    <tr>\n",
       "      <th>2016-03-29</th>\n",
       "      <td>-47.928730</td>\n",
       "      <td>144.407626</td>\n",
       "    </tr>\n",
       "    <tr>\n",
       "      <th>2016-03-30</th>\n",
       "      <td>-50.357837</td>\n",
       "      <td>146.155553</td>\n",
       "    </tr>\n",
       "    <tr>\n",
       "      <th>2016-03-31</th>\n",
       "      <td>-50.387680</td>\n",
       "      <td>147.639310</td>\n",
       "    </tr>\n",
       "    <tr>\n",
       "      <th>2016-04-01</th>\n",
       "      <td>-50.383068</td>\n",
       "      <td>147.727784</td>\n",
       "    </tr>\n",
       "    <tr>\n",
       "      <th>2016-04-02</th>\n",
       "      <td>-50.086227</td>\n",
       "      <td>146.822809</td>\n",
       "    </tr>\n",
       "    <tr>\n",
       "      <th>2016-04-03</th>\n",
       "      <td>-50.449627</td>\n",
       "      <td>146.989199</td>\n",
       "    </tr>\n",
       "    <tr>\n",
       "      <th>2016-04-04</th>\n",
       "      <td>-50.365873</td>\n",
       "      <td>147.112701</td>\n",
       "    </tr>\n",
       "    <tr>\n",
       "      <th>2016-04-05</th>\n",
       "      <td>-51.496977</td>\n",
       "      <td>146.877600</td>\n",
       "    </tr>\n",
       "    <tr>\n",
       "      <th>2016-04-06</th>\n",
       "      <td>-52.416773</td>\n",
       "      <td>147.839076</td>\n",
       "    </tr>\n",
       "    <tr>\n",
       "      <th>2016-04-07</th>\n",
       "      <td>-51.975333</td>\n",
       "      <td>149.357786</td>\n",
       "    </tr>\n",
       "    <tr>\n",
       "      <th>2016-04-08</th>\n",
       "      <td>-51.947592</td>\n",
       "      <td>149.187207</td>\n",
       "    </tr>\n",
       "    <tr>\n",
       "      <th>2016-04-09</th>\n",
       "      <td>-51.921267</td>\n",
       "      <td>148.794215</td>\n",
       "    </tr>\n",
       "    <tr>\n",
       "      <th>2016-04-10</th>\n",
       "      <td>-51.535345</td>\n",
       "      <td>147.911144</td>\n",
       "    </tr>\n",
       "    <tr>\n",
       "      <th>2016-04-11</th>\n",
       "      <td>-51.298610</td>\n",
       "      <td>149.529811</td>\n",
       "    </tr>\n",
       "    <tr>\n",
       "      <th>2016-04-12</th>\n",
       "      <td>-49.961310</td>\n",
       "      <td>148.818214</td>\n",
       "    </tr>\n",
       "    <tr>\n",
       "      <th>2016-04-13</th>\n",
       "      <td>-47.530975</td>\n",
       "      <td>143.809234</td>\n",
       "    </tr>\n",
       "    <tr>\n",
       "      <th>2016-04-14</th>\n",
       "      <td>-46.393023</td>\n",
       "      <td>143.011398</td>\n",
       "    </tr>\n",
       "    <tr>\n",
       "      <th>2016-04-15</th>\n",
       "      <td>-44.228010</td>\n",
       "      <td>146.809063</td>\n",
       "    </tr>\n",
       "  </tbody>\n",
       "</table>\n",
       "</div>"
      ],
      "text/plain": [
       "                  lat         lon\n",
       "date_time                        \n",
       "2016-03-13 -42.893614  147.358552\n",
       "2016-03-14 -44.079849  146.403190\n",
       "2016-03-15 -46.487563  142.777208\n",
       "2016-03-16 -46.765693  141.952520\n",
       "2016-03-17 -46.797720  141.738808\n",
       "2016-03-18 -46.775472  141.850680\n",
       "2016-03-19 -46.806917  142.015190\n",
       "2016-03-20 -46.747742  142.635220\n",
       "2016-03-21 -46.191658  143.400995\n",
       "2016-03-22 -45.583344  144.444008\n",
       "2016-03-23 -43.845328  147.064095\n",
       "2016-03-24 -44.278741  147.313816\n",
       "2016-03-25 -45.053346  146.703416\n",
       "2016-03-26 -45.039399  145.082229\n",
       "2016-03-27 -46.504674  143.982046\n",
       "2016-03-28 -46.934859  144.049046\n",
       "2016-03-29 -47.928730  144.407626\n",
       "2016-03-30 -50.357837  146.155553\n",
       "2016-03-31 -50.387680  147.639310\n",
       "2016-04-01 -50.383068  147.727784\n",
       "2016-04-02 -50.086227  146.822809\n",
       "2016-04-03 -50.449627  146.989199\n",
       "2016-04-04 -50.365873  147.112701\n",
       "2016-04-05 -51.496977  146.877600\n",
       "2016-04-06 -52.416773  147.839076\n",
       "2016-04-07 -51.975333  149.357786\n",
       "2016-04-08 -51.947592  149.187207\n",
       "2016-04-09 -51.921267  148.794215\n",
       "2016-04-10 -51.535345  147.911144\n",
       "2016-04-11 -51.298610  149.529811\n",
       "2016-04-12 -49.961310  148.818214\n",
       "2016-04-13 -47.530975  143.809234\n",
       "2016-04-14 -46.393023  143.011398\n",
       "2016-04-15 -44.228010  146.809063"
      ]
     },
     "execution_count": 46,
     "metadata": {},
     "output_type": "execute_result"
    }
   ],
   "source": [
    "f_path = '/g/data/jk72/ll6859/ACCESS_aero_eval/Capricorn/'\n",
    "uw = pd.read_csv(f_path+'in2016_v02uwy10sec.csv', parse_dates=[['date', 'time']], index_col='date_time')\n",
    "uw = uw.resample('1D').mean()\n",
    "uw = uw[['latitude(degree_north)', 'longitude(degree_east)']]\n",
    "uw.columns = ['lat','lon']"
   ]
  },
  {
   "cell_type": "code",
   "execution_count": 47,
   "id": "5ddd0e57-d5df-47eb-94cf-e8753738e17b",
   "metadata": {},
   "outputs": [],
   "source": [
    "# extract aerosol data\n",
    "m_path = '/g/data/jk72/slf563/ACCESS/output/bx400/daily/'\n",
    "mod = 'bx400a'\n",
    "dt = 'pd.sh'\n",
    "key = uw\n",
    "aertrack = df_md(key, m_path, mod, dt)\n",
    "\n",
    "# extract meteorology data\n",
    "m_path = '/g/data/jk72/slf563/ACCESS/output/bx400/daily/'\n",
    "mod = 'bx400a'\n",
    "dt = 'pd.glob'\n",
    "key = uw\n",
    "mettrack = df_md(key, m_path, mod, dt)\n",
    "\n",
    "# calculate air density from temperature\n",
    "mettrack = calc_density(mettrack)\n",
    "\n",
    "# convert aerosol units\n",
    "aertrack = aero_unit_conversions(aertrack, mettrack)\n",
    "\n",
    "# select data at 20m\n",
    "aertrack = aertrack.isel(z1_hybrid_height=0).expand_dims('z1_hybrid_height').transpose()\n",
    "mettrack = mettrack.isel(z1_hybrid_height=0, z0_hybrid_height=0).expand_dims('z1_hybrid_height').transpose()\n",
    "mettrack = mettrack.drop('z0_hybrid_height')\n",
    "\n",
    "# calculate aerosol number concentrations\n",
    "aertrack = nt_calcs(aertrack)\n",
    "\n",
    "# calculate CCN number concentrations\n",
    "aertrack = ccn_calcs(aertrack)"
   ]
  },
  {
   "cell_type": "code",
   "execution_count": 48,
   "id": "1f106b93-d522-4d0e-97d6-265f668bc684",
   "metadata": {},
   "outputs": [],
   "source": [
    "# merge the aerosol and meteorology data together\n",
    "cap1_track = xr.merge([aertrack,mettrack])\n",
    "\n",
    "cap1_track = cap1_track[['lat','lon','N3','N10','CCN40','CCN50','CCN60','uas','vas','psl','pr','tempk']]\n",
    "\n",
    "# remove time component from datetime coordinate\n",
    "cap1_track['time'] = cap1_track.indexes['time'].normalize()"
   ]
  },
  {
   "cell_type": "code",
   "execution_count": 49,
   "id": "bbe681bc-9a98-4e03-8697-92c48b01b685",
   "metadata": {},
   "outputs": [],
   "source": [
    "cap1_track.load().to_netcdf(path=f_path+'cap16_bx400_track.nc')"
   ]
  },
  {
   "cell_type": "markdown",
   "id": "0564eb36-acaa-405b-aa55-425feb8ecceb",
   "metadata": {},
   "source": [
    "cg283"
   ]
  },
  {
   "cell_type": "code",
   "execution_count": 47,
   "id": "139e0609-f504-45dc-afcb-98a0c52b6ae3",
   "metadata": {},
   "outputs": [],
   "source": [
    "# extract aerosol data\n",
    "m_path = '/g/data/jk72/slf563/ACCESS/output/cg283/daily/'\n",
    "mod = 'cg283a'\n",
    "dt = 'pd.sh'\n",
    "key = uw\n",
    "aertrack = df_md(key, m_path, mod, dt)\n",
    "\n",
    "# extract meteorology data\n",
    "m_path = '/g/data/jk72/slf563/ACCESS/output/cg283/daily/'\n",
    "mod = 'cg283a'\n",
    "dt = 'pd.glob'\n",
    "key = uw\n",
    "mettrack = df_md(key, m_path, mod, dt)\n",
    "\n",
    "# calculate air density from temperature\n",
    "mettrack = calc_density(mettrack)\n",
    "\n",
    "# convert aerosol units\n",
    "aertrack = aero_unit_conversions(aertrack, mettrack)\n",
    "\n",
    "# select data at 20m\n",
    "aertrack = aertrack.isel(z1_hybrid_height=0).expand_dims('z1_hybrid_height').transpose()\n",
    "mettrack = mettrack.isel(z1_hybrid_height=0, z0_hybrid_height=0).expand_dims('z1_hybrid_height').transpose()\n",
    "mettrack = mettrack.drop('z0_hybrid_height')\n",
    "\n",
    "# calculate aerosol number concentrations\n",
    "aertrack = nt_calcs(aertrack)\n",
    "\n",
    "# calculate CCN number concentrations\n",
    "aertrack = ccn_calcs(aertrack)"
   ]
  },
  {
   "cell_type": "code",
   "execution_count": 48,
   "id": "09184e3c-60b7-4d8d-b4a9-db093450a3b3",
   "metadata": {},
   "outputs": [],
   "source": [
    "# merge the aerosol and meteorology data together\n",
    "cap1_track = xr.merge([aertrack,mettrack])\n",
    "\n",
    "cap1_track = cap1_track[['lat','lon','N3','N10','CCN40','CCN50','CCN60','uas','vas','psl','pr','tempk']]\n",
    "\n",
    "# remove time component from datetime coordinate\n",
    "cap1_track['time'] = cap1_track.indexes['time'].normalize()"
   ]
  },
  {
   "cell_type": "code",
   "execution_count": 49,
   "id": "1ab31317-1558-4a4b-be67-36638b15e787",
   "metadata": {},
   "outputs": [],
   "source": [
    "cap1_track.load().to_netcdf(path=f_path+'cap16_cg283_track.nc')"
   ]
  },
  {
   "cell_type": "markdown",
   "id": "be9fb9df-b1ab-4c52-91c3-6e3b9ab6345d",
   "metadata": {},
   "source": [
    "# CAPRICORN II"
   ]
  },
  {
   "cell_type": "markdown",
   "id": "5a7a8966-ab64-4daa-9ac0-864df37a58e3",
   "metadata": {},
   "source": [
    "bx400"
   ]
  },
  {
   "cell_type": "code",
   "execution_count": 51,
   "id": "7ef0ba70-7068-4fda-86d1-f0ca94ba12cc",
   "metadata": {},
   "outputs": [],
   "source": [
    "# extract aerosol data\n",
    "m_path = '/g/data/jk72/slf563/ACCESS/output/bx400/daily/'\n",
    "mod = 'bx400a'\n",
    "dt = 'pd.sh'\n",
    "key = uw\n",
    "aertrack = df_md(key, m_path, mod, dt)\n",
    "\n",
    "# extract meteorology data\n",
    "m_path = '/g/data/jk72/slf563/ACCESS/output/bx400/daily/'\n",
    "mod = 'bx400a'\n",
    "dt = 'pd.glob'\n",
    "key = uw\n",
    "mettrack = df_md(key, m_path, mod, dt)\n",
    "\n",
    "# calculate air density from temperature\n",
    "mettrack = calc_density(mettrack)\n",
    "\n",
    "# convert aerosol units\n",
    "aertrack = aero_unit_conversions(aertrack, mettrack)\n",
    "\n",
    "# select data at 20m\n",
    "aertrack = aertrack.isel(z1_hybrid_height=0).expand_dims('z1_hybrid_height').transpose()\n",
    "mettrack = mettrack.isel(z1_hybrid_height=0, z0_hybrid_height=0).expand_dims('z1_hybrid_height').transpose()\n",
    "mettrack = mettrack.drop('z0_hybrid_height')\n",
    "\n",
    "# calculate aerosol number concentrations\n",
    "aertrack = nt_calcs(aertrack)\n",
    "\n",
    "# calculate CCN number concentrations\n",
    "aertrack = ccn_calcs(aertrack)"
   ]
  },
  {
   "cell_type": "code",
   "execution_count": 52,
   "id": "dce5113f-d547-42f1-9141-67101d6fdebe",
   "metadata": {},
   "outputs": [],
   "source": [
    "# merge the aerosol and meteorology data together\n",
    "cap2_track = xr.merge([aertrack,mettrack])\n",
    "\n",
    "cap2_track = cap2_track[['lat','lon','N3','N10','CCN40','CCN50','CCN60','uas','vas','psl','pr','tempk']]\n",
    "\n",
    "# remove time component from datetime coordinate\n",
    "cap2_track['time'] = cap2_track.indexes['time'].normalize()"
   ]
  },
  {
   "cell_type": "code",
   "execution_count": 53,
   "id": "66234641-6ad0-418f-a303-bd0f215bc6c1",
   "metadata": {},
   "outputs": [],
   "source": [
    "cap2_track.load().to_netcdf(path=f_path+'cap18_bx400_track.nc')"
   ]
  },
  {
   "cell_type": "markdown",
   "id": "251c852d-308d-47a9-bea4-ad93111a79ba",
   "metadata": {},
   "source": [
    "cg283"
   ]
  },
  {
   "cell_type": "code",
   "execution_count": 51,
   "id": "0913707e-5ab8-40c1-a9d2-e8bba938e9ee",
   "metadata": {},
   "outputs": [],
   "source": [
    "# extract aerosol data\n",
    "m_path = '/g/data/jk72/slf563/ACCESS/output/cg283/daily/'\n",
    "mod = 'cg283a'\n",
    "dt = 'pd.sh'\n",
    "key = uw\n",
    "aertrack = df_md(key, m_path, mod, dt)\n",
    "\n",
    "# extract meteorology data\n",
    "m_path = '/g/data/jk72/slf563/ACCESS/output/cg283/daily/'\n",
    "mod = 'cg283a'\n",
    "dt = 'pd.glob'\n",
    "key = uw\n",
    "mettrack = df_md(key, m_path, mod, dt)\n",
    "\n",
    "# calculate air density from temperature\n",
    "mettrack = calc_density(mettrack)\n",
    "\n",
    "# convert aerosol units\n",
    "aertrack = aero_unit_conversions(aertrack, mettrack)\n",
    "\n",
    "# select data at 20m\n",
    "aertrack = aertrack.isel(z1_hybrid_height=0).expand_dims('z1_hybrid_height').transpose()\n",
    "mettrack = mettrack.isel(z1_hybrid_height=0, z0_hybrid_height=0).expand_dims('z1_hybrid_height').transpose()\n",
    "mettrack = mettrack.drop('z0_hybrid_height')\n",
    "\n",
    "# calculate aerosol number concentrations\n",
    "aertrack = nt_calcs(aertrack)\n",
    "\n",
    "# calculate CCN number concentrations\n",
    "aertrack = ccn_calcs(aertrack)"
   ]
  },
  {
   "cell_type": "code",
   "execution_count": 52,
   "id": "8bbff344-74e4-4b6a-b23a-bd04e28a29b7",
   "metadata": {},
   "outputs": [],
   "source": [
    "# merge the aerosol and meteorology data together\n",
    "cap2_track = xr.merge([aertrack,mettrack])\n",
    "\n",
    "cap2_track = cap2_track[['lat','lon','N3','N10','CCN40','CCN50','CCN60','uas','vas','psl','pr','tempk']]\n",
    "\n",
    "# remove time component from datetime coordinate\n",
    "cap2_track['time'] = cap2_track.indexes['time'].normalize()"
   ]
  },
  {
   "cell_type": "code",
   "execution_count": 53,
   "id": "fd83215b-be1f-43b6-9c60-8c303a16507b",
   "metadata": {},
   "outputs": [],
   "source": [
    "cap2_track.load().to_netcdf(path=f_path+'cap18_cg283_track.nc')"
   ]
  },
  {
   "cell_type": "markdown",
   "id": "53e635ff-dbda-4bdf-8e4f-f3d3c90a8d5e",
   "metadata": {},
   "source": [
    "# MARCUS"
   ]
  },
  {
   "cell_type": "markdown",
   "id": "141ec770-a356-4410-9215-3679fc4d9c1d",
   "metadata": {},
   "source": [
    "bx400"
   ]
  },
  {
   "cell_type": "code",
   "execution_count": 61,
   "id": "e171ce46-9804-4b3a-bf6e-7a1990370fae",
   "metadata": {},
   "outputs": [],
   "source": [
    "# pull out location of ship\n",
    "f_path = '/g/data/jk72/ll6859/ACCESS_aero_eval/AuroraAustralis/marcus_uw/'\n",
    "voyages = sorted(gb.glob(f_path+'201718_Voyage*.csv'))\n",
    "uw = pd.concat([pd.read_csv(v) for v in voyages ])\n",
    "uw = uw.set_index(pd.to_datetime(uw['date_time_utc']))\n",
    "uw = uw[['latitude','longitude']]\n",
    "uw = uw.resample('1D', kind='Date').mean().ffill()\n",
    "uw.columns = ['lat','lon']"
   ]
  },
  {
   "cell_type": "code",
   "execution_count": 62,
   "id": "30c71b7e-c238-42de-b24c-ae6b47360e83",
   "metadata": {},
   "outputs": [],
   "source": [
    "# extract aerosol data\n",
    "m_path = '/g/data/jk72/slf563/ACCESS/output/bx400/daily/'\n",
    "mod = 'bx400a'\n",
    "dt = 'pd.sh'\n",
    "key = uw\n",
    "\n",
    "aertrack = df_md(key, m_path, mod, dt)"
   ]
  },
  {
   "cell_type": "code",
   "execution_count": 63,
   "id": "86e09e93-d5b0-4035-bb39-529de0125fd6",
   "metadata": {},
   "outputs": [],
   "source": [
    "# extract meteorology data\n",
    "m_path = '/g/data/jk72/slf563/ACCESS/output/bx400/daily/'\n",
    "mod = 'bx400a'\n",
    "dt = 'pd.glob'\n",
    "key = uw\n",
    "\n",
    "mettrack = df_md(key, m_path, mod, dt)"
   ]
  },
  {
   "cell_type": "code",
   "execution_count": 64,
   "id": "de18b26a-1000-48e3-8513-1f5afbf7b31d",
   "metadata": {},
   "outputs": [],
   "source": [
    "# calculate air density from temperature\n",
    "mettrack = calc_density(mettrack)"
   ]
  },
  {
   "cell_type": "code",
   "execution_count": 65,
   "id": "5a2c241a-809d-4dfb-aae8-cccc68464a8f",
   "metadata": {},
   "outputs": [],
   "source": [
    "# convert aerosol units\n",
    "aertrack = aero_unit_conversions(aertrack, mettrack)"
   ]
  },
  {
   "cell_type": "code",
   "execution_count": 66,
   "id": "597a5f5f-0ba3-4122-b160-c10802099a57",
   "metadata": {},
   "outputs": [],
   "source": [
    "# select data at 20m\n",
    "aertrack = aertrack.isel(z1_hybrid_height=0).expand_dims('z1_hybrid_height').transpose()\n",
    "mettrack = mettrack.isel(z1_hybrid_height=0).expand_dims('z1_hybrid_height').transpose()\n",
    "mettrack = mettrack.drop('z0_hybrid_height')"
   ]
  },
  {
   "cell_type": "code",
   "execution_count": 67,
   "id": "57aa355d-38af-4ac2-8b61-687e20e0a3fe",
   "metadata": {},
   "outputs": [],
   "source": [
    "# calculate aerosol number concentrations\n",
    "aertrack = nt_calcs(aertrack)"
   ]
  },
  {
   "cell_type": "code",
   "execution_count": 68,
   "id": "244df7c2-8408-400f-9fde-97fc3c7468fd",
   "metadata": {},
   "outputs": [],
   "source": [
    "# calculate CCN number concentrations\n",
    "aertrack = ccn_calcs(aertrack)"
   ]
  },
  {
   "cell_type": "code",
   "execution_count": 69,
   "id": "a9f847a8-63ff-4350-bddc-66f1f98e1cbb",
   "metadata": {},
   "outputs": [],
   "source": [
    "# merge the aerosol and meteorology data together\n",
    "marcus_track = xr.merge([aertrack,mettrack])"
   ]
  },
  {
   "cell_type": "code",
   "execution_count": 70,
   "id": "0a2167e1-7f51-4aae-a1ae-7f1a6a452918",
   "metadata": {},
   "outputs": [],
   "source": [
    "marcus_track = marcus_track[['lat','lon','N3','N10','CCN40','CCN50','CCN60','uas','vas','psl','pr','tempk']]"
   ]
  },
  {
   "cell_type": "code",
   "execution_count": 71,
   "id": "030554d1-4a45-4eaa-8f7a-d2b66819ad8b",
   "metadata": {},
   "outputs": [],
   "source": [
    "# remove time component from datetime coordinate\n",
    "marcus_track['time'] = marcus_track.indexes['time'].normalize()"
   ]
  },
  {
   "cell_type": "code",
   "execution_count": 73,
   "id": "01786d58-3923-4c21-88b4-729c29c2a2ca",
   "metadata": {},
   "outputs": [],
   "source": [
    "marcus_track.load().to_netcdf(path='/g/data/jk72/ll6859/ACCESS_aero_eval/AuroraAustralis/aa1718_bx400_track.nc')"
   ]
  },
  {
   "cell_type": "markdown",
   "id": "df31ff00-d8f7-47e4-adfe-6a9e51961dea",
   "metadata": {},
   "source": [
    "cg283"
   ]
  },
  {
   "cell_type": "code",
   "execution_count": 62,
   "id": "c27e6dd9-a29b-4bf2-ba64-a13b48f35c7a",
   "metadata": {},
   "outputs": [],
   "source": [
    "# extract aerosol data\n",
    "m_path = '/g/data/jk72/slf563/ACCESS/output/cg283/daily/'\n",
    "mod = 'cg283a'\n",
    "dt = 'pd.sh'\n",
    "key = uw\n",
    "\n",
    "aertrack = df_md(key, m_path, mod, dt)"
   ]
  },
  {
   "cell_type": "code",
   "execution_count": 63,
   "id": "cda9e9b6-e446-499b-8993-215ea4a7f710",
   "metadata": {},
   "outputs": [],
   "source": [
    "# extract meteorology data\n",
    "m_path = '/g/data/jk72/slf563/ACCESS/output/cg283/daily/'\n",
    "mod = 'cg283a'\n",
    "dt = 'pd.glob'\n",
    "key = uw\n",
    "\n",
    "mettrack = df_md(key, m_path, mod, dt)"
   ]
  },
  {
   "cell_type": "code",
   "execution_count": 64,
   "id": "1406093a-bec4-44b9-8a26-88ac9c49252e",
   "metadata": {},
   "outputs": [],
   "source": [
    "# calculate air density from temperature\n",
    "mettrack = calc_density(mettrack)"
   ]
  },
  {
   "cell_type": "code",
   "execution_count": 65,
   "id": "3485492f-7093-45b9-906a-9e3fcc2393ea",
   "metadata": {},
   "outputs": [],
   "source": [
    "# convert aerosol units\n",
    "aertrack = aero_unit_conversions(aertrack, mettrack)"
   ]
  },
  {
   "cell_type": "code",
   "execution_count": 66,
   "id": "f22f3381-58cc-458a-83ea-f3241a3bc39f",
   "metadata": {},
   "outputs": [],
   "source": [
    "# select data at 20m\n",
    "aertrack = aertrack.isel(z1_hybrid_height=0).expand_dims('z1_hybrid_height').transpose()\n",
    "mettrack = mettrack.isel(z1_hybrid_height=0).expand_dims('z1_hybrid_height').transpose()\n",
    "mettrack = mettrack.drop('z0_hybrid_height')"
   ]
  },
  {
   "cell_type": "code",
   "execution_count": 67,
   "id": "b855b129-4d26-4d46-9a07-e5bc0680a3f7",
   "metadata": {},
   "outputs": [],
   "source": [
    "# calculate aerosol number concentrations\n",
    "aertrack = nt_calcs(aertrack)"
   ]
  },
  {
   "cell_type": "code",
   "execution_count": 68,
   "id": "98d6323a-d0bc-4f49-a05e-006c3e48674f",
   "metadata": {},
   "outputs": [],
   "source": [
    "# calculate CCN number concentrations\n",
    "aertrack = ccn_calcs(aertrack)"
   ]
  },
  {
   "cell_type": "code",
   "execution_count": 69,
   "id": "954829b4-f4c8-4a89-b750-a422ffec3ccd",
   "metadata": {},
   "outputs": [],
   "source": [
    "# merge the aerosol and meteorology data together\n",
    "marcus_track = xr.merge([aertrack,mettrack])"
   ]
  },
  {
   "cell_type": "code",
   "execution_count": 70,
   "id": "cfb99b0e-c0c0-4c13-b763-096ff7496fd6",
   "metadata": {},
   "outputs": [],
   "source": [
    "marcus_track = marcus_track[['lat','lon','N3','N10','CCN40','CCN50','CCN60','uas','vas','psl','pr','tempk']]"
   ]
  },
  {
   "cell_type": "code",
   "execution_count": 71,
   "id": "ad8e1aab-698c-4d6c-85d4-448612d619a4",
   "metadata": {},
   "outputs": [],
   "source": [
    "# remove time component from datetime coordinate\n",
    "marcus_track['time'] = marcus_track.indexes['time'].normalize()"
   ]
  },
  {
   "cell_type": "code",
   "execution_count": 73,
   "id": "f6d77b84-b189-44b3-9e3e-48e8ea416ca6",
   "metadata": {},
   "outputs": [],
   "source": [
    "marcus_track.load().to_netcdf(path='/g/data/jk72/ll6859/ACCESS_aero_eval/AuroraAustralis/aa1718_cg283_track.nc')"
   ]
  },
  {
   "cell_type": "markdown",
   "id": "c217c32b-32c1-4aa6-8691-896cf8d144fe",
   "metadata": {},
   "source": [
    "# CAMMPCAN"
   ]
  },
  {
   "cell_type": "markdown",
   "id": "f6571ec3-83ff-409f-8ed0-8982b08df3fe",
   "metadata": {},
   "source": [
    "bx400"
   ]
  },
  {
   "cell_type": "code",
   "execution_count": 74,
   "id": "96963b5f-5e10-4ece-a11d-95351d1c65dc",
   "metadata": {},
   "outputs": [],
   "source": [
    "# pull out location of ship\n",
    "f_path = '/g/data/jk72/ll6859/ACCESS_aero_eval/AuroraAustralis/cammpcan_uw/'\n",
    "voyages = sorted(gb.glob(f_path+'201819_Voyage*.csv'))\n",
    "uw = pd.concat([pd.read_csv(v) for v in voyages ])\n",
    "uw = uw.set_index(pd.to_datetime(uw['date_time_utc']))\n",
    "uw = uw[['latitude','longitude']]\n",
    "uw = uw.resample('1D', kind='Date').mean().ffill()\n",
    "uw.columns = ['lat','lon']"
   ]
  },
  {
   "cell_type": "code",
   "execution_count": 75,
   "id": "c92d6d42-f9da-4b05-a95c-282e4bd98ef9",
   "metadata": {},
   "outputs": [],
   "source": [
    "# extract aerosol data\n",
    "m_path = '/g/data/jk72/slf563/ACCESS/output/bx400/daily/'\n",
    "mod = 'bx400a'\n",
    "dt = 'pd.sh'\n",
    "key = uw\n",
    "\n",
    "aertrack = df_md(key, m_path, mod, dt)"
   ]
  },
  {
   "cell_type": "code",
   "execution_count": 76,
   "id": "c5a8de70-b452-4819-9b72-e7cca7f8156f",
   "metadata": {},
   "outputs": [],
   "source": [
    "# extract meteorology data\n",
    "m_path = '/g/data/jk72/slf563/ACCESS/output/bx400/daily/'\n",
    "mod = 'bx400a'\n",
    "dt = 'pd.glob'\n",
    "key = uw\n",
    "\n",
    "mettrack = df_md(key, m_path, mod, dt)"
   ]
  },
  {
   "cell_type": "code",
   "execution_count": 77,
   "id": "b8ef5346-226f-4e9e-899e-1a04378416a4",
   "metadata": {},
   "outputs": [],
   "source": [
    "# calculate air density from temperature\n",
    "mettrack = calc_density(mettrack)"
   ]
  },
  {
   "cell_type": "code",
   "execution_count": 78,
   "id": "2e179ade-4cf4-4e74-b504-eb3f423c5a21",
   "metadata": {},
   "outputs": [],
   "source": [
    "# convert aerosol units\n",
    "aertrack = aero_unit_conversions(aertrack, mettrack)"
   ]
  },
  {
   "cell_type": "code",
   "execution_count": 79,
   "id": "407c9cdb-09c6-4d2d-bbd9-cff6c5347f42",
   "metadata": {},
   "outputs": [],
   "source": [
    "# select data at 20m\n",
    "aertrack = aertrack.isel(z1_hybrid_height=0).expand_dims('z1_hybrid_height').transpose()\n",
    "mettrack = mettrack.isel(z1_hybrid_height=0).expand_dims('z1_hybrid_height').transpose()\n",
    "mettrack = mettrack.drop('z0_hybrid_height')"
   ]
  },
  {
   "cell_type": "code",
   "execution_count": 80,
   "id": "f1f4d572-065e-49d7-b127-d901a3034ba7",
   "metadata": {},
   "outputs": [],
   "source": [
    "# calculate aerosol number concentrations\n",
    "aertrack = nt_calcs(aertrack)"
   ]
  },
  {
   "cell_type": "code",
   "execution_count": 81,
   "id": "0edb2264-ea1c-496a-97b1-f7e9d7e0ac70",
   "metadata": {},
   "outputs": [],
   "source": [
    "# calculate CCN number concentrations\n",
    "aertrack = ccn_calcs(aertrack)"
   ]
  },
  {
   "cell_type": "code",
   "execution_count": 82,
   "id": "e3b36244-060e-473b-a2af-f974747d0190",
   "metadata": {},
   "outputs": [],
   "source": [
    "# merge the aerosol and meteorology data together\n",
    "cammpcan_track = xr.merge([aertrack,mettrack])"
   ]
  },
  {
   "cell_type": "code",
   "execution_count": 83,
   "id": "d2d05a6c-cd6e-42b4-a31d-16a2dc07fb5c",
   "metadata": {},
   "outputs": [],
   "source": [
    "cammpcan_track = cammpcan_track[['lat','lon','N3','N10','CCN40','CCN50','CCN60','uas','vas','psl','pr','tempk']]"
   ]
  },
  {
   "cell_type": "code",
   "execution_count": 84,
   "id": "f359624c-291e-4fa4-bfdd-8beba06c6c97",
   "metadata": {},
   "outputs": [],
   "source": [
    "# remove time component from datetime coordinate\n",
    "cammpcan_track['time'] = cammpcan_track.indexes['time'].normalize()"
   ]
  },
  {
   "cell_type": "code",
   "execution_count": 88,
   "id": "bec46476-0bab-4fdf-b8d2-21f14210e661",
   "metadata": {},
   "outputs": [],
   "source": [
    "cammpcan_track.load().to_netcdf(path='/g/data/jk72/ll6859/ACCESS_aero_eval/AuroraAustralis/aa1819_bx400_track.nc')"
   ]
  },
  {
   "cell_type": "markdown",
   "id": "1fdbb84a-ba01-4e8d-a33c-04e9ff843f85",
   "metadata": {},
   "source": [
    "cg283"
   ]
  },
  {
   "cell_type": "code",
   "execution_count": 75,
   "id": "e78359cf-f27a-438c-b4bb-a686d311f007",
   "metadata": {},
   "outputs": [],
   "source": [
    "# extract aerosol data\n",
    "m_path = '/g/data/jk72/slf563/ACCESS/output/cg283/daily/'\n",
    "mod = 'cg283a'\n",
    "dt = 'pd.sh'\n",
    "key = uw\n",
    "\n",
    "aertrack = df_md(key, m_path, mod, dt)"
   ]
  },
  {
   "cell_type": "code",
   "execution_count": 76,
   "id": "f366b966-cf81-4303-9051-effe7e5f54cd",
   "metadata": {},
   "outputs": [],
   "source": [
    "# extract meteorology data\n",
    "m_path = '/g/data/jk72/slf563/ACCESS/output/cg283/daily/'\n",
    "mod = 'cg283a'\n",
    "dt = 'pd.glob'\n",
    "key = uw\n",
    "\n",
    "mettrack = df_md(key, m_path, mod, dt)"
   ]
  },
  {
   "cell_type": "code",
   "execution_count": 77,
   "id": "e72a7c14-30eb-42c5-8f5b-b622053330c2",
   "metadata": {},
   "outputs": [],
   "source": [
    "# calculate air density from temperature\n",
    "mettrack = calc_density(mettrack)"
   ]
  },
  {
   "cell_type": "code",
   "execution_count": 78,
   "id": "7e9c77ee-1fe5-4671-9c85-0d5ea1db8368",
   "metadata": {},
   "outputs": [],
   "source": [
    "# convert aerosol units\n",
    "aertrack = aero_unit_conversions(aertrack, mettrack)"
   ]
  },
  {
   "cell_type": "code",
   "execution_count": 79,
   "id": "132457b6-2b7f-4bc7-b515-5ee969194901",
   "metadata": {},
   "outputs": [],
   "source": [
    "# select data at 20m\n",
    "aertrack = aertrack.isel(z1_hybrid_height=0).expand_dims('z1_hybrid_height').transpose()\n",
    "mettrack = mettrack.isel(z1_hybrid_height=0).expand_dims('z1_hybrid_height').transpose()\n",
    "mettrack = mettrack.drop('z0_hybrid_height')"
   ]
  },
  {
   "cell_type": "code",
   "execution_count": 80,
   "id": "18d8cced-1105-4ea9-a104-685a8036db2e",
   "metadata": {},
   "outputs": [],
   "source": [
    "# calculate aerosol number concentrations\n",
    "aertrack = nt_calcs(aertrack)"
   ]
  },
  {
   "cell_type": "code",
   "execution_count": 81,
   "id": "37b3d114-c15c-4393-ab1a-e865ab4e4d76",
   "metadata": {},
   "outputs": [],
   "source": [
    "# calculate CCN number concentrations\n",
    "aertrack = ccn_calcs(aertrack)"
   ]
  },
  {
   "cell_type": "code",
   "execution_count": 82,
   "id": "cac92820-5b07-4f8d-98d4-a7582c8992fe",
   "metadata": {},
   "outputs": [],
   "source": [
    "# merge the aerosol and meteorology data together\n",
    "cammpcan_track = xr.merge([aertrack,mettrack])"
   ]
  },
  {
   "cell_type": "code",
   "execution_count": 83,
   "id": "e118ede6-5ffd-4f3f-a724-b6f6214ba3fa",
   "metadata": {},
   "outputs": [],
   "source": [
    "cammpcan_track = cammpcan_track[['lat','lon','N3','N10','CCN40','CCN50','CCN60','uas','vas','psl','pr','tempk']]"
   ]
  },
  {
   "cell_type": "code",
   "execution_count": 84,
   "id": "53fc25da-497c-4405-88fd-4722f5be5495",
   "metadata": {},
   "outputs": [],
   "source": [
    "# remove time component from datetime coordinate\n",
    "cammpcan_track['time'] = cammpcan_track.indexes['time'].normalize()"
   ]
  },
  {
   "cell_type": "code",
   "execution_count": 88,
   "id": "a7db14c6-aed4-4fca-b333-611de837d64f",
   "metadata": {},
   "outputs": [],
   "source": [
    "cammpcan_track.load().to_netcdf(path='/g/data/jk72/ll6859/ACCESS_aero_eval/AuroraAustralis/aa1819_cg283_track.nc')"
   ]
  },
  {
   "cell_type": "markdown",
   "id": "c45d0728-37fa-4ffd-b200-0f943963fa93",
   "metadata": {},
   "source": [
    "# TAN1802"
   ]
  },
  {
   "cell_type": "markdown",
   "id": "089b98ed-fb24-46cb-aaa5-6ddf7ebc05fa",
   "metadata": {},
   "source": [
    "bx400"
   ]
  },
  {
   "cell_type": "code",
   "execution_count": 89,
   "id": "6ee2c0c8-02e2-44a2-b644-c9fc204a8f1d",
   "metadata": {},
   "outputs": [],
   "source": [
    "f_path = '/g/data/jk72/ll6859/ACCESS_aero_eval/TAN1802/'\n",
    "uw = keycutter(f_path+'weather.csv', 'Time (UTC)', 'Latitude', 'Longitude')\n",
    "uw = uw.dropna()"
   ]
  },
  {
   "cell_type": "code",
   "execution_count": 90,
   "id": "24bf7def-341e-4c58-bdaa-a1aaf3f8e4e1",
   "metadata": {},
   "outputs": [],
   "source": [
    "# extract aerosol data\n",
    "m_path = '/g/data/jk72/slf563/ACCESS/output/bx400/daily/'\n",
    "mod = 'bx400a'\n",
    "dt = 'pd.sh'\n",
    "key = uw\n",
    "\n",
    "aertrack = df_md(key, m_path, mod, dt)"
   ]
  },
  {
   "cell_type": "code",
   "execution_count": 91,
   "id": "42ab20d8-8f96-42bc-8464-d2c6ad58b4a8",
   "metadata": {},
   "outputs": [],
   "source": [
    "# extract meteorology data\n",
    "m_path = '/g/data/jk72/slf563/ACCESS/output/bx400/daily/'\n",
    "mod = 'bx400a'\n",
    "dt = 'pd.glob'\n",
    "key = uw\n",
    "\n",
    "mettrack = df_md(key, m_path, mod, dt)"
   ]
  },
  {
   "cell_type": "code",
   "execution_count": 92,
   "id": "5b590741-941a-4212-b96d-64619bf2ab65",
   "metadata": {},
   "outputs": [],
   "source": [
    "# calculate air density from temperature\n",
    "mettrack = calc_density(mettrack)"
   ]
  },
  {
   "cell_type": "code",
   "execution_count": 93,
   "id": "34ec9949-578c-4460-8e34-2fc70ca09c95",
   "metadata": {},
   "outputs": [],
   "source": [
    "# convert aerosol units\n",
    "aertrack = aero_unit_conversions(aertrack, mettrack)"
   ]
  },
  {
   "cell_type": "code",
   "execution_count": 94,
   "id": "391243ee-0df6-4276-8b29-d2b6c071f739",
   "metadata": {},
   "outputs": [],
   "source": [
    "# select data at 20m\n",
    "aertrack = aertrack.isel(z1_hybrid_height=0).expand_dims('z1_hybrid_height').transpose()\n",
    "mettrack = mettrack.isel(z1_hybrid_height=0).expand_dims('z1_hybrid_height').transpose()\n",
    "mettrack = mettrack.drop('z0_hybrid_height')"
   ]
  },
  {
   "cell_type": "code",
   "execution_count": 95,
   "id": "42db4625-55f7-4134-956b-4f248d85e89d",
   "metadata": {},
   "outputs": [],
   "source": [
    "# calculate aerosol number concentrations\n",
    "aertrack = nt_calcs(aertrack)"
   ]
  },
  {
   "cell_type": "code",
   "execution_count": 96,
   "id": "3e50145e-82b1-4e5a-89c1-6560ca28d0b2",
   "metadata": {},
   "outputs": [],
   "source": [
    "# calculate CCN number concentrations\n",
    "aertrack = ccn_calcs(aertrack)"
   ]
  },
  {
   "cell_type": "code",
   "execution_count": 97,
   "id": "0018c16d-1053-45fe-b503-7a2c452200f7",
   "metadata": {},
   "outputs": [],
   "source": [
    "# merge the aerosol and meteorology data together\n",
    "tan_track = xr.merge([aertrack,mettrack])"
   ]
  },
  {
   "cell_type": "code",
   "execution_count": 98,
   "id": "2b35ff83-0d84-445a-96f3-c217e383e5fc",
   "metadata": {},
   "outputs": [],
   "source": [
    "tan_track = tan_track[['lat','lon','N3','N10','CCN40','CCN50','CCN60','uas','vas','psl','pr','tempk']]"
   ]
  },
  {
   "cell_type": "code",
   "execution_count": 99,
   "id": "d72ed2ea-f05b-44b0-b56f-f1d4977b0fa8",
   "metadata": {},
   "outputs": [],
   "source": [
    "# remove time component from datetime coordinate\n",
    "tan_track['time'] = tan_track.indexes['time'].normalize()"
   ]
  },
  {
   "cell_type": "code",
   "execution_count": 101,
   "id": "12e230b3-004a-4760-864c-14ee5815cb7f",
   "metadata": {},
   "outputs": [],
   "source": [
    "tan_track.load().to_netcdf(path='/g/data/jk72/ll6859/ACCESS_aero_eval/TAN1802/tan1718_bx400_track.nc')"
   ]
  },
  {
   "cell_type": "markdown",
   "id": "35560d1a-cdc2-4a31-90f3-04e73dfeaab3",
   "metadata": {},
   "source": [
    "cg283"
   ]
  },
  {
   "cell_type": "code",
   "execution_count": 90,
   "id": "faab1218-c4af-49f4-b1a1-3badfddea3ec",
   "metadata": {},
   "outputs": [],
   "source": [
    "# extract aerosol data\n",
    "m_path = '/g/data/jk72/slf563/ACCESS/output/cg283/daily/'\n",
    "mod = 'cg283a'\n",
    "dt = 'pd.sh'\n",
    "key = uw\n",
    "\n",
    "aertrack = df_md(key, m_path, mod, dt)"
   ]
  },
  {
   "cell_type": "code",
   "execution_count": 91,
   "id": "0f760311-d5f0-4dd5-9b5e-5b463544899d",
   "metadata": {},
   "outputs": [],
   "source": [
    "# extract meteorology data\n",
    "m_path = '/g/data/jk72/slf563/ACCESS/output/cg283/daily/'\n",
    "mod = 'cg283a'\n",
    "dt = 'pd.glob'\n",
    "key = uw\n",
    "\n",
    "mettrack = df_md(key, m_path, mod, dt)"
   ]
  },
  {
   "cell_type": "code",
   "execution_count": 92,
   "id": "7bc1fdfd-c4e2-4e13-9d06-da810ca99046",
   "metadata": {},
   "outputs": [],
   "source": [
    "# calculate air density from temperature\n",
    "mettrack = calc_density(mettrack)"
   ]
  },
  {
   "cell_type": "code",
   "execution_count": 93,
   "id": "63efec7f-dd23-40c4-9a85-654c2f495e0c",
   "metadata": {},
   "outputs": [],
   "source": [
    "# convert aerosol units\n",
    "aertrack = aero_unit_conversions(aertrack, mettrack)"
   ]
  },
  {
   "cell_type": "code",
   "execution_count": 94,
   "id": "6322b1eb-873b-4b5a-abad-2339693d2067",
   "metadata": {},
   "outputs": [],
   "source": [
    "# select data at 20m\n",
    "aertrack = aertrack.isel(z1_hybrid_height=0).expand_dims('z1_hybrid_height').transpose()\n",
    "mettrack = mettrack.isel(z1_hybrid_height=0).expand_dims('z1_hybrid_height').transpose()\n",
    "mettrack = mettrack.drop('z0_hybrid_height')"
   ]
  },
  {
   "cell_type": "code",
   "execution_count": 95,
   "id": "532740f3-5600-4ce2-8ade-5445d15e2aa5",
   "metadata": {},
   "outputs": [],
   "source": [
    "# calculate aerosol number concentrations\n",
    "aertrack = nt_calcs(aertrack)"
   ]
  },
  {
   "cell_type": "code",
   "execution_count": 96,
   "id": "7ced4e62-a06f-48d8-82bc-1df48492cb86",
   "metadata": {},
   "outputs": [],
   "source": [
    "# calculate CCN number concentrations\n",
    "aertrack = ccn_calcs(aertrack)"
   ]
  },
  {
   "cell_type": "code",
   "execution_count": 97,
   "id": "65053184-d323-4711-9067-22c716b1f537",
   "metadata": {},
   "outputs": [],
   "source": [
    "# merge the aerosol and meteorology data together\n",
    "tan_track = xr.merge([aertrack,mettrack])"
   ]
  },
  {
   "cell_type": "code",
   "execution_count": 98,
   "id": "349988d4-28ad-4f00-b938-1f6869b2c7a3",
   "metadata": {},
   "outputs": [],
   "source": [
    "tan_track = tan_track[['lat','lon','N3','N10','CCN40','CCN50','CCN60','uas','vas','psl','pr','tempk']]"
   ]
  },
  {
   "cell_type": "code",
   "execution_count": 99,
   "id": "c30b3559-829b-4c82-a511-36d90f7d8590",
   "metadata": {},
   "outputs": [],
   "source": [
    "# remove time component from datetime coordinate\n",
    "tan_track['time'] = tan_track.indexes['time'].normalize()"
   ]
  },
  {
   "cell_type": "code",
   "execution_count": 101,
   "id": "6bd5c504-69cd-4ac0-b028-14341357f0e2",
   "metadata": {},
   "outputs": [],
   "source": [
    "tan_track.load().to_netcdf(path='/g/data/jk72/ll6859/ACCESS_aero_eval/TAN1802/tan1718_cg283_track.nc')"
   ]
  },
  {
   "cell_type": "code",
   "execution_count": null,
   "id": "a1bb4d0f-e840-4514-8e97-cd6cf8dd5814",
   "metadata": {},
   "outputs": [],
   "source": []
  }
 ],
 "metadata": {
  "kernelspec": {
   "display_name": "Python [conda env:analysis3-22.04]",
   "language": "python",
   "name": "conda-env-analysis3-22.04-py"
  },
  "language_info": {
   "codemirror_mode": {
    "name": "ipython",
    "version": 3
   },
   "file_extension": ".py",
   "mimetype": "text/x-python",
   "name": "python",
   "nbconvert_exporter": "python",
   "pygments_lexer": "ipython3",
   "version": "3.9.13"
  }
 },
 "nbformat": 4,
 "nbformat_minor": 5
}
