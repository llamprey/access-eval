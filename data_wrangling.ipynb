{
 "cells": [
  {
   "cell_type": "code",
   "execution_count": 34,
   "id": "6044d0a9-9a9e-4b21-8703-59e3e03681f1",
   "metadata": {},
   "outputs": [],
   "source": [
    "import sys\n",
    "import os\n",
    "sys.path.append('/g/data/jk72/ll6859/ACCESS_aero_eval/')\n",
    "from aercode import *\n",
    "import matplotlib \n",
    "import matplotlib.pyplot as plt \n",
    "import pandas as pd\n",
    "import numpy as np\n",
    "import xarray as xr\n",
    "import glob as gb\n",
    "import cartopy.crs as ccrs\n",
    "import seaborn as sns\n",
    "import scipy.special\n",
    "from datetime import datetime\n",
    "\n",
    "import dask\n",
    "import warnings"
   ]
  },
  {
   "cell_type": "code",
   "execution_count": 35,
   "id": "abd82e8e-fd68-4e9a-9ea9-6e80fec3259a",
   "metadata": {},
   "outputs": [
    {
     "data": {
      "text/html": [
       "<div>\n",
       "    <div style=\"width: 24px; height: 24px; background-color: #e1e1e1; border: 3px solid #9D9D9D; border-radius: 5px; position: absolute;\"> </div>\n",
       "    <div style=\"margin-left: 48px;\">\n",
       "        <h3 style=\"margin-bottom: 0px;\">Client</h3>\n",
       "        <p style=\"color: #9D9D9D; margin-bottom: 0px;\">Client-ae9c86d5-e707-11ed-a150-fa163ee9f7e4</p>\n",
       "        <table style=\"width: 100%; text-align: left;\">\n",
       "\n",
       "        <tr>\n",
       "        \n",
       "            <td style=\"text-align: left;\"><strong>Connection method:</strong> Cluster object</td>\n",
       "            <td style=\"text-align: left;\"><strong>Cluster type:</strong> distributed.LocalCluster</td>\n",
       "        \n",
       "        </tr>\n",
       "\n",
       "        \n",
       "            <tr>\n",
       "                <td style=\"text-align: left;\">\n",
       "                    <strong>Dashboard: </strong> <a href=\"/proxy/45377/status\" target=\"_blank\">/proxy/45377/status</a>\n",
       "                </td>\n",
       "                <td style=\"text-align: left;\"></td>\n",
       "            </tr>\n",
       "        \n",
       "\n",
       "        </table>\n",
       "\n",
       "        \n",
       "            <details>\n",
       "            <summary style=\"margin-bottom: 20px;\"><h3 style=\"display: inline;\">Cluster Info</h3></summary>\n",
       "            <div class=\"jp-RenderedHTMLCommon jp-RenderedHTML jp-mod-trusted jp-OutputArea-output\">\n",
       "    <div style=\"width: 24px; height: 24px; background-color: #e1e1e1; border: 3px solid #9D9D9D; border-radius: 5px; position: absolute;\">\n",
       "    </div>\n",
       "    <div style=\"margin-left: 48px;\">\n",
       "        <h3 style=\"margin-bottom: 0px; margin-top: 0px;\">LocalCluster</h3>\n",
       "        <p style=\"color: #9D9D9D; margin-bottom: 0px;\">4ef61c9f</p>\n",
       "        <table style=\"width: 100%; text-align: left;\">\n",
       "            <tr>\n",
       "                <td style=\"text-align: left;\">\n",
       "                    <strong>Dashboard:</strong> <a href=\"/proxy/45377/status\" target=\"_blank\">/proxy/45377/status</a>\n",
       "                </td>\n",
       "                <td style=\"text-align: left;\">\n",
       "                    <strong>Workers:</strong> 4\n",
       "                </td>\n",
       "            </tr>\n",
       "            <tr>\n",
       "                <td style=\"text-align: left;\">\n",
       "                    <strong>Total threads:</strong> 8\n",
       "                </td>\n",
       "                <td style=\"text-align: left;\">\n",
       "                    <strong>Total memory:</strong> 22.46 GiB\n",
       "                </td>\n",
       "            </tr>\n",
       "            \n",
       "            <tr>\n",
       "    <td style=\"text-align: left;\"><strong>Status:</strong> running</td>\n",
       "    <td style=\"text-align: left;\"><strong>Using processes:</strong> True</td>\n",
       "</tr>\n",
       "\n",
       "            \n",
       "        </table>\n",
       "\n",
       "        <details>\n",
       "            <summary style=\"margin-bottom: 20px;\">\n",
       "                <h3 style=\"display: inline;\">Scheduler Info</h3>\n",
       "            </summary>\n",
       "\n",
       "            <div style=\"\">\n",
       "    <div>\n",
       "        <div style=\"width: 24px; height: 24px; background-color: #FFF7E5; border: 3px solid #FF6132; border-radius: 5px; position: absolute;\"> </div>\n",
       "        <div style=\"margin-left: 48px;\">\n",
       "            <h3 style=\"margin-bottom: 0px;\">Scheduler</h3>\n",
       "            <p style=\"color: #9D9D9D; margin-bottom: 0px;\">Scheduler-df99d724-a011-45b3-81fb-a70f93de0510</p>\n",
       "            <table style=\"width: 100%; text-align: left;\">\n",
       "                <tr>\n",
       "                    <td style=\"text-align: left;\">\n",
       "                        <strong>Comm:</strong> tcp://127.0.0.1:39203\n",
       "                    </td>\n",
       "                    <td style=\"text-align: left;\">\n",
       "                        <strong>Workers:</strong> 4\n",
       "                    </td>\n",
       "                </tr>\n",
       "                <tr>\n",
       "                    <td style=\"text-align: left;\">\n",
       "                        <strong>Dashboard:</strong> <a href=\"/proxy/45377/status\" target=\"_blank\">/proxy/45377/status</a>\n",
       "                    </td>\n",
       "                    <td style=\"text-align: left;\">\n",
       "                        <strong>Total threads:</strong> 8\n",
       "                    </td>\n",
       "                </tr>\n",
       "                <tr>\n",
       "                    <td style=\"text-align: left;\">\n",
       "                        <strong>Started:</strong> Just now\n",
       "                    </td>\n",
       "                    <td style=\"text-align: left;\">\n",
       "                        <strong>Total memory:</strong> 22.46 GiB\n",
       "                    </td>\n",
       "                </tr>\n",
       "            </table>\n",
       "        </div>\n",
       "    </div>\n",
       "\n",
       "    <details style=\"margin-left: 48px;\">\n",
       "        <summary style=\"margin-bottom: 20px;\">\n",
       "            <h3 style=\"display: inline;\">Workers</h3>\n",
       "        </summary>\n",
       "\n",
       "        \n",
       "        <div style=\"margin-bottom: 20px;\">\n",
       "            <div style=\"width: 24px; height: 24px; background-color: #DBF5FF; border: 3px solid #4CC9FF; border-radius: 5px; position: absolute;\"> </div>\n",
       "            <div style=\"margin-left: 48px;\">\n",
       "            <details>\n",
       "                <summary>\n",
       "                    <h4 style=\"margin-bottom: 0px; display: inline;\">Worker: 0</h4>\n",
       "                </summary>\n",
       "                <table style=\"width: 100%; text-align: left;\">\n",
       "                    <tr>\n",
       "                        <td style=\"text-align: left;\">\n",
       "                            <strong>Comm: </strong> tcp://127.0.0.1:42067\n",
       "                        </td>\n",
       "                        <td style=\"text-align: left;\">\n",
       "                            <strong>Total threads: </strong> 2\n",
       "                        </td>\n",
       "                    </tr>\n",
       "                    <tr>\n",
       "                        <td style=\"text-align: left;\">\n",
       "                            <strong>Dashboard: </strong> <a href=\"/proxy/40069/status\" target=\"_blank\">/proxy/40069/status</a>\n",
       "                        </td>\n",
       "                        <td style=\"text-align: left;\">\n",
       "                            <strong>Memory: </strong> 5.62 GiB\n",
       "                        </td>\n",
       "                    </tr>\n",
       "                    <tr>\n",
       "                        <td style=\"text-align: left;\">\n",
       "                            <strong>Nanny: </strong> tcp://127.0.0.1:34433\n",
       "                        </td>\n",
       "                        <td style=\"text-align: left;\"></td>\n",
       "                    </tr>\n",
       "                    <tr>\n",
       "                        <td colspan=\"2\" style=\"text-align: left;\">\n",
       "                            <strong>Local directory: </strong> /local/hh5/ll6859/tmp/dask-worker-space/worker-2ckyi2x4\n",
       "                        </td>\n",
       "                    </tr>\n",
       "\n",
       "                    \n",
       "\n",
       "                    \n",
       "\n",
       "                </table>\n",
       "            </details>\n",
       "            </div>\n",
       "        </div>\n",
       "        \n",
       "        <div style=\"margin-bottom: 20px;\">\n",
       "            <div style=\"width: 24px; height: 24px; background-color: #DBF5FF; border: 3px solid #4CC9FF; border-radius: 5px; position: absolute;\"> </div>\n",
       "            <div style=\"margin-left: 48px;\">\n",
       "            <details>\n",
       "                <summary>\n",
       "                    <h4 style=\"margin-bottom: 0px; display: inline;\">Worker: 1</h4>\n",
       "                </summary>\n",
       "                <table style=\"width: 100%; text-align: left;\">\n",
       "                    <tr>\n",
       "                        <td style=\"text-align: left;\">\n",
       "                            <strong>Comm: </strong> tcp://127.0.0.1:34581\n",
       "                        </td>\n",
       "                        <td style=\"text-align: left;\">\n",
       "                            <strong>Total threads: </strong> 2\n",
       "                        </td>\n",
       "                    </tr>\n",
       "                    <tr>\n",
       "                        <td style=\"text-align: left;\">\n",
       "                            <strong>Dashboard: </strong> <a href=\"/proxy/38481/status\" target=\"_blank\">/proxy/38481/status</a>\n",
       "                        </td>\n",
       "                        <td style=\"text-align: left;\">\n",
       "                            <strong>Memory: </strong> 5.62 GiB\n",
       "                        </td>\n",
       "                    </tr>\n",
       "                    <tr>\n",
       "                        <td style=\"text-align: left;\">\n",
       "                            <strong>Nanny: </strong> tcp://127.0.0.1:35475\n",
       "                        </td>\n",
       "                        <td style=\"text-align: left;\"></td>\n",
       "                    </tr>\n",
       "                    <tr>\n",
       "                        <td colspan=\"2\" style=\"text-align: left;\">\n",
       "                            <strong>Local directory: </strong> /local/hh5/ll6859/tmp/dask-worker-space/worker-fh_oubbn\n",
       "                        </td>\n",
       "                    </tr>\n",
       "\n",
       "                    \n",
       "\n",
       "                    \n",
       "\n",
       "                </table>\n",
       "            </details>\n",
       "            </div>\n",
       "        </div>\n",
       "        \n",
       "        <div style=\"margin-bottom: 20px;\">\n",
       "            <div style=\"width: 24px; height: 24px; background-color: #DBF5FF; border: 3px solid #4CC9FF; border-radius: 5px; position: absolute;\"> </div>\n",
       "            <div style=\"margin-left: 48px;\">\n",
       "            <details>\n",
       "                <summary>\n",
       "                    <h4 style=\"margin-bottom: 0px; display: inline;\">Worker: 2</h4>\n",
       "                </summary>\n",
       "                <table style=\"width: 100%; text-align: left;\">\n",
       "                    <tr>\n",
       "                        <td style=\"text-align: left;\">\n",
       "                            <strong>Comm: </strong> tcp://127.0.0.1:46629\n",
       "                        </td>\n",
       "                        <td style=\"text-align: left;\">\n",
       "                            <strong>Total threads: </strong> 2\n",
       "                        </td>\n",
       "                    </tr>\n",
       "                    <tr>\n",
       "                        <td style=\"text-align: left;\">\n",
       "                            <strong>Dashboard: </strong> <a href=\"/proxy/40661/status\" target=\"_blank\">/proxy/40661/status</a>\n",
       "                        </td>\n",
       "                        <td style=\"text-align: left;\">\n",
       "                            <strong>Memory: </strong> 5.62 GiB\n",
       "                        </td>\n",
       "                    </tr>\n",
       "                    <tr>\n",
       "                        <td style=\"text-align: left;\">\n",
       "                            <strong>Nanny: </strong> tcp://127.0.0.1:33865\n",
       "                        </td>\n",
       "                        <td style=\"text-align: left;\"></td>\n",
       "                    </tr>\n",
       "                    <tr>\n",
       "                        <td colspan=\"2\" style=\"text-align: left;\">\n",
       "                            <strong>Local directory: </strong> /local/hh5/ll6859/tmp/dask-worker-space/worker-_rhco1g5\n",
       "                        </td>\n",
       "                    </tr>\n",
       "\n",
       "                    \n",
       "\n",
       "                    \n",
       "\n",
       "                </table>\n",
       "            </details>\n",
       "            </div>\n",
       "        </div>\n",
       "        \n",
       "        <div style=\"margin-bottom: 20px;\">\n",
       "            <div style=\"width: 24px; height: 24px; background-color: #DBF5FF; border: 3px solid #4CC9FF; border-radius: 5px; position: absolute;\"> </div>\n",
       "            <div style=\"margin-left: 48px;\">\n",
       "            <details>\n",
       "                <summary>\n",
       "                    <h4 style=\"margin-bottom: 0px; display: inline;\">Worker: 3</h4>\n",
       "                </summary>\n",
       "                <table style=\"width: 100%; text-align: left;\">\n",
       "                    <tr>\n",
       "                        <td style=\"text-align: left;\">\n",
       "                            <strong>Comm: </strong> tcp://127.0.0.1:37277\n",
       "                        </td>\n",
       "                        <td style=\"text-align: left;\">\n",
       "                            <strong>Total threads: </strong> 2\n",
       "                        </td>\n",
       "                    </tr>\n",
       "                    <tr>\n",
       "                        <td style=\"text-align: left;\">\n",
       "                            <strong>Dashboard: </strong> <a href=\"/proxy/41271/status\" target=\"_blank\">/proxy/41271/status</a>\n",
       "                        </td>\n",
       "                        <td style=\"text-align: left;\">\n",
       "                            <strong>Memory: </strong> 5.62 GiB\n",
       "                        </td>\n",
       "                    </tr>\n",
       "                    <tr>\n",
       "                        <td style=\"text-align: left;\">\n",
       "                            <strong>Nanny: </strong> tcp://127.0.0.1:46207\n",
       "                        </td>\n",
       "                        <td style=\"text-align: left;\"></td>\n",
       "                    </tr>\n",
       "                    <tr>\n",
       "                        <td colspan=\"2\" style=\"text-align: left;\">\n",
       "                            <strong>Local directory: </strong> /local/hh5/ll6859/tmp/dask-worker-space/worker-sn7iss9f\n",
       "                        </td>\n",
       "                    </tr>\n",
       "\n",
       "                    \n",
       "\n",
       "                    \n",
       "\n",
       "                </table>\n",
       "            </details>\n",
       "            </div>\n",
       "        </div>\n",
       "        \n",
       "\n",
       "    </details>\n",
       "</div>\n",
       "\n",
       "        </details>\n",
       "    </div>\n",
       "</div>\n",
       "            </details>\n",
       "        \n",
       "\n",
       "    </div>\n",
       "</div>"
      ],
      "text/plain": [
       "<Client: 'tcp://127.0.0.1:39203' processes=4 threads=8, memory=22.46 GiB>"
      ]
     },
     "execution_count": 35,
     "metadata": {},
     "output_type": "execute_result"
    }
   ],
   "source": [
    "from dask.distributed import Client\n",
    "client = Client()  # set up local cluster\n",
    "client"
   ]
  },
  {
   "cell_type": "code",
   "execution_count": 36,
   "id": "f19da695-8f62-4f6e-aeae-d1a2163663ae",
   "metadata": {},
   "outputs": [],
   "source": [
    "dask.config.set(**{'array.slicing.split_large_chunks': True});"
   ]
  },
  {
   "cell_type": "code",
   "execution_count": 37,
   "id": "ee3c3add-5068-4de9-9b3c-31a597944f4f",
   "metadata": {},
   "outputs": [],
   "source": [
    "plt.style.use('default')\n",
    "warnings.filterwarnings('ignore')"
   ]
  },
  {
   "cell_type": "code",
   "execution_count": 38,
   "id": "08ba5030-bf6f-48c7-b15f-9b1ff3dcd57e",
   "metadata": {
    "tags": []
   },
   "outputs": [],
   "source": [
    "pd.set_option('display.max_columns', None)\n",
    "pd.set_option('display.max_rows', 10)"
   ]
  },
  {
   "cell_type": "markdown",
   "id": "7d77e0a2-e7c1-439c-9f14-f20d25a13da2",
   "metadata": {},
   "source": [
    "# RVInvestigator"
   ]
  },
  {
   "cell_type": "code",
   "execution_count": 39,
   "id": "ee031289-e13e-4355-9123-b688292f3e05",
   "metadata": {},
   "outputs": [],
   "source": [
    "# load in all observations and resample\n",
    "f_path = '/g/data/jk72/ll6859/ACCESS_aero_eval/RVInvestigator/'\n",
    "aer = pd.read_csv(f_path+'rvigaw_cn10_2016to2019_L2.csv', index_col='datetime')\n",
    "aer['time'] = pd.DatetimeIndex(aer.index)\n",
    "aer.index = aer['time']\n",
    "aer = aer.resample('1D', kind='time').mean()\n",
    "aer = aer[['cn10_avg','cn10_std','latitude','longitude']].dropna()\n",
    "aer.rename(columns={'latitude': 'lat', 'longitude': 'lon'}, inplace=True)\n",
    "\n",
    "met = pd.read_csv(f_path+'RVI-met.csv', delimiter=',', skiprows=54, index_col='TIME')\n",
    "met['time'] = pd.DatetimeIndex(met.index)\n",
    "met.index = met['time'].astype('datetime64[ns]')\n",
    "met = met[['AIRT_1','ATMP','RAIN_AMOUNT_1','WDIR_1','WSPD_1']]\n",
    "met['RAIN_AMOUNT_1'] = met['RAIN_AMOUNT_1'].diff()\n",
    "met['RAIN_AMOUNT_1'][met['RAIN_AMOUNT_1']<0]=0\n",
    "met_tmp = met\n",
    "met = met.resample('1D', kind='time').mean()\n",
    "met['RAIN_AMOUNT_1'] = met_tmp['RAIN_AMOUNT_1'].resample('1D', kind='time').sum()\n",
    "met['RAIN_AMOUNT_1'][met['RAIN_AMOUNT_1']>60]=np.nan\n",
    "met.rename(columns={'AIRT_1': 'air_temp', 'RAIN_AMOUNT_1': 'total_rain', 'ATMP': 'air_pressure', 'WDIR_1': 'wind_dir', 'WSPD_1': 'wind_spd'}, inplace=True)\n",
    "\n",
    "rdn = pd.read_excel(f_path+'2020_05_29d_RVI_1420_Radon.xlsx', sheet_name='RVI1420', index_col='DateTime')\n",
    "rdn['time'] = pd.DatetimeIndex(rdn.index)\n",
    "rdn.index = rdn['time']\n",
    "rdn = rdn[rdn['Radon']>0]\n",
    "rdn = rdn.resample('1D', kind='time').mean()\n",
    "rdn = rdn[['Radon','[SD]','RnSTP']].dropna()\n",
    "rdn.rename(columns={'Radon': 'radon', '[SD]': 'radon_std', 'RnSTP': 'radon_stp'}, inplace=True)"
   ]
  },
  {
   "cell_type": "code",
   "execution_count": 40,
   "id": "18c87b20-1f8c-4f04-8ea6-76130238edd7",
   "metadata": {
    "tags": []
   },
   "outputs": [],
   "source": [
    "# convert observations to a dataset\n",
    "rvi_ds = aer.to_xarray()\n",
    "rvi_ds = rvi_ds.assign(met)\n",
    "rvi_ds = rvi_ds.assign(rdn)"
   ]
  },
  {
   "cell_type": "code",
   "execution_count": 41,
   "id": "3fdc30f3-5720-4a78-934b-edd7fdf3ee6e",
   "metadata": {},
   "outputs": [],
   "source": [
    "# remove outliers\n",
    "rvi_ds = rvi_ds.where(rvi_ds['cn10_avg']<10000)"
   ]
  },
  {
   "cell_type": "code",
   "execution_count": 42,
   "id": "e689fae2-a685-4768-8d4d-22af6571da00",
   "metadata": {},
   "outputs": [],
   "source": [
    "# Edit data attributes\n",
    "rvi_ds.attrs['title'] = 'Aerosol, meteorology and radon observations for the 2016-2019 RV Investigator voyage.'\n",
    "rvi_ds.attrs['contacts'] = 'Liam.Lamprey@utas.edu.au'"
   ]
  },
  {
   "cell_type": "code",
   "execution_count": 43,
   "id": "852b41c3-a020-4821-b78b-d5a87e8dac6c",
   "metadata": {
    "tags": []
   },
   "outputs": [],
   "source": [
    "# add new source coordinate\n",
    "rvi_ds = rvi_ds.assign_coords(Source='RVI')"
   ]
  },
  {
   "cell_type": "code",
   "execution_count": 44,
   "id": "513cdd8f-24a8-4db1-9682-c785a47d4a50",
   "metadata": {},
   "outputs": [],
   "source": [
    "rvi_ds.load().to_netcdf(path=f_path+'rvi1619_obs.nc')"
   ]
  },
  {
   "cell_type": "markdown",
   "id": "788a035b-254e-4f18-a279-4f824ea1d691",
   "metadata": {},
   "source": [
    "# Cold Water Trial"
   ]
  },
  {
   "cell_type": "markdown",
   "id": "2c788d45-4be2-43ca-be7f-061d34353d4b",
   "metadata": {},
   "source": [
    "bx400"
   ]
  },
  {
   "cell_type": "code",
   "execution_count": 45,
   "id": "13062866-6bf5-4a18-aa88-39eedf69acb7",
   "metadata": {
    "tags": []
   },
   "outputs": [],
   "source": [
    "# f_path = '/g/data/jk72/ll6859/ACCESS_aero_eval/ColdWaterTrial/'\n",
    "\n",
    "# df = pd.read_csv(f_path+'CWT_ProcessedAerosolData_1min.csv', delimiter=',', index_col='date')\n",
    "# df['time'] = pd.DatetimeIndex(df.index)\n",
    "# df.index = df['time'].astype('datetime64[ns]')\n",
    "# df = df[['lat','lon','AirTemp_port','AirTemp_stbd','atmPress','WindSpdTru','Radon_hrly','CN_mean']]\n",
    "# df = df.dropna()\n",
    "# df = df.resample('1D', kind='time').mean()"
   ]
  },
  {
   "cell_type": "markdown",
   "id": "f1a65bf2-7f83-4d76-8cd1-7faec9756781",
   "metadata": {},
   "source": [
    "# Reef 2 Rainforest"
   ]
  },
  {
   "cell_type": "code",
   "execution_count": 46,
   "id": "6bd07a7b-bcf7-4c5a-a248-e0a74965e31e",
   "metadata": {},
   "outputs": [],
   "source": [
    "f_path = '/g/data/jk72/ll6859/ACCESS_aero_eval/Reef2Rain/'\n",
    "\n",
    "df = pd.read_csv(f_path+'R2R_RV_aerosol.csv', index_col='date')\n",
    "df['time'] = pd.DatetimeIndex(df.index)\n",
    "df.index = df['time'].astype('datetime64[ns]')\n",
    "df = df.resample('1D', kind='time').mean()\n",
    "df = df.dropna()\n",
    "df['air_temp'] = (df['AirTemp_port']+df['AirTemp_stbd'])/2\n",
    "df['wind_spd'] = (df['WindSpdTru_port']+df['WindSpdTru_stbd'])/2\n",
    "df = df[['lat','lon','air_temp','atmPress','WindDir', 'wind_spd', 'Radon_hrly','CN3_mean','CN10_mean','CCN_mean']]\n",
    "df.rename(columns={'atmPress': 'air_pressure', \n",
    "                   'WindDir': 'wind_dir', \n",
    "                   'Radon_hrly': 'radon', \n",
    "                   'CN3_mean': 'cn3_avg', \n",
    "                   'CN10_mean': 'cn10_avg', \n",
    "                   'CCN_mean': 'ccn_avg'}, inplace=True)"
   ]
  },
  {
   "cell_type": "code",
   "execution_count": 47,
   "id": "69bb91e3-91d7-48e4-8be2-40aaf9e738ab",
   "metadata": {},
   "outputs": [],
   "source": [
    "# convert observations to a dataset\n",
    "r2r_ds = df.to_xarray()"
   ]
  },
  {
   "cell_type": "code",
   "execution_count": 48,
   "id": "aa7374ce-ff8e-4dcd-b77a-42de154ffec9",
   "metadata": {},
   "outputs": [],
   "source": [
    "# remove outliers\n",
    "r2r_ds = r2r_ds.where(r2r_ds['cn10_avg']<10000)\n",
    "\n",
    "# Edit data attributes\n",
    "r2r_ds.attrs['title'] = 'Aerosol and meteorology observations for the 2016 Reef 2 Rainforest voyage.'\n",
    "r2r_ds.attrs['contacts'] = 'Liam.Lamprey@utas.edu.au'"
   ]
  },
  {
   "cell_type": "code",
   "execution_count": 49,
   "id": "93f6ae6a-97f7-43cb-89fe-33ea6280c30c",
   "metadata": {},
   "outputs": [],
   "source": [
    "# add new source coordinate\n",
    "r2r_ds = r2r_ds.assign_coords(Source='Reef2Rain')"
   ]
  },
  {
   "cell_type": "code",
   "execution_count": 50,
   "id": "194982d4-4c31-47fb-a94d-61a2bbf1d1bd",
   "metadata": {},
   "outputs": [],
   "source": [
    "r2r_ds.load().to_netcdf(path=f_path+'r2r16_obs.nc')"
   ]
  },
  {
   "cell_type": "markdown",
   "id": "d2b2d1b0-06b4-4449-940b-6f5bd6906bab",
   "metadata": {},
   "source": [
    "# Ice 2 Equator"
   ]
  },
  {
   "cell_type": "code",
   "execution_count": 51,
   "id": "3f234b13-019f-4a6b-a484-535e622eb8e5",
   "metadata": {
    "tags": []
   },
   "outputs": [],
   "source": [
    "f_path = '/g/data/jk72/ll6859/ACCESS_aero_eval/Ice2Equator/'\n",
    "\n",
    "df = pd.read_csv(f_path+'I2E_ProcessedAerosolData_1min.csv', index_col='date')\n",
    "df['time'] = pd.DatetimeIndex(df.index)\n",
    "df.index = df['time'].astype('datetime64[ns]')\n",
    "df = df.resample('1D', kind='time').mean()\n",
    "df = df.dropna()\n",
    "df['air_temp'] = (df['AirTemp_port']+df['AirTemp_stbd'])/2\n",
    "df['wind_spd'] = (df['WindSpdTru_port']+df['WindSpdTru_stbd'])/2\n",
    "df = df[['lat','lon','air_temp','atmPress','wind_spd','WindDirRel_vmean','Radon_hrly','CN_mean','CN_std']]\n",
    "df.rename(columns={'atmPress': 'air_pressure',\n",
    "                   'WindDirRel_vmean':'wind_dir',\n",
    "                   'Radon_hrly': 'radon', \n",
    "                   'CN_mean': 'cn3_avg', \n",
    "                   'CN_std': 'cn3_std'}, inplace=True)"
   ]
  },
  {
   "cell_type": "code",
   "execution_count": 52,
   "id": "5eed117f-90fc-4d40-bda2-ffb21dc3afdb",
   "metadata": {},
   "outputs": [],
   "source": [
    "# convert observations to a dataset\n",
    "i2e_ds = df.to_xarray()"
   ]
  },
  {
   "cell_type": "code",
   "execution_count": 53,
   "id": "83b12202-ff6c-4bcb-96ff-a7de65ca7591",
   "metadata": {},
   "outputs": [],
   "source": [
    "# remove outliers\n",
    "i2e_ds = i2e_ds.where(i2e_ds['cn3_avg']<10000)\n",
    "\n",
    "# Edit data attributes\n",
    "i2e_ds.attrs['title'] = 'Aerosol and meteorology observations for the 2016 Ice 2 Equator voyage.'\n",
    "i2e_ds.attrs['contacts'] = 'Liam.Lamprey@utas.edu.au'"
   ]
  },
  {
   "cell_type": "code",
   "execution_count": 54,
   "id": "8956d325-0ef3-4e03-ab5d-91c3602a19ef",
   "metadata": {},
   "outputs": [],
   "source": [
    "# add new source coordinate\n",
    "i2e_ds = i2e_ds.assign_coords(Source='Ice2Equ')"
   ]
  },
  {
   "cell_type": "code",
   "execution_count": 55,
   "id": "7ef7d8f7-fd3b-4674-8502-f8015e6ed224",
   "metadata": {},
   "outputs": [],
   "source": [
    "i2e_ds.load().to_netcdf(path=f_path+'i2e16_obs.nc')"
   ]
  },
  {
   "cell_type": "markdown",
   "id": "d6946915-39dc-4c07-a7ff-55481519bb80",
   "metadata": {},
   "source": [
    "# CAPRICORN I"
   ]
  },
  {
   "cell_type": "code",
   "execution_count": 56,
   "id": "314d3286-8509-422c-9066-efb9c777ba1e",
   "metadata": {},
   "outputs": [],
   "source": [
    "f_path = '/g/data/jk72/ll6859/ACCESS_aero_eval/Capricorn/'\n",
    "\n",
    "aer = pd.read_hdf(f_path+'aerosol_1sec.h5')\n",
    "aer.index.name = 'time'\n",
    "aer = aer.resample('1D', kind='time').mean()\n",
    "aer.rename(columns={'ccn_0.5504': 'ccn_avg',\n",
    "                   'ccn_sigma': 'ccn_std', \n",
    "                   'cn3': 'cn3_avg', \n",
    "                   'cn3_sigma': 'cn3_std'}, inplace=True)\n",
    "\n",
    "met = pd.read_csv(f_path+'in2016_v02uwy10sec.csv', parse_dates=[['date', 'time']], index_col='date_time')\n",
    "met = met.resample('1D').mean()\n",
    "met['air_temp'] = (met['portAirTemp(degC)']+met['stbdAirTemp(degC)'])/2\n",
    "met = met[['latitude(degree_north)','longitude(degree_east)','air_temp','atmPressure(mbar)','rain(mm)']]\n",
    "met.rename(columns = {\"latitude(degree_north)\": \"lat\",\n",
    "                      \"longitude(degree_east)\": \"lon\",\n",
    "                      \"atmPressure(mbar)\": \"air_pressure\",\n",
    "                      \"rain(mm)\": \"total_rain\"}, inplace=True)\n",
    "met.index.name = 'time'   "
   ]
  },
  {
   "cell_type": "code",
   "execution_count": 57,
   "id": "e5a3446d-020b-4805-a14b-97ce9dd18f4c",
   "metadata": {
    "tags": []
   },
   "outputs": [],
   "source": [
    "# convert observations to a dataset\n",
    "cap1_ds = aer.to_xarray()\n",
    "cap1_ds = cap1_ds.assign(met)"
   ]
  },
  {
   "cell_type": "code",
   "execution_count": 58,
   "id": "a899dd67-1c9f-472c-a817-fcbf39b3d7c2",
   "metadata": {},
   "outputs": [],
   "source": [
    "# remove outliers\n",
    "cap1_ds = cap1_ds.where(cap1_ds['cn3_avg']<10000)\n",
    "\n",
    "# Edit data attributes\n",
    "cap1_ds.attrs['title'] = 'Aerosol and meteorology observations for the 2016 CAPRICORN I voyage.'\n",
    "cap1_ds.attrs['contacts'] = 'Liam.Lamprey@utas.edu.au'"
   ]
  },
  {
   "cell_type": "code",
   "execution_count": 59,
   "id": "99a78195-d09f-457b-9112-eb79feea415b",
   "metadata": {},
   "outputs": [],
   "source": [
    "# add new source coordinate\n",
    "cap1_ds = cap1_ds.assign_coords(Source='Cap1')"
   ]
  },
  {
   "cell_type": "code",
   "execution_count": 60,
   "id": "71c1b154-5691-45d7-9654-7bf9296bed8c",
   "metadata": {},
   "outputs": [],
   "source": [
    "cap1_ds.load().to_netcdf(path=f_path+'cap16_obs.nc')"
   ]
  },
  {
   "cell_type": "markdown",
   "id": "fe2bf590-0e4e-457a-b238-254d3b4b5b7a",
   "metadata": {},
   "source": [
    "# CAPRICORN II"
   ]
  },
  {
   "cell_type": "code",
   "execution_count": 61,
   "id": "ec73363b-eec2-4e4a-8f2d-6b1445ca658f",
   "metadata": {},
   "outputs": [],
   "source": [
    "f_path = '/g/data/jk72/ll6859/ACCESS_aero_eval/Capricorn/'\n",
    "\n",
    "aer = pd.read_csv(f_path+'capricorn2_cpc3772_L2_1H.csv', index_col=0)\n",
    "aer.index.name = 'time'\n",
    "aer['time'] = pd.DatetimeIndex(aer.index)\n",
    "aer.index = aer['time'].astype('datetime64[ns]')\n",
    "aer = aer.resample('1D', kind='time').mean()\n",
    "aer = aer[['cn_avg', 'cn_std']]\n",
    "aer.rename(columns={'cn_avg': 'cn10_avg',\n",
    "                   'cn_std': 'cn10_std'}, inplace=True)\n",
    "\n",
    "met = pd.read_csv(f_path+'in2018_v01uwy10sec.csv', parse_dates=[['date', 'time']], index_col='date_time')\n",
    "for v in met.select_dtypes('object'):\n",
    "    met[v] = pd.to_numeric(met[v], errors='coerce')\n",
    "met.index.name = 'time'\n",
    "met = met.resample('1D').mean()\n",
    "met['air_temp'] = (met['portAirTemp(degC)']+met['stbdAirTemp(degC)'])/2\n",
    "met['total_rain'] = (met['portRain(mm)']+met['stbdRain(mm)'])/2\n",
    "met['wind_spd'] = (met['portTrueWindSpeed(knot)']+met['stbdTrueWindSpeed(knot)'])/2*1.944\n",
    "met['wind_dir'] = (met['portTrueWindDir(degree)']+met['stbdTrueWindDir(degree)'])/2\n",
    "met = met[['latitude(degree_north)','longitude(degree_east)','air_temp','atmPressure(mbar)','total_rain','wind_spd','wind_dir']]\n",
    "met.rename(columns = {\"latitude(degree_north)\": \"lat\",\n",
    "                            \"longitude(degree_east)\": \"lon\",\n",
    "                            \"atmPressure(mbar)\": \"air_pressure\"}, inplace=True)"
   ]
  },
  {
   "cell_type": "code",
   "execution_count": 62,
   "id": "c7c9c06c-cadb-4c99-aa1e-9e8d3dcbea08",
   "metadata": {
    "tags": []
   },
   "outputs": [],
   "source": [
    "# convert observations to a dataset\n",
    "cap2_ds = aer.to_xarray()\n",
    "cap2_ds = cap2_ds.assign(met)"
   ]
  },
  {
   "cell_type": "code",
   "execution_count": 63,
   "id": "75cc7b73-3520-4044-8902-6ad27a50f115",
   "metadata": {},
   "outputs": [],
   "source": [
    "# remove outliers\n",
    "cap2_ds = cap2_ds.where(cap2_ds['cn10_avg']<10000)\n",
    "\n",
    "# Edit data attributes\n",
    "cap2_ds.attrs['title'] = 'Aerosol and meteorology observations for the 2018 CAPRICORN II voyage.'\n",
    "cap2_ds.attrs['contacts'] = 'Liam.Lamprey@utas.edu.au'"
   ]
  },
  {
   "cell_type": "code",
   "execution_count": 64,
   "id": "854536bf-4661-4521-b619-f618e37631da",
   "metadata": {},
   "outputs": [],
   "source": [
    "# add new source coordinate\n",
    "cap2_ds = cap2_ds.assign_coords(Source='Cap2')"
   ]
  },
  {
   "cell_type": "code",
   "execution_count": 65,
   "id": "3ce8c893-d747-40fa-b3c1-f02de7f9c25c",
   "metadata": {},
   "outputs": [],
   "source": [
    "cap2_ds.load().to_netcdf(path=f_path+'cap18_obs.nc')"
   ]
  },
  {
   "cell_type": "markdown",
   "id": "23a12e9f-6ac6-499e-ae90-b4bf7a8a3de0",
   "metadata": {},
   "source": [
    "# MARCUS"
   ]
  },
  {
   "cell_type": "code",
   "execution_count": 66,
   "id": "e4cefd25-b503-4afd-9ecf-9d8ad6c78f11",
   "metadata": {},
   "outputs": [],
   "source": [
    "# load in all observations and resample\n",
    "f_path = '/g/data/jk72/ll6859/ACCESS_aero_eval/AuroraAustralis/'\n",
    "\n",
    "aer = pd.read_csv(f_path+'CN_MARCUS_1hr.csv', index_col=0)\n",
    "aer.index.name = 'time'\n",
    "aer['time'] = pd.DatetimeIndex(aer.index)\n",
    "aer.index = aer['time']\n",
    "aer = aer.resample('1D', kind='time').mean()\n",
    "aer = aer[['cn_avg','cn_std','lat','lon']].dropna()\n",
    "aer.rename(columns={'cn_avg': 'cn10_avg', 'cn_std': 'cn10_std'}, inplace=True)\n",
    "\n",
    "met = pd.read_csv(f_path+'marcus-met.csv', delimiter=',', skiprows=54, index_col='TIME')\n",
    "met['time'] = pd.DatetimeIndex(met.index)\n",
    "met.index = met['time'].astype('datetime64[ns]')\n",
    "met = met[['AIRT_1','ATMP','RAIN_AMOUNT_1','WDIR_1','WSPD_1']]\n",
    "met['RAIN_AMOUNT_1'] = met['RAIN_AMOUNT_1'].diff()\n",
    "met['RAIN_AMOUNT_1'][met['RAIN_AMOUNT_1']<0]=0\n",
    "met_tmp = met\n",
    "met = met.resample('1D', kind='time').mean()\n",
    "met['RAIN_AMOUNT_1'] = met_tmp['RAIN_AMOUNT_1'].resample('1D', kind='time').sum()\n",
    "met.rename(columns={'AIRT_1': 'air_temp', 'RAIN_AMOUNT_1': 'total_rain', 'ATMP': 'air_pressure', 'WDIR_1': 'wind_dir', 'WSPD_1': 'wind_spd'}, inplace=True)"
   ]
  },
  {
   "cell_type": "code",
   "execution_count": 67,
   "id": "95a17e5b-8cdd-4163-8daa-f17a2253153c",
   "metadata": {
    "tags": []
   },
   "outputs": [],
   "source": [
    "# convert observations to a dataset\n",
    "aa_ds = aer.to_xarray()\n",
    "aa_ds = aa_ds.assign(met)"
   ]
  },
  {
   "cell_type": "code",
   "execution_count": 68,
   "id": "38a21264-1f7e-4dd4-b797-eada7e74ffbb",
   "metadata": {},
   "outputs": [],
   "source": [
    "# remove outliers\n",
    "aa_ds = aa_ds.where(aa_ds['cn10_avg']<10000)\n",
    "\n",
    "# Edit data attributes\n",
    "aa_ds.attrs['title'] = 'Aerosol and meteorology observations for the 2017-2018 MARCUS voyage.'\n",
    "aa_ds.attrs['contacts'] = 'Liam.Lamprey@utas.edu.au'"
   ]
  },
  {
   "cell_type": "code",
   "execution_count": 69,
   "id": "29827ad9-42b6-43f6-9f4d-c07467917df3",
   "metadata": {},
   "outputs": [],
   "source": [
    "# add new source coordinate\n",
    "aa_ds = aa_ds.assign_coords(Source='MARCUS')"
   ]
  },
  {
   "cell_type": "code",
   "execution_count": 70,
   "id": "ca888a1b-0078-447a-9f81-f00bd36dc3da",
   "metadata": {},
   "outputs": [],
   "source": [
    "aa_ds.load().to_netcdf(path=f_path+'aa1718_obs.nc')"
   ]
  },
  {
   "cell_type": "markdown",
   "id": "6d1a3db2-4e4b-49e1-9a1c-3ab17f9050dc",
   "metadata": {},
   "source": [
    "# TAN1802"
   ]
  },
  {
   "cell_type": "code",
   "execution_count": 71,
   "id": "3a642cb8-2f0f-4651-a226-e92f21025573",
   "metadata": {},
   "outputs": [],
   "source": [
    "# load in all observations and resample\n",
    "f_path = '/g/data/jk72/ll6859/ACCESS_aero_eval/TAN1802/'\n",
    "aer = xr.open_dataset(f_path+'CPC3010_TAN1802_2018_level_01.nc')\n",
    "aer = aer.rename({'number_concentration_of_ambient_aerosol_particles_in_air':'cn10',\n",
    "                  'number_concentration_of_ambient_aerosol_particles_in_air_flag':'cn10_flag'})\n",
    "aer = aer.where(aer.cn10_flag == 1)\n",
    "aer['cn10'] = aer['cn10']/1000000\n",
    "aer = aer.resample(time='1D').mean()\n",
    "aer = aer.rename({'cn10': 'cn10_avg'})\n",
    "\n",
    "uw = keycutter(f_path+'weather.csv','Time (UTC)', 'Latitude', 'Longitude')\n",
    "\n",
    "\n",
    "met = pd.read_csv(f_path+'TAN-met.csv', delimiter=',', skiprows=54, index_col='TIME')\n",
    "met['time'] = pd.DatetimeIndex(met.index)\n",
    "met.index = met['time'].astype('datetime64[ns]')\n",
    "met = met[['AIRT_1','ATMP','RAIN_AMOUNT_1','WDIR_1','WSPD_1']]\n",
    "met['RAIN_AMOUNT_1'] = met['RAIN_AMOUNT_1'].diff()\n",
    "met['RAIN_AMOUNT_1'][met['RAIN_AMOUNT_1']<0]=0\n",
    "met_tmp = met\n",
    "met = met.resample('1D', kind='time').mean()\n",
    "met['RAIN_AMOUNT_1'] = met_tmp['RAIN_AMOUNT_1'].resample('1D', kind='time').sum()\n",
    "met.rename(columns={'AIRT_1': 'air_temp', 'RAIN_AMOUNT_1': 'total_rain', 'ATMP': 'air_pressure', 'WDIR_1': 'wind_dir', 'WSPD_1': 'wind_spd'}, inplace=True)"
   ]
  },
  {
   "cell_type": "code",
   "execution_count": 72,
   "id": "46b5c99f-4677-4595-a920-0e7d1cf49278",
   "metadata": {
    "tags": []
   },
   "outputs": [],
   "source": [
    "# convert observations to a dataset\n",
    "tan_ds = aer\n",
    "tan_ds = tan_ds.assign(uw)\n",
    "tan_ds = tan_ds.assign(met)"
   ]
  },
  {
   "cell_type": "code",
   "execution_count": 73,
   "id": "8fe74f38-ba2e-4f3b-98f2-3348748401c9",
   "metadata": {},
   "outputs": [],
   "source": [
    "# remove outliers\n",
    "tan_ds = tan_ds.where(tan_ds['cn10_avg']<10000)\n",
    "\n",
    "# Edit data attributes\n",
    "tan_ds.attrs['title'] = 'Aerosol and meteorology observations for the 2017-2018 TAN1802 voyage.'\n",
    "tan_ds.attrs['contacts'] = 'Liam.Lamprey@utas.edu.au'"
   ]
  },
  {
   "cell_type": "code",
   "execution_count": 74,
   "id": "8cf79e72-1ce7-4a84-a5ca-bf44a774842a",
   "metadata": {},
   "outputs": [],
   "source": [
    "# add new source coordinate\n",
    "tan_ds = tan_ds.assign_coords(Source='TAN1802')"
   ]
  },
  {
   "cell_type": "code",
   "execution_count": 75,
   "id": "65189ec3-7d6f-48fa-a6e6-83146deb2fbe",
   "metadata": {},
   "outputs": [],
   "source": [
    "tan_ds.load().to_netcdf(path=f_path+'tan1718_obs.nc')"
   ]
  },
  {
   "cell_type": "markdown",
   "id": "28298728-3a29-4432-9aae-a9a998f3fb9e",
   "metadata": {},
   "source": [
    "# Cape Grim"
   ]
  },
  {
   "cell_type": "code",
   "execution_count": 76,
   "id": "2d3ab270-0de9-4c36-8ece-86dac952858f",
   "metadata": {},
   "outputs": [],
   "source": [
    "# load in all observations and resample\n",
    "f_path = '/g/data/jk72/ll6859/ACCESS_aero_eval/CGO/'\n",
    "aer = pd.read_excel(f_path+'cgbpaps_CN  2016-2018.xlsx', index_col='date')\n",
    "aer = aer.astype(np.float64).resample('1D',kind='time').mean()\n",
    "aer.index.name = 'time'\n",
    "aer = aer[['cn3772_mean','cn3772_sd']]\n",
    "aer.rename(columns={'cn3772_mean': 'cn10_avg', 'cn3772_sd': 'cn10_std'}, inplace=True)\n",
    "\n",
    "met = pd.read_excel(f_path+'CG_met_2015-2018.xlsx', index_col='date')\n",
    "met = met[['TempGC','Pressure','Rain','VWS10m','VWD10m']]\n",
    "met.index.name = 'time'\n",
    "met = met.resample('1D', kind='time').mean()\n",
    "met.rename(columns={'TempGC': 'air_temp', 'Rain': 'total_rain', 'Pressure': 'air_pressure', 'VWD10m': 'wind_dir', 'VWS10m': 'wind_spd'}, inplace=True)\n",
    "\n",
    "rdn = pd.read_excel(f_path+'2021_08_25a_CGO_Radon_2015-2018_ForLiam.xlsx', sheet_name='2015-2018-RadonMetCO2', index_col='DateTime')\n",
    "rdn.index.name = 'time'\n",
    "rdn = rdn[rdn['Radon']>0]\n",
    "rdn = rdn.resample('1D', kind='time').mean()\n",
    "rdn = rdn[['Radon','[SD]']].dropna()\n",
    "rdn.rename(columns={'Radon': 'radon', '[SD]': 'radon_std'}, inplace=True)"
   ]
  },
  {
   "cell_type": "code",
   "execution_count": 77,
   "id": "0b2b9691-f01b-40e1-a980-050251da0c4c",
   "metadata": {
    "tags": []
   },
   "outputs": [],
   "source": [
    "# convert observations to a dataset\n",
    "cgo_ds = aer.to_xarray()\n",
    "cgo_ds = cgo_ds.assign(met)\n",
    "cgo_ds = cgo_ds.assign(rdn)"
   ]
  },
  {
   "cell_type": "code",
   "execution_count": 78,
   "id": "65ca04a8-8344-4cc0-b944-a8e52bd7e127",
   "metadata": {},
   "outputs": [],
   "source": [
    "# remove outliers\n",
    "cgo_ds = cgo_ds.where(cgo_ds['cn10_avg']<10000)\n",
    "\n",
    "# Edit data attributes\n",
    "cgo_ds.attrs['title'] = 'Aerosol, meteorology and radon observations at the 2016-2018 Cape Grim Baseline Air Pollution Station.'\n",
    "cgo_ds.attrs['contacts'] = 'Liam.Lamprey@utas.edu.au'"
   ]
  },
  {
   "cell_type": "code",
   "execution_count": 79,
   "id": "83b8274f-230a-4bbc-9e27-518548c4ea74",
   "metadata": {},
   "outputs": [],
   "source": [
    "# add new source coordinate\n",
    "cgo_ds = cgo_ds.assign_coords(Source='CGO')"
   ]
  },
  {
   "cell_type": "code",
   "execution_count": 80,
   "id": "611d42c8-aad4-4add-9464-360378a67bd5",
   "metadata": {},
   "outputs": [],
   "source": [
    "cgo_ds.load().to_netcdf(path=f_path+'cgo1618_obs.nc')"
   ]
  },
  {
   "cell_type": "markdown",
   "id": "106bd0fb-b12b-4289-b050-13f348ea79f6",
   "metadata": {},
   "source": [
    "# Macquarie Island"
   ]
  },
  {
   "cell_type": "code",
   "execution_count": 81,
   "id": "dc77a13a-7342-45cb-9cf1-791363a8d13b",
   "metadata": {},
   "outputs": [],
   "source": [
    "# load in all observations and resample\n",
    "f_path = '/g/data/jk72/ll6859/ACCESS_aero_eval/MQI/'\n",
    "aer = pd.read_hdf(f_path+'ACRE_CN10_1H_FINAL.h5')\n",
    "aer.index.name = 'time'\n",
    "aer = aer[['cn_avg','cn_std']]\n",
    "aer = aer.resample('1D', kind='time').mean()\n",
    "aer.rename(columns={'cn_avg': 'cn10_avg', 'cn_std': 'cn10_std'}, inplace=True)\n",
    "\n",
    "met = []\n",
    "all_files = gb.glob(f_path+'AWS_hourly/*.csv')\n",
    "met = pd.concat([pd.read_csv(v) for v in all_files])\n",
    "met.index = met['MIN_OBSERVATION_DATE_'].astype('datetime64[ns]')\n",
    "met.index.name = 'time'\n",
    "met['AVG_RAINFALL'] = met['AVG_RAINFALL'].diff()\n",
    "met['AVG_RAINFALL'][met['AVG_RAINFALL']<0]=0\n",
    "met_tmp = met\n",
    "met = met.resample('1D', kind='time').mean()\n",
    "met['AVG_RAINFALL'] = met_tmp['AVG_RAINFALL'].resample('1D', kind='time').sum()\n",
    "met = met[['AVG_AIR_TEMPERATURE','AVG_WIND_DIRECTION','AVG_WIND_SPEED','AVG_AIR_PRESSURE','AVG_RAINFALL']]\n",
    "met.rename(columns={'AVG_AIR_TEMPERATURE': 'air_temp', 'AVG_RAINFALL': 'total_rain', 'AVG_AIR_PRESSURE': 'air_pressure', 'AVG_WIND_DIRECTION': 'wind_dir', 'AVG_WIND_SPEED': 'wind_spd'}, inplace=True)\n",
    "\n",
    "rdn = pd.read_excel(f_path+'2021_09_15a_MQI_Radon_2013-2019_ForLiamLamprey.xlsx',\n",
    "                    sheet_name='Radon_MQI_2013-2019',\n",
    "                    index_col='DateTime')\n",
    "rdn.index.name = 'time'\n",
    "rdn = rdn[rdn['Radon']>0]\n",
    "rdn = rdn.resample('1D', kind='time').mean()\n",
    "rdn = rdn[['Radon','[SD]']].dropna()\n",
    "rdn.rename(columns={'Radon': 'radon', '[SD]': 'radon_std'}, inplace=True)"
   ]
  },
  {
   "cell_type": "code",
   "execution_count": 82,
   "id": "626024d6-147a-4e14-bc41-2380644729ac",
   "metadata": {
    "tags": []
   },
   "outputs": [],
   "source": [
    "# convert observations to a dataset\n",
    "mqi_ds = aer.to_xarray()\n",
    "mqi_ds = mqi_ds.assign(met)\n",
    "mqi_ds = mqi_ds.assign(rdn)"
   ]
  },
  {
   "cell_type": "code",
   "execution_count": 83,
   "id": "d25917c4-ba2e-4323-bda1-771c88be5eb8",
   "metadata": {},
   "outputs": [],
   "source": [
    "# remove outliers\n",
    "mqi_ds = mqi_ds.where(mqi_ds['cn10_avg']<10000)\n",
    "\n",
    "# Edit data attributes\n",
    "mqi_ds.attrs['title'] = 'Aerosol, meteorology and radon observations at the 2016-2018 Macquarie Island Research Station.'\n",
    "mqi_ds.attrs['contacts'] = 'Liam.Lamprey@utas.edu.au'"
   ]
  },
  {
   "cell_type": "code",
   "execution_count": 84,
   "id": "34284a05-c6d1-477c-9da1-6c2120e4c9ce",
   "metadata": {},
   "outputs": [],
   "source": [
    "# add new source coordinate\n",
    "mqi_ds = mqi_ds.assign_coords(Source='MQI')"
   ]
  },
  {
   "cell_type": "code",
   "execution_count": 85,
   "id": "8df83430-1688-44d4-8d6a-873c42c2fd97",
   "metadata": {},
   "outputs": [],
   "source": [
    "mqi_ds.load().to_netcdf(path=f_path+'mqi1618_obs.nc')"
   ]
  },
  {
   "cell_type": "code",
   "execution_count": 95,
   "id": "92019d90-8205-43b5-8793-1765480349d4",
   "metadata": {
    "tags": []
   },
   "outputs": [],
   "source": [
    "voyages = [rvi_ds,\n",
    "           r2r_ds,\n",
    "           i2e_ds,\n",
    "           cap1_ds,\n",
    "           cap2_ds,\n",
    "           aa_ds,\n",
    "           tan_ds,\n",
    "           cgo_ds,\n",
    "           mqi_ds,\n",
    "]\n",
    "\n",
    "# voyage_obs_ds = xr.concat(voyages, dim='Source')\n",
    "# voyage_obs_ds"
   ]
  },
  {
   "cell_type": "markdown",
   "id": "bd66b934-d526-48f9-86bf-dfacc6f2ee27",
   "metadata": {},
   "source": [
    "## Combine model data"
   ]
  },
  {
   "cell_type": "code",
   "execution_count": 87,
   "id": "858a6284-1e3b-4914-8f24-93556d9260f3",
   "metadata": {
    "tags": []
   },
   "outputs": [],
   "source": [
    "# load in data\n",
    "f_path = '/g/data/jk72/ll6859/ACCESS_aero_eval/'\n",
    "rvi_bx = xr.open_dataset(f_path+'RVInvestigator/rvi1619_bx400_track.nc').assign_coords(Source='RVI')\n",
    "\n",
    "r2r_bx = xr.open_dataset(f_path+'Reef2Rain/r2r16_bx400_track.nc').assign_coords(Source='Reef2Rain')\n",
    "\n",
    "i2e_bx = xr.open_dataset(f_path+'Ice2Equator/i2e16_bx400_track.nc').assign_coords(Source='Ice2Equ')\n",
    "\n",
    "cap1_bx = xr.open_dataset(f_path+'Capricorn/cap16_bx400_track.nc').assign_coords(Source='Capricorn1')\n",
    "\n",
    "cap2_bx = xr.open_dataset(f_path+'Capricorn/cap18_bx400_track.nc').assign_coords(Source='Capricorn2')\n",
    "\n",
    "aa_bx = xr.open_dataset(f_path+'AuroraAustralis/aa1718_bx400_track.nc').assign_coords(Source='MARCUS')\n",
    "\n",
    "tan_bx = xr.open_dataset(f_path+'TAN1802/tan1718_bx400_track.nc').assign_coords(Source='TAN1802')\n",
    "\n",
    "cgo_bx = xr.open_dataset(f_path+'CGO/cgo1618_bx400_track.nc').assign_coords(Source='CGO')\n",
    "\n",
    "mqi_bx = xr.open_dataset(f_path+'MQI/mqi1618_bx400_track.nc').assign_coords(Source='MQI')\n",
    "\n",
    "bx400_data = [rvi_bx,\n",
    "              r2r_bx,\n",
    "              i2e_bx,\n",
    "              cap1_bx,\n",
    "              cap2_bx,\n",
    "              aa_bx,\n",
    "              tan_bx,\n",
    "              cgo_bx,\n",
    "              mqi_bx,]\n",
    "\n",
    "bx400_ds = xr.concat(bx400_data, dim='Source')"
   ]
  },
  {
   "cell_type": "code",
   "execution_count": 88,
   "id": "8dc0aedd-9bd0-4f6a-801f-bd5f097952dd",
   "metadata": {
    "tags": []
   },
   "outputs": [],
   "source": [
    "# load in data\n",
    "f_path = '/g/data/jk72/ll6859/ACCESS_aero_eval/'\n",
    "rvi_bx = xr.open_dataset(f_path+'RVInvestigator/rvi1619_cg283_track.nc').assign_coords(Source='RVI')\n",
    "\n",
    "r2r_bx = xr.open_dataset(f_path+'Reef2Rain/r2r16_cg283_track.nc').assign_coords(Source='Reef2Rain')\n",
    "\n",
    "i2e_bx = xr.open_dataset(f_path+'Ice2Equator/i2e16_cg283_track.nc').assign_coords(Source='Ice2Equ')\n",
    "\n",
    "cap1_bx = xr.open_dataset(f_path+'Capricorn/cap16_cg283_track.nc').assign_coords(Source='Capricorn1')\n",
    "\n",
    "cap2_bx = xr.open_dataset(f_path+'Capricorn/cap18_cg283_track.nc').assign_coords(Source='Capricorn2')\n",
    "\n",
    "aa_bx = xr.open_dataset(f_path+'AuroraAustralis/aa1718_cg283_track.nc').assign_coords(Source='MARCUS')\n",
    "\n",
    "tan_bx = xr.open_dataset(f_path+'TAN1802/tan1718_cg283_track.nc').assign_coords(Source='TAN1802')\n",
    "\n",
    "cgo_bx = xr.open_dataset(f_path+'CGO/cgo1618_cg283_track.nc').assign_coords(Source='CGO')\n",
    "\n",
    "mqi_bx = xr.open_dataset(f_path+'MQI/mqi1618_cg283_track.nc').assign_coords(Source='MQI')\n",
    "\n",
    "cg283_data = [rvi_bx,\n",
    "              r2r_bx,\n",
    "              i2e_bx,\n",
    "              cap1_bx,\n",
    "              cap2_bx,\n",
    "              aa_bx,\n",
    "              tan_bx,\n",
    "              cgo_bx,\n",
    "              mqi_bx,]\n",
    "\n",
    "cg283_ds = xr.concat(cg283_data, dim='Source')"
   ]
  },
  {
   "cell_type": "code",
   "execution_count": null,
   "id": "05be81ca-e1b2-419e-9d0b-06c3a335c73d",
   "metadata": {},
   "outputs": [],
   "source": []
  }
 ],
 "metadata": {
  "kernelspec": {
   "display_name": "Python [conda env:analysis3-22.04]",
   "language": "python",
   "name": "conda-env-analysis3-22.04-py"
  },
  "language_info": {
   "codemirror_mode": {
    "name": "ipython",
    "version": 3
   },
   "file_extension": ".py",
   "mimetype": "text/x-python",
   "name": "python",
   "nbconvert_exporter": "python",
   "pygments_lexer": "ipython3",
   "version": "3.9.13"
  }
 },
 "nbformat": 4,
 "nbformat_minor": 5
}
