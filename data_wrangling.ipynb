{
 "cells": [
  {
   "cell_type": "code",
   "execution_count": 1,
   "id": "6044d0a9-9a9e-4b21-8703-59e3e03681f1",
   "metadata": {},
   "outputs": [],
   "source": [
    "import sys\n",
    "import os\n",
    "sys.path.append('/g/data/jk72/ll6859/ACCESS_aero_eval/')\n",
    "from aercode import *\n",
    "import matplotlib \n",
    "import matplotlib.pyplot as plt \n",
    "import pandas as pd\n",
    "import numpy as np\n",
    "import xarray as xr\n",
    "import glob as gb\n",
    "import cartopy.crs as ccrs\n",
    "import seaborn as sns\n",
    "import scipy.special\n",
    "from datetime import datetime\n",
    "\n",
    "import dask\n",
    "import warnings\n",
    "from dask.distributed import Client"
   ]
  },
  {
   "cell_type": "code",
   "execution_count": 2,
   "id": "ee3c3add-5068-4de9-9b3c-31a597944f4f",
   "metadata": {},
   "outputs": [],
   "source": [
    "plt.style.use('default')\n",
    "warnings.filterwarnings('ignore')"
   ]
  },
  {
   "cell_type": "markdown",
   "id": "7d77e0a2-e7c1-439c-9f14-f20d25a13da2",
   "metadata": {},
   "source": [
    "# RVInvestigator"
   ]
  },
  {
   "cell_type": "markdown",
   "id": "21389933-f6c3-4338-a344-714dcbc5d541",
   "metadata": {},
   "source": [
    "bx400"
   ]
  },
  {
   "cell_type": "code",
   "execution_count": 4,
   "id": "ee031289-e13e-4355-9123-b688292f3e05",
   "metadata": {},
   "outputs": [],
   "source": [
    "# load in all observations and resample\n",
    "f_path = '/g/data/jk72/ll6859/ACCESS_aero_eval/RVInvestigator/'\n",
    "aer = pd.read_csv(f_path+'rvigaw_cn10_2016to2019_L2.csv', index_col='datetime')\n",
    "aer['time'] = pd.DatetimeIndex(aer.index)\n",
    "aer.index = aer['time']\n",
    "aer = aer.resample('1D', kind='time').mean()\n",
    "aer = aer[['cn10_avg','cn10_std','latitude','longitude']].dropna()\n",
    "aer.rename(columns={'latitude': 'lat', 'longitude': 'lon'}, inplace=True)\n",
    "\n",
    "\n",
    "met = pd.read_csv(f_path+'RVI-met.csv', delimiter=',', skiprows=54, index_col='TIME')\n",
    "met['time'] = pd.DatetimeIndex(met.index)\n",
    "met.index = met['time'].astype('datetime64[ns]')\n",
    "met = met[['AIRT_1','ATMP','RAIN_AMOUNT_1','WDIR_1','WSPD_1']]\n",
    "met['RAIN_AMOUNT_1'] = met['RAIN_AMOUNT_1'].diff()\n",
    "met['RAIN_AMOUNT_1'][met['RAIN_AMOUNT_1']<0]=0\n",
    "met_tmp = met\n",
    "met = met.resample('1D', kind='time').mean()\n",
    "met['RAIN_AMOUNT_1'] = met_tmp['RAIN_AMOUNT_1'].resample('1D', kind='time').sum()\n",
    "met['RAIN_AMOUNT_1'][met['RAIN_AMOUNT_1']>60]=np.nan\n",
    "met.rename(columns={'AIRT_1': 'air_temp', 'RAIN_AMOUNT_1': 'total_rain', 'ATMP': 'air_pressure', 'WDIR_1': 'wind_dir', 'WSPD_1': 'wind_spd'}, inplace=True)\n",
    "\n",
    "rdn = pd.read_excel(f_path+'2020_05_29d_RVI_1420_Radon.xlsx', sheet_name='RVI1420', index_col='DateTime')\n",
    "rdn['time'] = pd.DatetimeIndex(rdn.index)\n",
    "rdn.index = rdn['time']\n",
    "rdn = rdn[rdn['Radon']>0]\n",
    "rdn = rdn.resample('1D', kind='time').mean()\n",
    "rdn = rdn[['Radon','[SD]','RnSTP']].dropna()\n",
    "rdn.rename(columns={'Radon': 'radon', '[SD]': 'radon_std', 'RnSTP': 'radon_stp'}, inplace=True)"
   ]
  },
  {
   "cell_type": "code",
   "execution_count": 5,
   "id": "18c87b20-1f8c-4f04-8ea6-76130238edd7",
   "metadata": {
    "tags": []
   },
   "outputs": [],
   "source": [
    "# convert observations to a dataset\n",
    "obs = aer.to_xarray()\n",
    "obs = obs.assign(met)\n",
    "obs = obs.assign(rdn)"
   ]
  },
  {
   "cell_type": "code",
   "execution_count": 7,
   "id": "0dabe6b7-ca15-4199-9a6b-c8a2a8dbae81",
   "metadata": {},
   "outputs": [],
   "source": [
    "# load in model data\n",
    "rvi_bx400 = xr.open_dataset(f_path+'rvi1619_bx400_track.nc')"
   ]
  },
  {
   "cell_type": "code",
   "execution_count": 8,
   "id": "e689fae2-a685-4768-8d4d-22af6571da00",
   "metadata": {},
   "outputs": [],
   "source": [
    "# merge model and obs\n",
    "rvi_df = xr.merge([rvi_bx400,obs],compat='override')\n",
    "\n",
    "# remove outliers\n",
    "rvi_df = rvi_df.where(rvi_df['cn10_avg']<10000)\n",
    "rvi_df = rvi_df.drop('z1_hybrid_height').squeeze()\n",
    "\n",
    "# Edit data attributes\n",
    "rvi_df.attrs['title'] = 'ACCESS-AM2 model output (bx400) and observations along the 2016-2019 RV Investigator voyage tracks'\n",
    "rvi_df.attrs['contacts'] = 'Liam.Lamprey@utas.edu.au'"
   ]
  },
  {
   "cell_type": "code",
   "execution_count": 10,
   "id": "513cdd8f-24a8-4db1-9682-c785a47d4a50",
   "metadata": {},
   "outputs": [],
   "source": [
    "rvi_df.load().to_netcdf(path=f_path+'rvi1619_bx400_df.nc')"
   ]
  },
  {
   "cell_type": "markdown",
   "id": "7b8b286b-52a9-4e80-abe6-3f6ae07e16e2",
   "metadata": {},
   "source": [
    "cg283"
   ]
  },
  {
   "cell_type": "code",
   "execution_count": 11,
   "id": "587bced1-29c8-40e8-b4bd-01103cb110da",
   "metadata": {},
   "outputs": [],
   "source": [
    "# load in model data\n",
    "rvi_cg283 = xr.open_dataset(f_path+'rvi1619_cg283_track.nc')"
   ]
  },
  {
   "cell_type": "code",
   "execution_count": 12,
   "id": "a12e4a26-4708-4dd2-a57b-7c3575e3a093",
   "metadata": {},
   "outputs": [],
   "source": [
    "# merge model and obs\n",
    "rvi_df = xr.merge([rvi_cg283,obs],compat='override')\n",
    "\n",
    "# remove outliers\n",
    "rvi_df = rvi_df.where(rvi_df['cn10_avg']<10000)\n",
    "rvi_df = rvi_df.drop('z1_hybrid_height').squeeze()\n",
    "\n",
    "# Edit data attributes\n",
    "rvi_df.attrs['title'] = 'ACCESS-AM2 model output (cg283) and observations along the 2016-2019 RV Investigator voyage tracks'\n",
    "rvi_df.attrs['contacts'] = 'Liam.Lamprey@utas.edu.au'"
   ]
  },
  {
   "cell_type": "code",
   "execution_count": 13,
   "id": "dd8c7fa3-d3b0-430f-a73e-b77dc3425432",
   "metadata": {},
   "outputs": [],
   "source": [
    "rvi_df.load().to_netcdf(path=f_path+'rvi1619_cg283_df.nc')"
   ]
  },
  {
   "cell_type": "markdown",
   "id": "788a035b-254e-4f18-a279-4f824ea1d691",
   "metadata": {},
   "source": [
    "# Cold Water Trial"
   ]
  },
  {
   "cell_type": "markdown",
   "id": "2c788d45-4be2-43ca-be7f-061d34353d4b",
   "metadata": {},
   "source": [
    "bx400"
   ]
  },
  {
   "cell_type": "code",
   "execution_count": 14,
   "id": "13062866-6bf5-4a18-aa88-39eedf69acb7",
   "metadata": {
    "tags": []
   },
   "outputs": [],
   "source": [
    "# f_path = '/g/data/jk72/ll6859/ACCESS_aero_eval/ColdWaterTrial/'\n",
    "\n",
    "# df = pd.read_csv(f_path+'CWT_ProcessedAerosolData_1min.csv', delimiter=',', index_col='date')\n",
    "# df['time'] = pd.DatetimeIndex(df.index)\n",
    "# df.index = df['time'].astype('datetime64[ns]')\n",
    "# df = df[['lat','lon','AirTemp_port','AirTemp_stbd','atmPress','WindSpdTru','Radon_hrly','CN_mean']]\n",
    "# df = df.dropna()\n",
    "# df = df.resample('1D', kind='time').mean()"
   ]
  },
  {
   "cell_type": "markdown",
   "id": "f1a65bf2-7f83-4d76-8cd1-7faec9756781",
   "metadata": {},
   "source": [
    "# Reef 2 Rainforest"
   ]
  },
  {
   "cell_type": "markdown",
   "id": "0eed8f5a-46bc-47b8-a486-721780bdac19",
   "metadata": {},
   "source": [
    "bx400"
   ]
  },
  {
   "cell_type": "code",
   "execution_count": 15,
   "id": "6bd07a7b-bcf7-4c5a-a248-e0a74965e31e",
   "metadata": {},
   "outputs": [],
   "source": [
    "f_path = '/g/data/jk72/ll6859/ACCESS_aero_eval/Reef2Rain/'\n",
    "\n",
    "df = pd.read_csv(f_path+'R2R_RV_aerosol.csv', index_col='date')\n",
    "df['time'] = pd.DatetimeIndex(df.index)\n",
    "df.index = df['time'].astype('datetime64[ns]')\n",
    "df = df.resample('1D', kind='time').mean()\n",
    "df = df.dropna()\n",
    "df['air_temp'] = (df['AirTemp_port']+df['AirTemp_stbd'])/2\n",
    "df['wind_spd'] = (df['WindSpdTru_port']+df['WindSpdTru_stbd'])/2\n",
    "df = df[['lat','lon','air_temp','atmPress','WindDir', 'wind_spd', 'Radon_hrly','CN3_mean','CN10_mean','CCN_mean']]\n",
    "df.rename(columns={'atmPress': 'air_pressure', \n",
    "                   'WindDir': 'wind_dir', \n",
    "                   'Radon_hrly': 'radon', \n",
    "                   'CN3_mean': 'cn3_avg', \n",
    "                   'CN10_mean': 'cn10_avg', \n",
    "                   'CCN_mean': 'ccn_avg'}, inplace=True)"
   ]
  },
  {
   "cell_type": "code",
   "execution_count": 16,
   "id": "69bb91e3-91d7-48e4-8be2-40aaf9e738ab",
   "metadata": {},
   "outputs": [],
   "source": [
    "# convert observations to a dataset\n",
    "obs = df.to_xarray()"
   ]
  },
  {
   "cell_type": "code",
   "execution_count": 17,
   "id": "bdebc269-620a-4913-8bd5-8c9eca6215ce",
   "metadata": {},
   "outputs": [],
   "source": [
    "# load in model data\n",
    "r2r_bx400 = xr.open_dataset(f_path+'r2r16_bx400_track.nc')"
   ]
  },
  {
   "cell_type": "code",
   "execution_count": 18,
   "id": "aa7374ce-ff8e-4dcd-b77a-42de154ffec9",
   "metadata": {},
   "outputs": [],
   "source": [
    "# merge model and obs\n",
    "r2r_df = xr.merge([r2r_bx400,obs],compat='override')\n",
    "\n",
    "# remove outliers\n",
    "r2r_df = r2r_df.where(r2r_df['cn10_avg']<10000)\n",
    "r2r_df = r2r_df.drop('z1_hybrid_height').squeeze()\n",
    "\n",
    "# Edit data attributes\n",
    "r2r_df.attrs['title'] = 'ACCESS-AM2 model output (cg283) and observations along the 2016 Reef 2 Rainforest voyage tracks'\n",
    "r2r_df.attrs['contacts'] = 'Liam.Lamprey@utas.edu.au'"
   ]
  },
  {
   "cell_type": "code",
   "execution_count": 19,
   "id": "194982d4-4c31-47fb-a94d-61a2bbf1d1bd",
   "metadata": {},
   "outputs": [],
   "source": [
    "r2r_df.load().to_netcdf(path=f_path+'r2r16_bx400_df.nc')"
   ]
  },
  {
   "cell_type": "markdown",
   "id": "580573fb-c619-4b7d-a045-23588cf00b41",
   "metadata": {},
   "source": [
    "cg283"
   ]
  },
  {
   "cell_type": "code",
   "execution_count": 20,
   "id": "7e88afba-aff3-4bf1-ac19-0e080a5e0d3a",
   "metadata": {},
   "outputs": [],
   "source": [
    "# load in model data\n",
    "r2r_cg283 = xr.open_dataset(f_path+'r2r16_cg283_track.nc')"
   ]
  },
  {
   "cell_type": "code",
   "execution_count": 21,
   "id": "08ae971c-f8d2-4ec5-94c0-1ee8729c3708",
   "metadata": {},
   "outputs": [],
   "source": [
    "# merge model and obs\n",
    "r2r_df = xr.merge([r2r_cg283,obs],compat='override')\n",
    "\n",
    "# remove outliers\n",
    "r2r_df = r2r_df.where(r2r_df['cn10_avg']<10000)\n",
    "r2r_df = r2r_df.drop('z1_hybrid_height').squeeze()\n",
    "\n",
    "# Edit data attributes\n",
    "r2r_df.attrs['title'] = 'ACCESS-AM2 model output (cg283) and observations along the 2016 Reef 2 Rainforest voyage tracks'\n",
    "r2r_df.attrs['contacts'] = 'Liam.Lamprey@utas.edu.au'"
   ]
  },
  {
   "cell_type": "code",
   "execution_count": 22,
   "id": "c5a8537b-524e-4158-8721-ae61374ea400",
   "metadata": {},
   "outputs": [],
   "source": [
    "r2r_df.load().to_netcdf(path=f_path+'r2r16_cg283_df.nc')"
   ]
  },
  {
   "cell_type": "markdown",
   "id": "d2b2d1b0-06b4-4449-940b-6f5bd6906bab",
   "metadata": {},
   "source": [
    "# Ice 2 Equator"
   ]
  },
  {
   "cell_type": "markdown",
   "id": "cffa87c4-0b19-4ff8-915a-36750f51a006",
   "metadata": {},
   "source": [
    "bx400"
   ]
  },
  {
   "cell_type": "code",
   "execution_count": 89,
   "id": "3f234b13-019f-4a6b-a484-535e622eb8e5",
   "metadata": {
    "tags": []
   },
   "outputs": [],
   "source": [
    "f_path = '/g/data/jk72/ll6859/ACCESS_aero_eval/Ice2Equator/'\n",
    "\n",
    "df = pd.read_csv(f_path+'I2E_ProcessedAerosolData_1min.csv', index_col='date')\n",
    "df['time'] = pd.DatetimeIndex(df.index)\n",
    "df.index = df['time'].astype('datetime64[ns]')\n",
    "df = df.resample('1D', kind='time').mean()\n",
    "df = df.dropna()\n",
    "df['air_temp'] = (df['AirTemp_port']+df['AirTemp_stbd'])/2\n",
    "df['wind_spd'] = (df['WindSpdTru_port']+df['WindSpdTru_stbd'])/2\n",
    "df = df[['lat','lon','air_temp','atmPress','wind_spd','Radon_hrly','CN_mean','CN_std']]\n",
    "df.rename(columns={'atmPress': 'air_pressure',\n",
    "                   'Radon_hrly': 'radon', \n",
    "                   'CN_mean': 'cn3_avg', \n",
    "                   'CN_std': 'cn3_std'}, inplace=True)"
   ]
  },
  {
   "cell_type": "code",
   "execution_count": 91,
   "id": "5eed117f-90fc-4d40-bda2-ffb21dc3afdb",
   "metadata": {},
   "outputs": [],
   "source": [
    "# convert observations to a dataset\n",
    "obs = df.to_xarray()"
   ]
  },
  {
   "cell_type": "code",
   "execution_count": 92,
   "id": "2114a239-b0d0-4a09-8d28-b6ceb425b2b3",
   "metadata": {},
   "outputs": [],
   "source": [
    "# load in model data\n",
    "i2e_bx400 = xr.open_dataset(f_path+'i2e16_bx400_track.nc')"
   ]
  },
  {
   "cell_type": "code",
   "execution_count": 96,
   "id": "83b12202-ff6c-4bcb-96ff-a7de65ca7591",
   "metadata": {},
   "outputs": [],
   "source": [
    "# merge model and obs\n",
    "i2e_df = xr.merge([i2e_bx400,obs],compat='override')\n",
    "\n",
    "# remove outliers\n",
    "i2e_df = i2e_df.where(i2e_df['cn3_avg']<10000)\n",
    "i2e_df = i2e_df.drop('z1_hybrid_height').squeeze()\n",
    "\n",
    "# Edit data attributes\n",
    "i2e_df.attrs['title'] = 'ACCESS-AM2 model output (bx400) and observations along the 2016 Ice 2 Equator voyage tracks'\n",
    "i2e_df.attrs['contacts'] = 'Liam.Lamprey@utas.edu.au'"
   ]
  },
  {
   "cell_type": "code",
   "execution_count": 98,
   "id": "7ef7d8f7-fd3b-4674-8502-f8015e6ed224",
   "metadata": {},
   "outputs": [],
   "source": [
    "i2e_df.load().to_netcdf(path=f_path+'i2e16_bx400_df.nc')"
   ]
  },
  {
   "cell_type": "markdown",
   "id": "098d9306-f3c0-4c50-9866-00fd6e0f9087",
   "metadata": {},
   "source": [
    "cg283"
   ]
  },
  {
   "cell_type": "code",
   "execution_count": 99,
   "id": "f4b65650-a8b1-45e8-afbd-4b895ac2d422",
   "metadata": {},
   "outputs": [],
   "source": [
    "# load in model data\n",
    "i2e_cg283 = xr.open_dataset(f_path+'i2e16_cg283_track.nc')"
   ]
  },
  {
   "cell_type": "code",
   "execution_count": 100,
   "id": "27db9eca-11c3-4cdb-8748-e78a95838346",
   "metadata": {},
   "outputs": [],
   "source": [
    "# merge model and obs\n",
    "i2e_df = xr.merge([i2e_cg283,obs],compat='override')\n",
    "\n",
    "# remove outliers\n",
    "i2e_df = i2e_df.where(i2e_df['cn3_avg']<10000)\n",
    "i2e_df = i2e_df.drop('z1_hybrid_height').squeeze()\n",
    "\n",
    "# Edit data attributes\n",
    "i2e_df.attrs['title'] = 'ACCESS-AM2 model output (cg283) and observations along the 2016 Ice 2 Equator voyage tracks'\n",
    "i2e_df.attrs['contacts'] = 'Liam.Lamprey@utas.edu.au'"
   ]
  },
  {
   "cell_type": "code",
   "execution_count": 101,
   "id": "f8f8b698-2011-4199-b093-218f0c92cf02",
   "metadata": {},
   "outputs": [],
   "source": [
    "i2e_df.load().to_netcdf(path=f_path+'i2e16_cg283_df.nc')"
   ]
  },
  {
   "cell_type": "markdown",
   "id": "d6946915-39dc-4c07-a7ff-55481519bb80",
   "metadata": {},
   "source": [
    "# CAPRICORN I"
   ]
  },
  {
   "cell_type": "markdown",
   "id": "668d833c-053a-4fea-ae61-67d49ef929d5",
   "metadata": {},
   "source": [
    "bx400"
   ]
  },
  {
   "cell_type": "code",
   "execution_count": 130,
   "id": "314d3286-8509-422c-9066-efb9c777ba1e",
   "metadata": {},
   "outputs": [],
   "source": [
    "f_path = '/g/data/jk72/ll6859/ACCESS_aero_eval/Capricorn/'\n",
    "\n",
    "aer = pd.read_hdf(f_path+'aerosol_1sec.h5')\n",
    "aer.index.name = 'time'\n",
    "aer = aer.resample('1D', kind='time').mean()\n",
    "aer.rename(columns={'ccn_0.5504': 'ccn_avg',\n",
    "                   'ccn_sigma': 'ccn_std', \n",
    "                   'cn3': 'cn3_avg', \n",
    "                   'cn3_sigma': 'cn3_std'}, inplace=True)\n",
    "\n",
    "met = pd.read_csv(f_path+'in2016_v02uwy10sec.csv', parse_dates=[['date', 'time']], index_col='date_time')\n",
    "met = met.resample('1D').mean()\n",
    "met['air_temp'] = (met['portAirTemp(degC)']+met['stbdAirTemp(degC)'])/2\n",
    "met = met[['latitude(degree_north)','longitude(degree_east)','air_temp','atmPressure(mbar)','rain(mm)']]\n",
    "met.rename(columns = {\"latitude(degree_north)\": \"lat\",\n",
    "                      \"longitude(degree_east)\": \"lon\",\n",
    "                      \"atmPressure(mbar)\": \"air_pressure\",\n",
    "                      \"rain(mm)\": \"total_rain\"}, inplace=True)\n",
    "met.index.name = 'time'   "
   ]
  },
  {
   "cell_type": "code",
   "execution_count": 131,
   "id": "e5a3446d-020b-4805-a14b-97ce9dd18f4c",
   "metadata": {
    "tags": []
   },
   "outputs": [],
   "source": [
    "# convert observations to a dataset\n",
    "obs = aer.to_xarray()\n",
    "obs = obs.assign(met)"
   ]
  },
  {
   "cell_type": "code",
   "execution_count": 133,
   "id": "c6aa5337-cb52-4b7a-bdbe-bc44a74c9bd9",
   "metadata": {},
   "outputs": [],
   "source": [
    "# load in model data\n",
    "cap1_bx400 = xr.open_dataset(f_path+'cap16_bx400_track.nc')"
   ]
  },
  {
   "cell_type": "code",
   "execution_count": 135,
   "id": "a899dd67-1c9f-472c-a817-fcbf39b3d7c2",
   "metadata": {},
   "outputs": [],
   "source": [
    "# merge model and obs\n",
    "cap1_df = xr.merge([cap1_bx400,obs],compat='override')\n",
    "\n",
    "# remove outliers\n",
    "cap1_df = cap1_df.where(cap1_df['cn3_avg']<10000)\n",
    "cap1_df = cap1_df.drop('z1_hybrid_height').squeeze()\n",
    "\n",
    "# Edit data attributes\n",
    "cap1_df.attrs['title'] = 'ACCESS-AM2 model output (bx400) and observations along the 2016 CAPRICORN I voyage tracks'\n",
    "cap1_df.attrs['contacts'] = 'Liam.Lamprey@utas.edu.au'"
   ]
  },
  {
   "cell_type": "code",
   "execution_count": 137,
   "id": "71c1b154-5691-45d7-9654-7bf9296bed8c",
   "metadata": {},
   "outputs": [],
   "source": [
    "cap1_df.load().to_netcdf(path=f_path+'cap16_bx400_df.nc')"
   ]
  },
  {
   "cell_type": "markdown",
   "id": "8fefcbe5-c814-4473-9265-57d9915fa98e",
   "metadata": {},
   "source": [
    "cg283"
   ]
  },
  {
   "cell_type": "code",
   "execution_count": 138,
   "id": "b0937054-3d2b-4763-bee5-91f73f410bd6",
   "metadata": {},
   "outputs": [],
   "source": [
    "# load in model data\n",
    "cap1_cg283 = xr.open_dataset(f_path+'cap16_cg283_track.nc')"
   ]
  },
  {
   "cell_type": "code",
   "execution_count": 139,
   "id": "cc2a8bbb-576d-489f-8138-0cf8c724df8b",
   "metadata": {},
   "outputs": [],
   "source": [
    "# merge model and obs\n",
    "cap1_df = xr.merge([cap1_cg283,obs],compat='override')\n",
    "\n",
    "# remove outliers\n",
    "cap1_df = cap1_df.where(cap1_df['cn3_avg']<10000)\n",
    "cap1_df = cap1_df.drop('z1_hybrid_height').squeeze()\n",
    "\n",
    "# Edit data attributes\n",
    "cap1_df.attrs['title'] = 'ACCESS-AM2 model output (cg283) and observations along the 2016 CAPRICORN I voyage tracks'\n",
    "cap1_df.attrs['contacts'] = 'Liam.Lamprey@utas.edu.au'"
   ]
  },
  {
   "cell_type": "code",
   "execution_count": 140,
   "id": "03ee8f99-7939-4597-a9dd-5069ce576d0b",
   "metadata": {},
   "outputs": [],
   "source": [
    "cap1_df.load().to_netcdf(path=f_path+'cap16_cg283_df.nc')"
   ]
  },
  {
   "cell_type": "markdown",
   "id": "fe2bf590-0e4e-457a-b238-254d3b4b5b7a",
   "metadata": {},
   "source": [
    "# CAPRICORN II"
   ]
  },
  {
   "cell_type": "markdown",
   "id": "4b105c57-c620-4472-aac1-01b3f9d3593d",
   "metadata": {},
   "source": [
    "bx400"
   ]
  },
  {
   "cell_type": "code",
   "execution_count": 206,
   "id": "ec73363b-eec2-4e4a-8f2d-6b1445ca658f",
   "metadata": {},
   "outputs": [],
   "source": [
    "f_path = '/g/data/jk72/ll6859/ACCESS_aero_eval/Capricorn/'\n",
    "\n",
    "aer = pd.read_csv(f_path+'capricorn2_cpc3772_L2_1H.csv', index_col=0)\n",
    "aer.index.name = 'time'\n",
    "aer['time'] = pd.DatetimeIndex(aer.index)\n",
    "aer.index = aer['time'].astype('datetime64[ns]')\n",
    "aer = aer.resample('1D', kind='time').mean()\n",
    "aer = aer[['cn_avg', 'cn_std']]\n",
    "aer.rename(columns={'cn_avg': 'cn10_avg',\n",
    "                   'cn_std': 'cn10_std'}, inplace=True)\n",
    "\n",
    "met = pd.read_csv(f_path+'in2018_v01uwy10sec.csv', parse_dates=[['date', 'time']], index_col='date_time')\n",
    "for v in met.select_dtypes('object'):\n",
    "    met[v] = pd.to_numeric(met[v], errors='coerce')\n",
    "met.index.name = 'time'\n",
    "met = met.resample('1D').mean()\n",
    "met['air_temp'] = (met['portAirTemp(degC)']+met['stbdAirTemp(degC)'])/2\n",
    "met['total_rain'] = (met['portRain(mm)']+met['stbdRain(mm)'])/2\n",
    "met['wind_spd'] = (met['portTrueWindSpeed(knot)']+met['stbdTrueWindSpeed(knot)'])/2*1.944\n",
    "met['wind_dir'] = (met['portTrueWindDir(degree)']+met['stbdTrueWindDir(degree)'])/2\n",
    "met = met[['latitude(degree_north)','longitude(degree_east)','air_temp','atmPressure(mbar)','total_rain','wind_spd','wind_dir']]\n",
    "met.rename(columns = {\"latitude(degree_north)\": \"lat\",\n",
    "                            \"longitude(degree_east)\": \"lon\",\n",
    "                            \"atmPressure(mbar)\": \"air_pressure\"}, inplace=True)"
   ]
  },
  {
   "cell_type": "code",
   "execution_count": 207,
   "id": "c7c9c06c-cadb-4c99-aa1e-9e8d3dcbea08",
   "metadata": {
    "tags": []
   },
   "outputs": [],
   "source": [
    "# convert observations to a dataset\n",
    "obs = aer.to_xarray()\n",
    "obs = obs.assign(met)"
   ]
  },
  {
   "cell_type": "code",
   "execution_count": 208,
   "id": "72a209b1-1bef-46eb-8beb-f54165cf241d",
   "metadata": {},
   "outputs": [],
   "source": [
    "# load in model data\n",
    "cap2_bx400 = xr.open_dataset(f_path+'cap18_bx400_track.nc')"
   ]
  },
  {
   "cell_type": "code",
   "execution_count": 209,
   "id": "75cc7b73-3520-4044-8902-6ad27a50f115",
   "metadata": {},
   "outputs": [],
   "source": [
    "# merge model and obs\n",
    "cap2_df = xr.merge([cap2_bx400,obs],compat='override')\n",
    "\n",
    "# remove outliers\n",
    "cap2_df = cap2_df.where(cap2_df['cn10_avg']<10000)\n",
    "cap2_df = cap2_df.drop('z1_hybrid_height').squeeze()\n",
    "\n",
    "# Edit data attributes\n",
    "cap2_df.attrs['title'] = 'ACCESS-AM2 model output (bx400) and observations along the 2018 CAPRICORN II voyage tracks'\n",
    "cap2_df.attrs['contacts'] = 'Liam.Lamprey@utas.edu.au'"
   ]
  },
  {
   "cell_type": "code",
   "execution_count": 211,
   "id": "3ce8c893-d747-40fa-b3c1-f02de7f9c25c",
   "metadata": {},
   "outputs": [],
   "source": [
    "cap2_df.load().to_netcdf(path=f_path+'cap18_bx400_df.nc')"
   ]
  },
  {
   "cell_type": "markdown",
   "id": "d7eecefa-338c-418e-8b3c-3b067ebe3027",
   "metadata": {},
   "source": [
    "cg283"
   ]
  },
  {
   "cell_type": "code",
   "execution_count": 212,
   "id": "0fc3e203-2d9c-43f0-b8f5-3fb9f95e5910",
   "metadata": {},
   "outputs": [],
   "source": [
    "# load in model data\n",
    "cap2_cg283 = xr.open_dataset(f_path+'cap18_cg283_track.nc')"
   ]
  },
  {
   "cell_type": "code",
   "execution_count": 213,
   "id": "c6e85dd6-b70d-49aa-b0e8-1bf7a007ea13",
   "metadata": {},
   "outputs": [],
   "source": [
    "# merge model and obs\n",
    "cap2_df = xr.merge([cap2_cg283,obs],compat='override')\n",
    "\n",
    "# remove outliers\n",
    "cap2_df = cap2_df.where(cap2_df['cn10_avg']<10000)\n",
    "cap2_df = cap2_df.drop('z1_hybrid_height').squeeze()\n",
    "\n",
    "# Edit data attributes\n",
    "cap2_df.attrs['title'] = 'ACCESS-AM2 model output (cg283) and observations along the 2018 CAPRICORN II voyage tracks'\n",
    "cap2_df.attrs['contacts'] = 'Liam.Lamprey@utas.edu.au'"
   ]
  },
  {
   "cell_type": "code",
   "execution_count": 214,
   "id": "8014d589-af7e-4fa4-9387-22770a6454de",
   "metadata": {},
   "outputs": [],
   "source": [
    "cap2_df.load().to_netcdf(path=f_path+'cap18_cg283_df.nc')"
   ]
  },
  {
   "cell_type": "markdown",
   "id": "23a12e9f-6ac6-499e-ae90-b4bf7a8a3de0",
   "metadata": {},
   "source": [
    "# MARCUS"
   ]
  },
  {
   "cell_type": "markdown",
   "id": "504deb82-6a89-4a15-a5ec-8b63b5b2b918",
   "metadata": {},
   "source": [
    "bx400"
   ]
  },
  {
   "cell_type": "code",
   "execution_count": 34,
   "id": "e4cefd25-b503-4afd-9ecf-9d8ad6c78f11",
   "metadata": {},
   "outputs": [],
   "source": [
    "# load in all observations and resample\n",
    "f_path = '/g/data/jk72/ll6859/ACCESS_aero_eval/AuroraAustralis/'\n",
    "\n",
    "aer = pd.read_csv(f_path+'CN_MARCUS_1hr.csv', index_col=0)\n",
    "aer.index.name = 'time'\n",
    "aer['time'] = pd.DatetimeIndex(aer.index)\n",
    "aer.index = aer['time']\n",
    "aer = aer.resample('1D', kind='time').mean()\n",
    "aer = aer[['cn_avg','cn_std','lat','lon']].dropna()\n",
    "aer.rename(columns={'cn_avg': 'cn10_avg', 'cn_std': 'cn10_std'}, inplace=True)\n",
    "\n",
    "met = pd.read_csv(f_path+'marcus-met.csv', delimiter=',', skiprows=54, index_col='TIME')\n",
    "met['time'] = pd.DatetimeIndex(met.index)\n",
    "met.index = met['time'].astype('datetime64[ns]')\n",
    "met = met[['AIRT_1','ATMP','RAIN_AMOUNT_1','WDIR_1','WSPD_1']]\n",
    "met['RAIN_AMOUNT_1'] = met['RAIN_AMOUNT_1'].diff()\n",
    "met['RAIN_AMOUNT_1'][met['RAIN_AMOUNT_1']<0]=0\n",
    "met_tmp = met\n",
    "met = met.resample('1D', kind='time').mean()\n",
    "met['RAIN_AMOUNT_1'] = met_tmp['RAIN_AMOUNT_1'].resample('1D', kind='time').sum()\n",
    "met.rename(columns={'AIRT_1': 'air_temp', 'RAIN_AMOUNT_1': 'total_rain', 'ATMP': 'air_pressure', 'WDIR_1': 'wind_dir', 'WSPD_1': 'wind_spd'}, inplace=True)"
   ]
  },
  {
   "cell_type": "code",
   "execution_count": 35,
   "id": "95a17e5b-8cdd-4163-8daa-f17a2253153c",
   "metadata": {
    "tags": []
   },
   "outputs": [],
   "source": [
    "# convert observations to a dataset\n",
    "obs = aer.to_xarray()\n",
    "obs = obs.assign(met)"
   ]
  },
  {
   "cell_type": "code",
   "execution_count": 37,
   "id": "93ce46fa-1217-4a83-aeeb-058d89342b81",
   "metadata": {},
   "outputs": [],
   "source": [
    "# load in model data\n",
    "aa_bx400 = xr.open_dataset(f_path+'aa1718_bx400_track.nc')"
   ]
  },
  {
   "cell_type": "code",
   "execution_count": 38,
   "id": "38a21264-1f7e-4dd4-b797-eada7e74ffbb",
   "metadata": {},
   "outputs": [],
   "source": [
    "# merge model and obs\n",
    "aa_df = xr.merge([aa_bx400,obs],compat='override')\n",
    "\n",
    "# remove outliers\n",
    "aa_df = aa_df.where(aa_df['cn10_avg']<10000)\n",
    "aa_df = aa_df.drop('z1_hybrid_height').squeeze()\n",
    "\n",
    "# Edit data attributes\n",
    "aa_df.attrs['title'] = 'ACCESS-AM2 model output (bx400) and observations along the 2017-2018 MARCUS voyage tracks'\n",
    "aa_df.attrs['contacts'] = 'Liam.Lamprey@utas.edu.au'"
   ]
  },
  {
   "cell_type": "code",
   "execution_count": 39,
   "id": "ca888a1b-0078-447a-9f81-f00bd36dc3da",
   "metadata": {},
   "outputs": [
    {
     "name": "stderr",
     "output_type": "stream",
     "text": [
      "IOStream.flush timed out\n",
      "IOStream.flush timed out\n",
      "IOStream.flush timed out\n"
     ]
    }
   ],
   "source": [
    "aa_df.load().to_netcdf(path=f_path+'aa1718_bx400_df.nc')"
   ]
  },
  {
   "cell_type": "markdown",
   "id": "19d52aba-3b3e-4459-af4d-21064aeb6a73",
   "metadata": {},
   "source": [
    "cg283"
   ]
  },
  {
   "cell_type": "code",
   "execution_count": 41,
   "id": "684a6b85-e931-4940-a30f-64cb408e702f",
   "metadata": {},
   "outputs": [],
   "source": [
    "# load in model data\n",
    "aa_cg283 = xr.open_dataset(f_path+'aa1718_cg283_track.nc')"
   ]
  },
  {
   "cell_type": "code",
   "execution_count": 43,
   "id": "5c59f0b0-97e6-41cd-bbe5-616612d8f919",
   "metadata": {},
   "outputs": [],
   "source": [
    "# merge model and obs\n",
    "aa_df = xr.merge([aa_cg283,obs],compat='override')\n",
    "\n",
    "# remove outliers\n",
    "aa_df = aa_df.where(aa_df['cn10_avg']<10000)\n",
    "aa_df = aa_df.drop('z1_hybrid_height').squeeze()\n",
    "\n",
    "# Edit data attributes\n",
    "aa_df.attrs['title'] = 'ACCESS-AM2 model output (cg283) and observations along the 2017-2018 MARCUS voyage tracks'\n",
    "aa_df.attrs['contacts'] = 'Liam.Lamprey@utas.edu.au'"
   ]
  },
  {
   "cell_type": "code",
   "execution_count": 44,
   "id": "a552bd5e-51c3-445b-a0f5-16796ad041b9",
   "metadata": {},
   "outputs": [],
   "source": [
    "aa_df.load().to_netcdf(path=f_path+'aa1718_cg283_df.nc')"
   ]
  },
  {
   "cell_type": "markdown",
   "id": "6d1a3db2-4e4b-49e1-9a1c-3ab17f9050dc",
   "metadata": {},
   "source": [
    "# TAN1802"
   ]
  },
  {
   "cell_type": "markdown",
   "id": "1a711ac2-2d97-435b-9266-3bc47758b945",
   "metadata": {},
   "source": [
    "bx400"
   ]
  },
  {
   "cell_type": "code",
   "execution_count": 52,
   "id": "3a642cb8-2f0f-4651-a226-e92f21025573",
   "metadata": {},
   "outputs": [],
   "source": [
    "# load in all observations and resample\n",
    "f_path = '/g/data/jk72/ll6859/ACCESS_aero_eval/TAN1802/'\n",
    "aer = xr.open_dataset(f_path+'CPC3010_TAN1802_2018_level_01.nc')\n",
    "aer = aer.rename({'number_concentration_of_ambient_aerosol_particles_in_air':'cn10',\n",
    "                  'number_concentration_of_ambient_aerosol_particles_in_air_flag':'cn10_flag'})\n",
    "aer = aer.where(aer.cn10_flag == 1)\n",
    "aer['cn10'] = aer['cn10']/1000000\n",
    "aer = aer.resample(time='1D').mean()\n",
    "aer = aer.rename({'cn10': 'cn10_avg'})\n",
    "\n",
    "uw = keycutter(f_path+'weather.csv','Time (UTC)', 'Latitude', 'Longitude')\n",
    "\n",
    "\n",
    "met = pd.read_csv(f_path+'TAN-met.csv', delimiter=',', skiprows=54, index_col='TIME')\n",
    "met['time'] = pd.DatetimeIndex(met.index)\n",
    "met.index = met['time'].astype('datetime64[ns]')\n",
    "met = met[['AIRT_1','ATMP','RAIN_AMOUNT_1','WDIR_1','WSPD_1']]\n",
    "met['RAIN_AMOUNT_1'] = met['RAIN_AMOUNT_1'].diff()\n",
    "met['RAIN_AMOUNT_1'][met['RAIN_AMOUNT_1']<0]=0\n",
    "met_tmp = met\n",
    "met = met.resample('1D', kind='time').mean()\n",
    "met['RAIN_AMOUNT_1'] = met_tmp['RAIN_AMOUNT_1'].resample('1D', kind='time').sum()\n",
    "met.rename(columns={'AIRT_1': 'air_temp', 'RAIN_AMOUNT_1': 'total_rain', 'ATMP': 'air_pressure', 'WDIR_1': 'wind_dir', 'WSPD_1': 'wind_spd'}, inplace=True)"
   ]
  },
  {
   "cell_type": "code",
   "execution_count": 53,
   "id": "46b5c99f-4677-4595-a920-0e7d1cf49278",
   "metadata": {
    "tags": []
   },
   "outputs": [],
   "source": [
    "# convert observations to a dataset\n",
    "obs = aer\n",
    "obs = obs.assign(uw)\n",
    "obs = obs.assign(met)"
   ]
  },
  {
   "cell_type": "code",
   "execution_count": 54,
   "id": "558f467d-ca20-4bd3-a921-68733647ec2f",
   "metadata": {},
   "outputs": [],
   "source": [
    "# load in model data\n",
    "tan_bx400 = xr.open_dataset(f_path+'tan1718_bx400_track.nc')"
   ]
  },
  {
   "cell_type": "code",
   "execution_count": 55,
   "id": "8fe74f38-ba2e-4f3b-98f2-3348748401c9",
   "metadata": {},
   "outputs": [],
   "source": [
    "# merge model and obs\n",
    "tan_df = xr.merge([tan_bx400,obs],compat='override')\n",
    "\n",
    "# remove outliers\n",
    "tan_df = tan_df.where(tan_df['cn10_avg']<10000)\n",
    "tan_df = tan_df.drop('z1_hybrid_height').squeeze()\n",
    "\n",
    "# Edit data attributes\n",
    "tan_df.attrs['title'] = 'ACCESS-AM2 model output (bx400) and observations along the 2017-2018 TAN1802 voyage tracks'\n",
    "tan_df.attrs['contacts'] = 'Liam.Lamprey@utas.edu.au'"
   ]
  },
  {
   "cell_type": "code",
   "execution_count": 56,
   "id": "65189ec3-7d6f-48fa-a6e6-83146deb2fbe",
   "metadata": {},
   "outputs": [],
   "source": [
    "tan_df.load().to_netcdf(path=f_path+'tan1718_bx400_df.nc')"
   ]
  },
  {
   "cell_type": "markdown",
   "id": "9fa2ca62-459e-4688-9391-30a76511253b",
   "metadata": {},
   "source": [
    "cg283"
   ]
  },
  {
   "cell_type": "code",
   "execution_count": 57,
   "id": "122844b5-d8d7-477d-bed2-af59d2fd41f0",
   "metadata": {},
   "outputs": [],
   "source": [
    "# load in model data\n",
    "tan_cg283 = xr.open_dataset(f_path+'tan1718_cg283_track.nc')"
   ]
  },
  {
   "cell_type": "code",
   "execution_count": 58,
   "id": "e59dcb6c-2350-4ce5-9cb2-951fd7430312",
   "metadata": {},
   "outputs": [],
   "source": [
    "# merge model and obs\n",
    "tan_df = xr.merge([tan_cg283,obs],compat='override')\n",
    "\n",
    "# remove outliers\n",
    "tan_df = tan_df.where(tan_df['cn10_avg']<10000)\n",
    "tan_df = tan_df.drop('z1_hybrid_height').squeeze()\n",
    "\n",
    "# Edit data attributes\n",
    "tan_df.attrs['title'] = 'ACCESS-AM2 model output (cg283) and observations along the 2017-2018 TAN1802 voyage tracks'\n",
    "tan_df.attrs['contacts'] = 'Liam.Lamprey@utas.edu.au'"
   ]
  },
  {
   "cell_type": "code",
   "execution_count": 60,
   "id": "b7ec52c3-a16a-4a69-a921-c7691eef6463",
   "metadata": {},
   "outputs": [],
   "source": [
    "tan_df.load().to_netcdf(path=f_path+'tan1718_cg283_df.nc')"
   ]
  },
  {
   "cell_type": "markdown",
   "id": "28298728-3a29-4432-9aae-a9a998f3fb9e",
   "metadata": {},
   "source": [
    "# Cape Grim"
   ]
  },
  {
   "cell_type": "markdown",
   "id": "a2ec2d19-747e-4e43-8098-bec2d53c10a6",
   "metadata": {},
   "source": [
    "bx400"
   ]
  },
  {
   "cell_type": "code",
   "execution_count": 62,
   "id": "2d3ab270-0de9-4c36-8ece-86dac952858f",
   "metadata": {},
   "outputs": [],
   "source": [
    "# load in all observations and resample\n",
    "f_path = '/g/data/jk72/ll6859/ACCESS_aero_eval/CGO/'\n",
    "aer = pd.read_excel(f_path+'cgbpaps_CN  2016-2018.xlsx', index_col='date')\n",
    "aer = aer.astype(np.float64).resample('1D',kind='time').mean()\n",
    "aer.index.name = 'time'\n",
    "aer = aer[['cn3772_mean','cn3772_sd']]\n",
    "aer.rename(columns={'cn3772_mean': 'cn10_avg', 'cn3772_sd': 'cn10_std'}, inplace=True)\n",
    "\n",
    "met = pd.read_excel(f_path+'CG_met_2015-2018.xlsx', index_col='date')\n",
    "met = met[['TempGC','Pressure','Rain','VWS10m','VWD10m']]\n",
    "met.index.name = 'time'\n",
    "met = met.resample('1D', kind='time').mean()\n",
    "met.rename(columns={'TempGC': 'air_temp', 'Rain': 'total_rain', 'Pressure': 'air_pressure', 'VWD10m': 'wind_dir', 'VWS10m': 'wind_spd'}, inplace=True)\n",
    "\n",
    "rdn = pd.read_excel(f_path+'2021_08_25a_CGO_Radon_2015-2018_ForLiam.xlsx', sheet_name='2015-2018-RadonMetCO2', index_col='DateTime')\n",
    "rdn.index.name = 'time'\n",
    "rdn = rdn[rdn['Radon']>0]\n",
    "rdn = rdn.resample('1D', kind='time').mean()\n",
    "rdn = rdn[['Radon','[SD]']].dropna()\n",
    "rdn.rename(columns={'Radon': 'radon', '[SD]': 'radon_std'}, inplace=True)"
   ]
  },
  {
   "cell_type": "code",
   "execution_count": 63,
   "id": "0b2b9691-f01b-40e1-a980-050251da0c4c",
   "metadata": {
    "tags": []
   },
   "outputs": [],
   "source": [
    "# convert observations to a dataset\n",
    "obs = aer.to_xarray()\n",
    "obs = obs.assign(met)\n",
    "obs = obs.assign(rdn)"
   ]
  },
  {
   "cell_type": "code",
   "execution_count": 66,
   "id": "240207bb-f793-434e-81cb-b482f4c00594",
   "metadata": {},
   "outputs": [],
   "source": [
    "# load in model data\n",
    "cgo_bx400 = xr.open_dataset(f_path+'cgo1618_bx400_track.nc')"
   ]
  },
  {
   "cell_type": "code",
   "execution_count": 67,
   "id": "65ca04a8-8344-4cc0-b944-a8e52bd7e127",
   "metadata": {},
   "outputs": [],
   "source": [
    "# merge model and obs\n",
    "cgo_df = xr.merge([cgo_bx400,obs],compat='override')\n",
    "\n",
    "# remove outliers\n",
    "cgo_df = cgo_df.where(cgo_df['cn10_avg']<10000)\n",
    "cgo_df = cgo_df.drop('z1_hybrid_height').squeeze()\n",
    "\n",
    "# Edit data attributes\n",
    "cgo_df.attrs['title'] = 'ACCESS-AM2 model output (bx400) and observations at the 2016-2018 Cape Grim Baseline Air Pollution Station'\n",
    "cgo_df.attrs['contacts'] = 'Liam.Lamprey@utas.edu.au'"
   ]
  },
  {
   "cell_type": "code",
   "execution_count": 69,
   "id": "611d42c8-aad4-4add-9464-360378a67bd5",
   "metadata": {},
   "outputs": [],
   "source": [
    "cgo_df.load().to_netcdf(path=f_path+'cgo1618_bx400_df.nc')"
   ]
  },
  {
   "cell_type": "markdown",
   "id": "17b74572-2fd1-4b2f-be9e-6bf6444f19f8",
   "metadata": {},
   "source": [
    "cg283"
   ]
  },
  {
   "cell_type": "code",
   "execution_count": 70,
   "id": "88a9c0b9-b6b6-44fc-b6d3-b068c08caeab",
   "metadata": {},
   "outputs": [],
   "source": [
    "# load in model data\n",
    "cgo_cg283 = xr.open_dataset(f_path+'cgo1618_cg283_track.nc')"
   ]
  },
  {
   "cell_type": "code",
   "execution_count": 71,
   "id": "c9dcc23b-9f23-48ab-942a-e2a4397d5ffa",
   "metadata": {},
   "outputs": [],
   "source": [
    "# merge model and obs\n",
    "cgo_df = xr.merge([cgo_cg283,obs],compat='override')\n",
    "\n",
    "# remove outliers\n",
    "cgo_df = cgo_df.where(cgo_df['cn10_avg']<10000)\n",
    "cgo_df = cgo_df.drop('z1_hybrid_height').squeeze()\n",
    "\n",
    "# Edit data attributes\n",
    "cgo_df.attrs['title'] = 'ACCESS-AM2 model output (cg283) and observations at the 2016-2018 Cape Grim Baseline Air Pollution Station'\n",
    "cgo_df.attrs['contacts'] = 'Liam.Lamprey@utas.edu.au'"
   ]
  },
  {
   "cell_type": "code",
   "execution_count": 73,
   "id": "3bdb99fc-66c6-4ea7-aaf3-d7b477b705d8",
   "metadata": {},
   "outputs": [],
   "source": [
    "cgo_df.load().to_netcdf(path=f_path+'cgo1618_cg283_df.nc')"
   ]
  },
  {
   "cell_type": "markdown",
   "id": "106bd0fb-b12b-4289-b050-13f348ea79f6",
   "metadata": {},
   "source": [
    "# Macquarie Island"
   ]
  },
  {
   "cell_type": "markdown",
   "id": "b6eb2742-b547-49d2-8430-72ef7d660fe6",
   "metadata": {},
   "source": [
    "bx400"
   ]
  },
  {
   "cell_type": "code",
   "execution_count": 74,
   "id": "dc77a13a-7342-45cb-9cf1-791363a8d13b",
   "metadata": {},
   "outputs": [],
   "source": [
    "# load in all observations and resample\n",
    "f_path = '/g/data/jk72/ll6859/ACCESS_aero_eval/MQI/'\n",
    "aer = pd.read_hdf(f_path+'ACRE_CN10_1H_FINAL.h5')\n",
    "aer.index.name = 'time'\n",
    "aer = aer[['cn_avg','cn_std']]\n",
    "aer = aer.resample('1D', kind='time').mean()\n",
    "aer.rename(columns={'cn_avg': 'cn10_avg', 'cn_std': 'cn10_std'}, inplace=True)\n",
    "\n",
    "met = []\n",
    "all_files = gb.glob(f_path+'AWS_hourly/*.csv')\n",
    "met = pd.concat([pd.read_csv(v) for v in all_files])\n",
    "met.index = met['MIN_OBSERVATION_DATE_'].astype('datetime64[ns]')\n",
    "met.index.name = 'time'\n",
    "met['AVG_RAINFALL'] = met['AVG_RAINFALL'].diff()\n",
    "met['AVG_RAINFALL'][met['AVG_RAINFALL']<0]=0\n",
    "met_tmp = met\n",
    "met = met.resample('1D', kind='time').mean()\n",
    "met['AVG_RAINFALL'] = met_tmp['AVG_RAINFALL'].resample('1D', kind='time').sum()\n",
    "met = met[['AVG_AIR_TEMPERATURE','AVG_WIND_DIRECTION','AVG_WIND_SPEED','AVG_AIR_PRESSURE','AVG_RAINFALL']]\n",
    "met.rename(columns={'AVG_AIR_TEMPERATURE': 'air_temp', 'AVG_RAINFALL': 'total_rain', 'AVG_AIR_PRESSURE': 'air_pressure', 'AVG_WIND_DIRECTION': 'wind_dir', 'AVG_WIND_SPEED': 'wind_spd'}, inplace=True)\n",
    "\n",
    "rdn = pd.read_excel(f_path+'2021_09_15a_MQI_Radon_2013-2019_ForLiamLamprey.xlsx',\n",
    "                    sheet_name='Radon_MQI_2013-2019',\n",
    "                    index_col='DateTime')\n",
    "rdn.index.name = 'time'\n",
    "rdn = rdn[rdn['Radon']>0]\n",
    "rdn = rdn.resample('1D', kind='time').mean()\n",
    "rdn = rdn[['Radon','[SD]']].dropna()\n",
    "rdn.rename(columns={'Radon': 'radon', '[SD]': 'radon_std'}, inplace=True)"
   ]
  },
  {
   "cell_type": "code",
   "execution_count": 75,
   "id": "626024d6-147a-4e14-bc41-2380644729ac",
   "metadata": {
    "tags": []
   },
   "outputs": [],
   "source": [
    "# convert observations to a dataset\n",
    "obs = aer.to_xarray()\n",
    "obs = obs.assign(met)\n",
    "obs = obs.assign(rdn)"
   ]
  },
  {
   "cell_type": "code",
   "execution_count": 79,
   "id": "b25c425b-09af-4621-8155-805de14546e8",
   "metadata": {},
   "outputs": [],
   "source": [
    "# load in model data\n",
    "mqi_bx400 = xr.open_dataset(f_path+'mqi1618_bx400_track.nc')"
   ]
  },
  {
   "cell_type": "code",
   "execution_count": 80,
   "id": "d25917c4-ba2e-4323-bda1-771c88be5eb8",
   "metadata": {},
   "outputs": [],
   "source": [
    "# merge model and obs\n",
    "mqi_df = xr.merge([mqi_bx400,obs],compat='override')\n",
    "\n",
    "# remove outliers\n",
    "mqi_df = mqi_df.where(mqi_df['cn10_avg']<10000)\n",
    "mqi_df = mqi_df.drop('z1_hybrid_height').squeeze()\n",
    "\n",
    "# Edit data attributes\n",
    "mqi_df.attrs['title'] = 'ACCESS-AM2 model output (bx400) and observations at the 2016-2018 Macquarie Island Research Station'\n",
    "mqi_df.attrs['contacts'] = 'Liam.Lamprey@utas.edu.au'"
   ]
  },
  {
   "cell_type": "code",
   "execution_count": 81,
   "id": "8df83430-1688-44d4-8d6a-873c42c2fd97",
   "metadata": {},
   "outputs": [],
   "source": [
    "mqi_df.load().to_netcdf(path=f_path+'mqi1618_bx400_df.nc')"
   ]
  },
  {
   "cell_type": "markdown",
   "id": "7546abae-f25c-44a2-b7c7-bc84509ef172",
   "metadata": {},
   "source": [
    "cg283"
   ]
  },
  {
   "cell_type": "code",
   "execution_count": 82,
   "id": "97054dc2-cd1b-4288-a440-06b83c936926",
   "metadata": {},
   "outputs": [],
   "source": [
    "# load in model data\n",
    "mqi_cg283 = xr.open_dataset(f_path+'mqi1618_cg283_track.nc')"
   ]
  },
  {
   "cell_type": "code",
   "execution_count": 85,
   "id": "46e4c79f-23a1-42ef-8a7b-ffef6f89e442",
   "metadata": {},
   "outputs": [],
   "source": [
    "# merge model and obs\n",
    "mqi_df = xr.merge([mqi_cg283,obs],compat='override')\n",
    "\n",
    "# remove outliers\n",
    "mqi_df = mqi_df.where(mqi_df['cn10_avg']<10000)\n",
    "mqi_df = mqi_df.drop('z1_hybrid_height').squeeze()\n",
    "\n",
    "# Edit data attributes\n",
    "mqi_df.attrs['title'] = 'ACCESS-AM2 model output (cg283) and observations at the 2016-2018 Macquarie Island Research Station'\n",
    "mqi_df.attrs['contacts'] = 'Liam.Lamprey@utas.edu.au'"
   ]
  },
  {
   "cell_type": "code",
   "execution_count": 86,
   "id": "957b2104-9490-4476-a2ad-75f48f31f0a6",
   "metadata": {},
   "outputs": [],
   "source": [
    "mqi_df.load().to_netcdf(path=f_path+'mqi1618_cg283_df.nc')"
   ]
  },
  {
   "cell_type": "code",
   "execution_count": null,
   "id": "13c54b65-cca8-4380-9f87-93c975435e88",
   "metadata": {},
   "outputs": [],
   "source": []
  }
 ],
 "metadata": {
  "kernelspec": {
   "display_name": "Python [conda env:analysis3-22.04]",
   "language": "python",
   "name": "conda-env-analysis3-22.04-py"
  },
  "language_info": {
   "codemirror_mode": {
    "name": "ipython",
    "version": 3
   },
   "file_extension": ".py",
   "mimetype": "text/x-python",
   "name": "python",
   "nbconvert_exporter": "python",
   "pygments_lexer": "ipython3",
   "version": "3.9.13"
  }
 },
 "nbformat": 4,
 "nbformat_minor": 5
}
